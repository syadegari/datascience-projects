{
 "cells": [
  {
   "cell_type": "markdown",
   "metadata": {},
   "source": [
    "# Optimizing AI Trading Algorithms - Course Project\n"
   ]
  },
  {
   "cell_type": "markdown",
   "metadata": {},
   "source": [
    "In this project you will practice optimizing various aspects of a machine learning model for predicting stock price movements. This will provide you with an opportunity to integrate the concepts covered in the course, such as data preprocessing and cleaning, hyperparameter tuning, detecting and addressing over-/under-fitting, model evaluation, and feature selection techniques. While you will use real-world data in this project, the goal is not necessarily to build a \"winning\" trading _strategy_. The goal of this course has been to equip you with the tools, techniques, concepts and insights you need to evaluate, optimize and monitor *your own* trading strategies.\n"
   ]
  },
  {
   "cell_type": "markdown",
   "metadata": {},
   "source": [
    "## The Scenario"
   ]
  },
  {
   "cell_type": "markdown",
   "metadata": {},
   "source": [
    "You are an analyst at a boutique investment firm tasked with coming up with a novel idea for investing in specific sectors of the industry. You've heard that the Utilities, Consumer Staples and Healthcare sectors are relatively resilient to economic shocks and recessions, and that stock market investors tend to flock to these sectors in times of uncertainty. You decide to take the [SPDR Healthcase Sector ETF (NYSEARCA: XLV)](https://www.sectorspdrs.com/mainfund/XLV) and try to model its returns' dynamics using a machine learning AI strategy. Your novel idea is to get data for the volatility index [(INDEXCBOE: VIX)](https://www.cboe.com/tradable_products/vix/) as a proxy for uncertainty in the market. You also decide to take a look at [Google Trends data](https://trends.google.com/trends/explore?date=all&geo=US&q=recession) for the search term \"recession\" in the United States, in order to try and see if there is any meaningful relationship between the general public's level of concern about a recession happening and the price movements of the Health Care Select Sector SPDR Fund.\n"
   ]
  },
  {
   "cell_type": "markdown",
   "metadata": {},
   "source": [
    "You decide to train a binary **classification** model that merely attempts to predict the **direction** of XLV's 5-day price movements. In other words, you want to see if on any given day, with the above data in hand, you could reliably predict whether the price of XLV will increase or decrease over the next 5 trading days."
   ]
  },
  {
   "cell_type": "markdown",
   "metadata": {},
   "source": [
    "Run the cell below to `import` all the Python packages and modules you will be using throughout the project."
   ]
  },
  {
   "cell_type": "code",
   "execution_count": 1,
   "metadata": {},
   "outputs": [],
   "source": [
    "! pip install --upgrade pip ta --quiet"
   ]
  },
  {
   "cell_type": "code",
   "execution_count": 2,
   "metadata": {},
   "outputs": [],
   "source": [
    "import matplotlib.dates as mdates\n",
    "import matplotlib.pyplot as plt\n",
    "import numpy as np\n",
    "import pandas as pd\n",
    "import plotly.express as px\n",
    "import plotly.graph_objects as go\n",
    "import seaborn as sns\n",
    "import yfinance as yf\n",
    "from plotly.subplots import make_subplots\n",
    "from sklearn.ensemble import RandomForestClassifier\n",
    "from sklearn.metrics import (\n",
    "    accuracy_score,\n",
    "    classification_report,\n",
    "    confusion_matrix,\n",
    "    f1_score,\n",
    "    precision_score,\n",
    "    recall_score,\n",
    ")\n",
    "from sklearn.preprocessing import FunctionTransformer, OrdinalEncoder\n",
    "from sklearn.pipeline import make_pipeline\n",
    "from sklearn.model_selection import GridSearchCV, learning_curve, train_test_split\n",
    "from ta.momentum import RSIIndicator\n",
    "from ta.volatility import BollingerBands\n",
    "\n",
    "pd.options.display.max_columns = 50\n",
    "pd.options.display.max_rows = 50\n",
    "\n",
    "RANDOM_SEED = 42"
   ]
  },
  {
   "cell_type": "markdown",
   "metadata": {},
   "source": [
    "## 1. Data Acquisition, Exploration, Cleaning and Preprocessing\n"
   ]
  },
  {
   "cell_type": "markdown",
   "metadata": {},
   "source": [
    "In this section, you will download and inspect:\n",
    "\n",
    "- daily data for the SPDR Healthcase Sector ETF (NYSEARCA: XLV)\n",
    "- daily data for the volatility index (INDEXCBOE: VIX)\n",
    "- monthly data from Google Trends for the search interest in the term \"recession\" in the United States\n",
    "\n",
    "The goal is to make sure the data is clean, meaningful, and usable for selecting and engineering features.\n"
   ]
  },
  {
   "cell_type": "markdown",
   "metadata": {},
   "source": [
    "### 1.1. Price and Volume Data for \"XLV\"\n"
   ]
  },
  {
   "cell_type": "markdown",
   "metadata": {},
   "source": [
    "We have downloded daily data from **January 1st, 2004** to **March 31st, 2024** for the ticker **XLV** using the `yfinance` library and stored it in a CSV file named `xlv_data.csv`. Load this data into a Pandas DataFrame named `xlv_data`, making sure to set the index column to the first column of the CSV file (`Date`) and set `parse_dates=True`.\n"
   ]
  },
  {
   "cell_type": "code",
   "execution_count": 3,
   "metadata": {},
   "outputs": [],
   "source": [
    "xlv_data = pd.read_csv(\"xlv_data.csv\", parse_dates=['Date']).set_index('Date')"
   ]
  },
  {
   "cell_type": "markdown",
   "metadata": {},
   "source": [
    "Use the `info()` and `describe()` methods to get an overview of how many rows of data there are in `xlv_data`, what columns are present and what their data types are, and what some basic statistics (mean, std, quartiles, min/max values) of the columns look like.\n"
   ]
  },
  {
   "cell_type": "code",
   "execution_count": 4,
   "metadata": {},
   "outputs": [
    {
     "name": "stdout",
     "output_type": "stream",
     "text": [
      "<class 'pandas.core.frame.DataFrame'>\n",
      "DatetimeIndex: 5094 entries, 2004-01-02 to 2024-03-28\n",
      "Data columns (total 6 columns):\n",
      " #   Column     Non-Null Count  Dtype  \n",
      "---  ------     --------------  -----  \n",
      " 0   Open       5094 non-null   float64\n",
      " 1   High       5094 non-null   float64\n",
      " 2   Low        5094 non-null   float64\n",
      " 3   Close      5094 non-null   float64\n",
      " 4   Adj Close  5094 non-null   float64\n",
      " 5   Volume     5094 non-null   int64  \n",
      "dtypes: float64(5), int64(1)\n",
      "memory usage: 278.6 KB\n"
     ]
    }
   ],
   "source": [
    "xlv_data.info()"
   ]
  },
  {
   "cell_type": "code",
   "execution_count": 5,
   "metadata": {},
   "outputs": [
    {
     "data": {
      "text/html": [
       "<div>\n",
       "<style scoped>\n",
       "    .dataframe tbody tr th:only-of-type {\n",
       "        vertical-align: middle;\n",
       "    }\n",
       "\n",
       "    .dataframe tbody tr th {\n",
       "        vertical-align: top;\n",
       "    }\n",
       "\n",
       "    .dataframe thead th {\n",
       "        text-align: right;\n",
       "    }\n",
       "</style>\n",
       "<table border=\"1\" class=\"dataframe\">\n",
       "  <thead>\n",
       "    <tr style=\"text-align: right;\">\n",
       "      <th></th>\n",
       "      <th>Open</th>\n",
       "      <th>High</th>\n",
       "      <th>Low</th>\n",
       "      <th>Close</th>\n",
       "      <th>Adj Close</th>\n",
       "      <th>Volume</th>\n",
       "    </tr>\n",
       "  </thead>\n",
       "  <tbody>\n",
       "    <tr>\n",
       "      <th>count</th>\n",
       "      <td>5094.000000</td>\n",
       "      <td>5094.000000</td>\n",
       "      <td>5094.000000</td>\n",
       "      <td>5094.000000</td>\n",
       "      <td>5094.000000</td>\n",
       "      <td>5.094000e+03</td>\n",
       "    </tr>\n",
       "    <tr>\n",
       "      <th>mean</th>\n",
       "      <td>65.342311</td>\n",
       "      <td>65.730397</td>\n",
       "      <td>64.924197</td>\n",
       "      <td>65.349097</td>\n",
       "      <td>58.242299</td>\n",
       "      <td>7.228951e+06</td>\n",
       "    </tr>\n",
       "    <tr>\n",
       "      <th>std</th>\n",
       "      <td>36.695351</td>\n",
       "      <td>36.915853</td>\n",
       "      <td>36.477869</td>\n",
       "      <td>36.712468</td>\n",
       "      <td>37.932219</td>\n",
       "      <td>5.445803e+06</td>\n",
       "    </tr>\n",
       "    <tr>\n",
       "      <th>min</th>\n",
       "      <td>22.010000</td>\n",
       "      <td>22.290001</td>\n",
       "      <td>21.629999</td>\n",
       "      <td>21.879999</td>\n",
       "      <td>16.812475</td>\n",
       "      <td>5.870000e+04</td>\n",
       "    </tr>\n",
       "    <tr>\n",
       "      <th>25%</th>\n",
       "      <td>31.990000</td>\n",
       "      <td>32.132501</td>\n",
       "      <td>31.812500</td>\n",
       "      <td>31.990000</td>\n",
       "      <td>24.508568</td>\n",
       "      <td>3.790550e+06</td>\n",
       "    </tr>\n",
       "    <tr>\n",
       "      <th>50%</th>\n",
       "      <td>57.100000</td>\n",
       "      <td>57.400000</td>\n",
       "      <td>56.680000</td>\n",
       "      <td>57.010000</td>\n",
       "      <td>48.387001</td>\n",
       "      <td>6.582850e+06</td>\n",
       "    </tr>\n",
       "    <tr>\n",
       "      <th>75%</th>\n",
       "      <td>90.657503</td>\n",
       "      <td>91.077497</td>\n",
       "      <td>89.927500</td>\n",
       "      <td>90.557499</td>\n",
       "      <td>82.941315</td>\n",
       "      <td>9.559550e+06</td>\n",
       "    </tr>\n",
       "    <tr>\n",
       "      <th>max</th>\n",
       "      <td>147.919998</td>\n",
       "      <td>148.270004</td>\n",
       "      <td>147.679993</td>\n",
       "      <td>147.860001</td>\n",
       "      <td>147.729996</td>\n",
       "      <td>6.647020e+07</td>\n",
       "    </tr>\n",
       "  </tbody>\n",
       "</table>\n",
       "</div>"
      ],
      "text/plain": [
       "              Open         High          Low        Close    Adj Close  \\\n",
       "count  5094.000000  5094.000000  5094.000000  5094.000000  5094.000000   \n",
       "mean     65.342311    65.730397    64.924197    65.349097    58.242299   \n",
       "std      36.695351    36.915853    36.477869    36.712468    37.932219   \n",
       "min      22.010000    22.290001    21.629999    21.879999    16.812475   \n",
       "25%      31.990000    32.132501    31.812500    31.990000    24.508568   \n",
       "50%      57.100000    57.400000    56.680000    57.010000    48.387001   \n",
       "75%      90.657503    91.077497    89.927500    90.557499    82.941315   \n",
       "max     147.919998   148.270004   147.679993   147.860001   147.729996   \n",
       "\n",
       "             Volume  \n",
       "count  5.094000e+03  \n",
       "mean   7.228951e+06  \n",
       "std    5.445803e+06  \n",
       "min    5.870000e+04  \n",
       "25%    3.790550e+06  \n",
       "50%    6.582850e+06  \n",
       "75%    9.559550e+06  \n",
       "max    6.647020e+07  "
      ]
     },
     "execution_count": 5,
     "metadata": {},
     "output_type": "execute_result"
    }
   ],
   "source": [
    "xlv_data.describe()"
   ]
  },
  {
   "cell_type": "markdown",
   "metadata": {},
   "source": [
    "How many `NaN` rows are there in `xlv_data`?\n"
   ]
  },
  {
   "cell_type": "code",
   "execution_count": 6,
   "metadata": {},
   "outputs": [
    {
     "data": {
      "text/plain": [
       "Open         0\n",
       "High         0\n",
       "Low          0\n",
       "Close        0\n",
       "Adj Close    0\n",
       "Volume       0\n",
       "dtype: int64"
      ]
     },
     "execution_count": 6,
     "metadata": {},
     "output_type": "execute_result"
    }
   ],
   "source": [
    "xlv_data.isna().sum()"
   ]
  },
  {
   "cell_type": "markdown",
   "metadata": {},
   "source": [
    "Take a look at the final five rows of `xlv_data`.\n"
   ]
  },
  {
   "cell_type": "code",
   "execution_count": 7,
   "metadata": {},
   "outputs": [
    {
     "data": {
      "text/html": [
       "<div>\n",
       "<style scoped>\n",
       "    .dataframe tbody tr th:only-of-type {\n",
       "        vertical-align: middle;\n",
       "    }\n",
       "\n",
       "    .dataframe tbody tr th {\n",
       "        vertical-align: top;\n",
       "    }\n",
       "\n",
       "    .dataframe thead th {\n",
       "        text-align: right;\n",
       "    }\n",
       "</style>\n",
       "<table border=\"1\" class=\"dataframe\">\n",
       "  <thead>\n",
       "    <tr style=\"text-align: right;\">\n",
       "      <th></th>\n",
       "      <th>Open</th>\n",
       "      <th>High</th>\n",
       "      <th>Low</th>\n",
       "      <th>Close</th>\n",
       "      <th>Adj Close</th>\n",
       "      <th>Volume</th>\n",
       "    </tr>\n",
       "    <tr>\n",
       "      <th>Date</th>\n",
       "      <th></th>\n",
       "      <th></th>\n",
       "      <th></th>\n",
       "      <th></th>\n",
       "      <th></th>\n",
       "      <th></th>\n",
       "    </tr>\n",
       "  </thead>\n",
       "  <tbody>\n",
       "    <tr>\n",
       "      <th>2024-03-22</th>\n",
       "      <td>145.850006</td>\n",
       "      <td>146.220001</td>\n",
       "      <td>145.259995</td>\n",
       "      <td>145.440002</td>\n",
       "      <td>145.440002</td>\n",
       "      <td>5537200</td>\n",
       "    </tr>\n",
       "    <tr>\n",
       "      <th>2024-03-25</th>\n",
       "      <td>145.710007</td>\n",
       "      <td>145.860001</td>\n",
       "      <td>145.009995</td>\n",
       "      <td>145.240005</td>\n",
       "      <td>145.240005</td>\n",
       "      <td>5253000</td>\n",
       "    </tr>\n",
       "    <tr>\n",
       "      <th>2024-03-26</th>\n",
       "      <td>145.529999</td>\n",
       "      <td>145.940002</td>\n",
       "      <td>145.139999</td>\n",
       "      <td>145.770004</td>\n",
       "      <td>145.770004</td>\n",
       "      <td>6942400</td>\n",
       "    </tr>\n",
       "    <tr>\n",
       "      <th>2024-03-27</th>\n",
       "      <td>147.009995</td>\n",
       "      <td>147.710007</td>\n",
       "      <td>146.619995</td>\n",
       "      <td>147.710007</td>\n",
       "      <td>147.710007</td>\n",
       "      <td>8797400</td>\n",
       "    </tr>\n",
       "    <tr>\n",
       "      <th>2024-03-28</th>\n",
       "      <td>147.919998</td>\n",
       "      <td>148.229996</td>\n",
       "      <td>147.679993</td>\n",
       "      <td>147.729996</td>\n",
       "      <td>147.729996</td>\n",
       "      <td>8090200</td>\n",
       "    </tr>\n",
       "  </tbody>\n",
       "</table>\n",
       "</div>"
      ],
      "text/plain": [
       "                  Open        High         Low       Close   Adj Close  \\\n",
       "Date                                                                     \n",
       "2024-03-22  145.850006  146.220001  145.259995  145.440002  145.440002   \n",
       "2024-03-25  145.710007  145.860001  145.009995  145.240005  145.240005   \n",
       "2024-03-26  145.529999  145.940002  145.139999  145.770004  145.770004   \n",
       "2024-03-27  147.009995  147.710007  146.619995  147.710007  147.710007   \n",
       "2024-03-28  147.919998  148.229996  147.679993  147.729996  147.729996   \n",
       "\n",
       "             Volume  \n",
       "Date                 \n",
       "2024-03-22  5537200  \n",
       "2024-03-25  5253000  \n",
       "2024-03-26  6942400  \n",
       "2024-03-27  8797400  \n",
       "2024-03-28  8090200  "
      ]
     },
     "execution_count": 7,
     "metadata": {},
     "output_type": "execute_result"
    }
   ],
   "source": [
    "xlv_data.tail()"
   ]
  },
  {
   "cell_type": "markdown",
   "metadata": {},
   "source": [
    "Raw OHLC data is not suitable for training models. The absolute price level of a security is boundless in theory and not particularly menaningful. In the next section, you are going to engineer useful features from all of these columns. For now, as a visual sanity check, plot `Adj Close` as a line plot.\n"
   ]
  },
  {
   "cell_type": "code",
   "execution_count": 8,
   "metadata": {},
   "outputs": [
    {
     "data": {
      "text/plain": [
       "<Axes: title={'center': 'XLV Adjusted Close'}, xlabel='Date'>"
      ]
     },
     "execution_count": 8,
     "metadata": {},
     "output_type": "execute_result"
    },
    {
     "data": {
      "image/png": "[encoded data removed]",
      "text/plain": [
       "<Figure size 1200x600 with 1 Axes>"
      ]
     },
     "metadata": {},
     "output_type": "display_data"
    }
   ],
   "source": [
    "xlv_data['Adj Close'].plot(title='XLV Adjusted Close', figsize=(12,6), lw=0.8)"
   ]
  },
  {
   "cell_type": "markdown",
   "metadata": {},
   "source": [
    "**Bonus**: The cell below plots the combined candlestick + volume chart for the last 15 months of data using Plotly.\n"
   ]
  },
  {
   "cell_type": "code",
   "execution_count": 9,
   "metadata": {},
   "outputs": [
    {
     "data": {
      "application/vnd.plotly.v1+json": {
       "config": {
        "plotlyServerURL": "https://plot.ly"
       },
       "data": [
        {
         "close": [
          135.4600067138672,
          135.82000732421875,
          134.42999267578125,
          135.6699981689453,
          133.39999389648438,
          134.52000427246094,
          135.27999877929688,
          134.85000610351562,
          135.4499969482422,
          134.82000732421875,
          132.9199981689453,
          133.24000549316406,
          133.91000366210938,
          134.3699951171875,
          133.47999572753906,
          133.52000427246094,
          133.77000427246094,
          132.86000061035156,
          131.66000366210938,
          133.36000061035156,
          133.99000549316406,
          133.0800018310547,
          132.69000244140625,
          131.9499969482422,
          132.8000030517578,
          132.41000366210938,
          131.25,
          132.49000549316406,
          133.58999633789062,
          132.8000030517578,
          132.13999938964844,
          130.82000732421875,
          131.99000549316406,
          130.27999877929688,
          129.83999633789062,
          130.19000244140625,
          128.50999450683594,
          128.1199951171875,
          127.16999816894533,
          126.95999908447266,
          127.73999786376952,
          129.1699981689453,
          129.11000061035156,
          127.02999877929688,
          126.3499984741211,
          125.06999969482422,
          124.1500015258789,
          125.30999755859376,
          126.43000030517578,
          126.31999969482422,
          127.5,
          125.86000061035156,
          126.95999908447266,
          127.7300033569336,
          125.8000030517578,
          125.55999755859376,
          127.3000030517578,
          127.81999969482422,
          127.0500030517578,
          127.4000015258789,
          128.08999633789062,
          129.4600067138672,
          130.91000366210938,
          130.92999267578125,
          133.19000244140625,
          133.52000427246094,
          133.42999267578125,
          133.8800048828125,
          133.9199981689453,
          135.66000366210938,
          134.57000732421875,
          134.4600067138672,
          133.5399932861328,
          133.9499969482422,
          133.39999389648438,
          134.3000030517578,
          135.0500030517578,
          133.61000061035156,
          131.7100067138672,
          132.39999389648438,
          133.52999877929688,
          134.22000122070312,
          133.63999938964844,
          133.4600067138672,
          132.39999389648438,
          133.58999633789062,
          133.3000030517578,
          132.41000366210938,
          132.77999877929688,
          132.3699951171875,
          132.19000244140625,
          131.9600067138672,
          130.86000061035156,
          131.02000427246094,
          130.6999969482422,
          131.30999755859375,
          131.44000244140625,
          130,
          129.11000061035156,
          127.79000091552734,
          127.52999877929688,
          126.73999786376952,
          127.83000183105467,
          128.6699981689453,
          130.32000732421875,
          130.7899932861328,
          129.6999969482422,
          129.19000244140625,
          130.02000427246094,
          130.4199981689453,
          130.88999938964844,
          131.5500030517578,
          130.1999969482422,
          132.22000122070312,
          132.2100067138672,
          131.52000427246094,
          131.5399932861328,
          132.44000244140625,
          132,
          131.25,
          130.9499969482422,
          130.52999877929688,
          131.3800048828125,
          132.72999572753906,
          131.63999938964844,
          131.57000732421875,
          130.52000427246094,
          129,
          130.02000427246094,
          130.0500030517578,
          129.6999969482422,
          129.75,
          131.6999969482422,
          131.10000610351562,
          132.07000732421875,
          132.67999267578125,
          134.8800048828125,
          136.24000549316406,
          135.94000244140625,
          135.8800048828125,
          135.7899932861328,
          134.7899932861328,
          135.19000244140625,
          134.14999389648438,
          133.4499969482422,
          133.5399932861328,
          132.8699951171875,
          132.39999389648438,
          133.92999267578125,
          134.9600067138672,
          134.9199981689453,
          134.8300018310547,
          135.6699981689453,
          136.0800018310547,
          135.5800018310547,
          134.5500030517578,
          133.47999572753906,
          133.52999877929688,
          133.6699981689453,
          133.1999969482422,
          133.60000610351562,
          132.44000244140625,
          133.41000366210938,
          133.72000122070312,
          134.9199981689453,
          134.82000732421875,
          133.2100067138672,
          133.57000732421875,
          132.19000244140625,
          131.47000122070312,
          132.05999755859375,
          132.05999755859375,
          132.97000122070312,
          132.8000030517578,
          132.82000732421875,
          133.24000549316406,
          132.19000244140625,
          131.4499969482422,
          131.55999755859375,
          131.57000732421875,
          130.4199981689453,
          130.14999389648438,
          130.86000061035156,
          129.75,
          129.10000610351562,
          129.72000122070312,
          128.74000549316406,
          128.55999755859375,
          127.41999816894533,
          127.95999908447266,
          128.66000366210938,
          130.00999450683594,
          130.4600067138672,
          131.0800018310547,
          130.5,
          129.3800048828125,
          130.19000244140625,
          131.1699981689453,
          130.99000549316406,
          129.85000610351562,
          128.57000732421875,
          128.05999755859375,
          127.26000213623048,
          127.6500015258789,
          126.51000213623048,
          125.26000213623048,
          123.13999938964844,
          123.83000183105467,
          124.54000091552734,
          124.8000030517578,
          126.77999877929688,
          127.41000366210938,
          128.25999450683594,
          128.35000610351562,
          128.1699981689453,
          125.5199966430664,
          126.2699966430664,
          127,
          127.86000061035156,
          127.95999908447266,
          128.50999450683594,
          128.25,
          129.02999877929688,
          129.80999755859375,
          130.42999267578125,
          131.1300048828125,
          130.30999755859375,
          129.63999938964844,
          129.67999267578125,
          131.30999755859375,
          131.8300018310547,
          132.0800018310547,
          131.91000366210938,
          132.00999450683594,
          131.85000610351562,
          132.07000732421875,
          132.94000244140625,
          133.50999450683594,
          135.97000122070312,
          135.30999755859375,
          134.16000366210938,
          133.77999877929688,
          134.67999267578125,
          132.72999572753906,
          134.35000610351562,
          135.02000427246094,
          135.32000732421875,
          135.88999938964844,
          136.24000549316406,
          136.3800048828125,
          138.77999877929688,
          138.5500030517578,
          139.24000549316406,
          139.1199951171875,
          140.35000610351562,
          140.3300018310547,
          140.97000122070312,
          140.8699951171875,
          140.52000427246094,
          139.67999267578125,
          139.39999389648438,
          139.3800048828125,
          139.4600067138672,
          140.07000732421875,
          139.97000122070312,
          138.69000244140625,
          138.47999572753906,
          139.27000427246094,
          140.25,
          140.57000732421875,
          140.3800048828125,
          142.1999969482422,
          141.99000549316406,
          142.42999267578125,
          143.97999572753906,
          144.3699951171875,
          144.1199951171875,
          144.00999450683594,
          144.1999969482422,
          142.86000061035156,
          144.10000610351562,
          145.14999389648438,
          145.6199951171875,
          145.1300048828125,
          145.4499969482422,
          147.16000366210938,
          147.86000061035156,
          147.10000610351562,
          146.74000549316406,
          146.00999450683594,
          144.82000732421875,
          146.33999633789062,
          146.1199951171875,
          145.02999877929688,
          146.02000427246094,
          146.6999969482422,
          146.42999267578125,
          146.35000610351562,
          147.02999877929688,
          146.4600067138672,
          145.94000244140625,
          145.36000061035156,
          144.82000732421875,
          145.77999877929688,
          145.4499969482422,
          145.63999938964844,
          145.44000244140625,
          145.24000549316406,
          145.77000427246094,
          147.7100067138672,
          147.72999572753906
         ],
         "high": [
          136.3300018310547,
          136.57000732421875,
          135.25,
          136.0399932861328,
          135.85000610351562,
          134.72999572753906,
          135.3000030517578,
          135.41000366210938,
          135.86000061035156,
          135.61000061035156,
          135.1699981689453,
          133.77000427246094,
          134.00999450683594,
          135.1199951171875,
          134.47999572753906,
          133.5500030517578,
          133.9499969482422,
          133.7100067138672,
          133.44000244140625,
          133.3800048828125,
          134.80999755859375,
          133.25999450683594,
          133.60000610351562,
          132.77999877929688,
          133.19000244140625,
          133.14999389648438,
          133.25,
          132.6300048828125,
          133.60000610351562,
          134.00999450683594,
          132.4600067138672,
          131.99000549316406,
          132.22999572753906,
          131.57000732421875,
          130.72999572753906,
          130.85000610351562,
          129.33999633789062,
          129.57000732421875,
          127.91000366210938,
          127.23999786376952,
          128.10000610351562,
          129.22000122070312,
          129.6999969482422,
          129.52000427246094,
          127.16000366210938,
          127.0500030517578,
          125.9000015258789,
          127.0199966430664,
          126.81999969482422,
          126.5,
          127.55999755859376,
          127.48999786376952,
          127.1500015258789,
          127.87999725341795,
          128.27000427246094,
          127.08000183105467,
          127.41999816894533,
          128.77999877929688,
          128.14999389648438,
          127.83999633789062,
          128.1300048828125,
          129.52999877929688,
          131.05999755859375,
          131.69000244140625,
          133.4199981689453,
          134.11000061035156,
          133.5,
          134.3699951171875,
          134.89999389648438,
          135.80999755859375,
          135.63999938964844,
          134.75999450683594,
          134.72999572753906,
          134.14999389648438,
          133.60000610351562,
          134.75,
          135.08999633789062,
          135.25999450683594,
          132.52000427246094,
          132.58999633789062,
          133.91000366210938,
          134.75999450683594,
          134.85000610351562,
          134.89999389648438,
          132.97999572753906,
          134.0500030517578,
          133.42999267578125,
          133.4199981689453,
          133.11000061035156,
          132.5800018310547,
          132.85000610351562,
          132.3000030517578,
          131.72999572753906,
          131.19000244140625,
          130.91000366210938,
          132.19000244140625,
          132.36000061035156,
          131.10000610351562,
          129.77999877929688,
          128.66000366210938,
          128.8699951171875,
          127.87000274658205,
          128.0500030517578,
          128.9199981689453,
          130.5500030517578,
          131.3800048828125,
          131.36000061035156,
          129.77000427246094,
          130.1999969482422,
          130.8699951171875,
          130.9199981689453,
          131.75,
          130.99000549316406,
          132.39999389648438,
          133.25,
          132.10000610351562,
          131.99000549316406,
          132.6300048828125,
          132.5399932861328,
          131.8800048828125,
          131.38999938964844,
          130.9499969482422,
          131.4600067138672,
          133.0399932861328,
          132.35000610351562,
          131.85000610351562,
          131.00999450683594,
          130.25999450683594,
          130.17999267578125,
          130.47000122070312,
          130.5,
          130.36000061035156,
          132.1199951171875,
          131.6300048828125,
          132.57000732421875,
          133.50999450683594,
          135.42999267578125,
          136.66000366210938,
          136.85000610351562,
          136.42999267578125,
          136.22999572753906,
          136.47999572753906,
          135.4199981689453,
          135,
          134.3300018310547,
          134.38999938964844,
          133.27000427246094,
          133.72999572753906,
          134.05999755859375,
          135.1300048828125,
          135.64999389648438,
          136.52999877929688,
          135.8300018310547,
          136.50999450683594,
          136.13999938964844,
          135.8000030517578,
          134.5399932861328,
          133.8800048828125,
          133.8300018310547,
          133.7899932861328,
          134.3000030517578,
          134.38999938964844,
          133.8800048828125,
          134.30999755859375,
          134.9199981689453,
          135.66000366210938,
          134.91000366210938,
          134.24000549316406,
          133.74000549316406,
          132.16000366210938,
          132.6300048828125,
          132.4600067138672,
          133.22999572753906,
          133.14999389648438,
          133.35000610351562,
          133.64999389648438,
          133.5500030517578,
          131.99000549316406,
          131.83999633789062,
          132.50999450683594,
          131.5399932861328,
          130.9199981689453,
          130.89999389648438,
          130.67999267578125,
          130.1199951171875,
          130.08999633789062,
          130.1199951171875,
          128.60000610351562,
          128.1999969482422,
          128.13999938964844,
          128.88999938964844,
          130.4199981689453,
          130.5800018310547,
          131.6699981689453,
          131.4499969482422,
          130.85000610351562,
          130.94000244140625,
          131.9199981689453,
          131.7100067138672,
          131.5399932861328,
          129.82000732421875,
          128.97999572753906,
          128.39999389648438,
          128.0500030517578,
          127.45999908447266,
          126.41000366210938,
          125.06999969482422,
          124.20999908447266,
          124.6999969482422,
          125.41000366210938,
          126.88999938964844,
          128.1999969482422,
          128.4600067138672,
          128.66000366210938,
          128.88999938964844,
          128.1999969482422,
          126.4499969482422,
          127.25,
          128.7100067138672,
          128.47000122070312,
          128.77999877929688,
          128.99000549316406,
          129.30999755859375,
          130.07000732421875,
          130.74000549316406,
          131.16000366210938,
          131.2899932861328,
          130.3699951171875,
          130.3800048828125,
          131.38999938964844,
          131.97000122070312,
          132.3300018310547,
          132.1199951171875,
          132.4499969482422,
          132.35000610351562,
          132.3800048828125,
          133.19000244140625,
          133.6999969482422,
          136.00999450683594,
          136.50999450683594,
          134.94000244140625,
          134.1999969482422,
          134.75,
          134.67999267578125,
          134.4499969482422,
          135.44000244140625,
          135.67999267578125,
          135.97999572753906,
          136.6999969482422,
          136.6199951171875,
          139.0500030517578,
          139.52999877929688,
          140,
          139.6999969482422,
          140.3800048828125,
          141.55999755859375,
          141.13999938964844,
          141.02999877929688,
          141.16000366210938,
          140.36000061035156,
          140.08999633789062,
          139.50999450683594,
          139.82000732421875,
          140.44000244140625,
          140.05999755859375,
          140.67999267578125,
          138.50999450683594,
          139.55999755859375,
          140.25999450683594,
          140.82000732421875,
          141.75,
          142.1999969482422,
          142.64999389648438,
          143.30999755859375,
          144.08999633789062,
          145.02999877929688,
          144.22999572753906,
          144.2899932861328,
          144.24000549316406,
          144.47000122070312,
          144.14999389648438,
          145.42999267578125,
          146.60000610351562,
          146.19000244140625,
          145.49000549316406,
          147.42999267578125,
          148.27000427246094,
          148.11000061035156,
          147.19000244140625,
          146.27999877929688,
          146.24000549316406,
          146.44000244140625,
          146.67999267578125,
          146.41000366210938,
          146.55999755859375,
          147.0500030517578,
          147.25,
          146.61000061035156,
          147.38999938964844,
          147.6999969482422,
          146.66000366210938,
          145.66000366210938,
          145.57000732421875,
          145.8699951171875,
          145.5,
          146.1699981689453,
          146.22000122070312,
          145.86000061035156,
          145.94000244140625,
          147.7100067138672,
          148.22999572753906
         ],
         "low": [
          134.42999267578125,
          134.94000244140625,
          133.89999389648438,
          133.61000061035156,
          133.22000122070312,
          133.14999389648438,
          133.99000549316406,
          133.5399932861328,
          134.0500030517578,
          134.63999938964844,
          132.7899932861328,
          132.25999450683594,
          132.52000427246094,
          133.69000244140625,
          132.6199951171875,
          132.2100067138672,
          132.72999572753906,
          132.69000244140625,
          131.4600067138672,
          131.8300018310547,
          132.36000061035156,
          132.1300048828125,
          132.25,
          131.77000427246094,
          131.02999877929688,
          132.2100067138672,
          131.0399932861328,
          131.25,
          132.50999450683594,
          132.1300048828125,
          131.69000244140625,
          130.5399932861328,
          130.0800018310547,
          130.08999633789062,
          129.57000732421875,
          129.24000549316406,
          128.1300048828125,
          127.83000183105467,
          127.05999755859376,
          126.41000366210938,
          126.38999938964844,
          127.69000244140624,
          128.80999755859375,
          126.80999755859376,
          125.83999633789062,
          124.55999755859376,
          123.66999816894533,
          123.5999984741211,
          125.16999816894533,
          124.83999633789062,
          125.0199966430664,
          125.45999908447266,
          125.58000183105467,
          126.68000030517578,
          125.77999877929688,
          124.83999633789062,
          124.97000122070312,
          127.66999816894533,
          126.73999786376952,
          126.8499984741211,
          127.27999877929688,
          128.4499969482422,
          129.1999969482422,
          130.69000244140625,
          131.50999450683594,
          133.07000732421875,
          132.4600067138672,
          133.66000366210938,
          133.67999267578125,
          134.1999969482422,
          134.07000732421875,
          133.75999450683594,
          133.36000061035156,
          133.1699981689453,
          132.77000427246094,
          133.7100067138672,
          134.10000610351562,
          133.4199981689453,
          130.9199981689453,
          130.6199951171875,
          132.02999877929688,
          133.4600067138672,
          132.67999267578125,
          133.27000427246094,
          131.83999633789062,
          132.8300018310547,
          132.67999267578125,
          132.3699951171875,
          132,
          131.5399932861328,
          131.60000610351562,
          131.38999938964844,
          130.8300018310547,
          129.55999755859375,
          129.69000244140625,
          130.94000244140625,
          131.1300048828125,
          129.7100067138672,
          128.80999755859375,
          126.91000366210938,
          127.29000091552734,
          126.41999816894533,
          126.0500030517578,
          126.95999908447266,
          128.77999877929688,
          130.4499969482422,
          129.1300048828125,
          129,
          128.77999877929688,
          129.33999633789062,
          129.83999633789062,
          130.47000122070312,
          129.6999969482422,
          130.19000244140625,
          132.07000732421875,
          130.38999938964844,
          130.58999633789062,
          131.57000732421875,
          131.63999938964844,
          129.97999572753906,
          130.0399932861328,
          130.11000061035156,
          130.00999450683594,
          131.8300018310547,
          131.0800018310547,
          131.05999755859375,
          130.19000244140625,
          128.92999267578125,
          129,
          129.47999572753906,
          129.49000549316406,
          129.6199951171875,
          130.58999633789062,
          130.61000061035156,
          130.91000366210938,
          132.4499969482422,
          133.47000122070312,
          134.77999877929688,
          135.82000732421875,
          134.85000610351562,
          134.8800048828125,
          134.75999450683594,
          134.4199981689453,
          133.64999389648438,
          133.1199951171875,
          133.17999267578125,
          132.61000061035156,
          132.07000732421875,
          132.72999572753906,
          134.0399932861328,
          134.75,
          134.69000244140625,
          134.47000122070312,
          135.57000732421875,
          135.42999267578125,
          134.52000427246094,
          133.4199981689453,
          133.10000610351562,
          133.05999755859375,
          133.1300048828125,
          133.2100067138672,
          132.44000244140625,
          132.4199981689453,
          133.22999572753906,
          133.72000122070312,
          134.6999969482422,
          133.17999267578125,
          133.22000122070312,
          132.19000244140625,
          130.8300018310547,
          131.77000427246094,
          131.75,
          131.97999572753906,
          131.85000610351562,
          132.44000244140625,
          132.83999633789062,
          132.10000610351562,
          130.9499969482422,
          130.67999267578125,
          131.5500030517578,
          130.36000061035156,
          130,
          129.66000366210938,
          129.64999389648438,
          128.14999389648438,
          129.32000732421875,
          128.5399932861328,
          127.05999755859376,
          126.87999725341795,
          126.93000030517578,
          127.5199966430664,
          128.22999572753906,
          129.1300048828125,
          129.97000122070312,
          129.9199981689453,
          129.27999877929688,
          129.4600067138672,
          130.60000610351562,
          130.44000244140625,
          129.6199951171875,
          127.7699966430664,
          128.0399932861328,
          127.13999938964844,
          126.8499984741211,
          125.56999969482422,
          125.16000366210938,
          122.58999633789062,
          122.88999938964844,
          123.5500030517578,
          124.16999816894533,
          124.9499969482422,
          127.1999969482422,
          127.43000030517578,
          127.87000274658205,
          127.38999938964844,
          125.4000015258789,
          124.5999984741211,
          125.66999816894533,
          127.41000366210938,
          127.63999938964844,
          127.8499984741211,
          127.86000061035156,
          127.66000366210938,
          129.30999755859375,
          130.07000732421875,
          130.67999267578125,
          130.07000732421875,
          129.5500030517578,
          129.44000244140625,
          129.3300018310547,
          131.02999877929688,
          131.44000244140625,
          131.08999633789062,
          131.75,
          131.25,
          131.27999877929688,
          132.1300048828125,
          132.5,
          132.75999450683594,
          134.8000030517578,
          133.66000366210938,
          133.42999267578125,
          133.74000549316406,
          132.72000122070312,
          133.22000122070312,
          134.47999572753906,
          134.74000549316406,
          135.13999938964844,
          135.97999572753906,
          135.82000732421875,
          135.97000122070312,
          138.3800048828125,
          138.74000549316406,
          138.52999877929688,
          138.58999633789062,
          139.8699951171875,
          139.8800048828125,
          140,
          140.0500030517578,
          139.4600067138672,
          139.00999450683594,
          137.52000427246094,
          138.69000244140625,
          139.22999572753906,
          138.97000122070312,
          138.6699981689453,
          137.2100067138672,
          138.9199981689453,
          139.30999755859375,
          139.80999755859375,
          140.35000610351562,
          139.8699951171875,
          141.27000427246094,
          141.77999877929688,
          142.82000732421875,
          144.07000732421875,
          143.47000122070312,
          143.5399932861328,
          143.13999938964844,
          142.14999389648438,
          143.07000732421875,
          143.99000549316406,
          144.82000732421875,
          144.75999450683594,
          144.24000549316406,
          145.3300018310547,
          147.33999633789062,
          146.97000122070312,
          146.0399932861328,
          145.32000732421875,
          144.72000122070312,
          144.50999450683594,
          145.77000427246094,
          144.5500030517578,
          145.3000030517578,
          146.17999267578125,
          146.1699981689453,
          145.2899932861328,
          145.9600067138672,
          145.88999938964844,
          145.1300048828125,
          144.85000610351562,
          144.72000122070312,
          144.52000427246094,
          144.63999938964844,
          145.33999633789062,
          145.25999450683594,
          145.00999450683594,
          145.13999938964844,
          146.6199951171875,
          147.67999267578125
         ],
         "open": [
          135.9600067138672,
          136.22000122070312,
          134.9199981689453,
          135.3300018310547,
          135.80999755859375,
          133.35000610351562,
          134.61000061035156,
          134.99000549316406,
          134.11000061035156,
          135.3800048828125,
          134.82000732421875,
          132.52999877929688,
          133.5399932861328,
          133.99000549316406,
          133.6999969482422,
          132.58999633789062,
          133.8300018310547,
          133.57000732421875,
          132.61000061035156,
          131.9600067138672,
          133.36000061035156,
          133.00999450683594,
          133.1699981689453,
          132.5,
          131.49000549316406,
          132.32000732421875,
          132.74000549316406,
          131.42999267578125,
          132.50999450683594,
          133.77000427246094,
          132.27999877929688,
          130.92999267578125,
          130.1999969482422,
          131.02999877929688,
          130.4199981689453,
          129.80999755859375,
          129.08999633789062,
          129.2100067138672,
          127.83000183105467,
          126.55999755859376,
          126.38999938964844,
          128.3300018310547,
          129.25999450683594,
          129.3699951171875,
          126.7699966430664,
          126.83999633789062,
          124.86000061035156,
          123.75,
          126.16000366210938,
          125.06999969482422,
          125.37000274658205,
          127.38999938964844,
          125.58000183105467,
          127.4499969482422,
          127.8000030517578,
          126.31999969482422,
          125.44000244140624,
          128.1999969482422,
          127.69000244140624,
          127.68000030517578,
          128.08999633789062,
          128.52000427246094,
          129.55999755859375,
          131.0500030517578,
          131.66000366210938,
          133.7100067138672,
          133.16000366210938,
          133.74000549316406,
          134.39999389648438,
          134.49000549316406,
          135.35000610351562,
          134.61000061035156,
          134.72999572753906,
          133.5800018310547,
          133.30999755859375,
          134.1300048828125,
          134.44000244140625,
          134.85000610351562,
          132.42999267578125,
          131.77000427246094,
          132.24000549316406,
          133.72000122070312,
          134,
          134.25999450683594,
          132.89999389648438,
          133.27000427246094,
          133.38999938964844,
          132.7899932861328,
          132.7899932861328,
          132.5,
          132.57000732421875,
          132.2100067138672,
          131.67999267578125,
          131.0800018310547,
          130.74000549316406,
          131,
          131.5,
          130.91000366210938,
          129.75,
          128.49000549316406,
          127.66999816894533,
          126.88999938964844,
          126.38999938964844,
          127.9499969482422,
          129.0800018310547,
          130.61000061035156,
          131.32000732421875,
          129.58999633789062,
          129.2100067138672,
          130.0500030517578,
          130.35000610351562,
          130.60000610351562,
          130.8800048828125,
          130.2100067138672,
          132.55999755859375,
          130.41000366210938,
          131.1999969482422,
          131.74000549316406,
          132.25999450683594,
          131.6699981689453,
          131.25,
          130.9199981689453,
          130.22999572753906,
          131.91000366210938,
          132.35000610351562,
          131.36000061035156,
          130.69000244140625,
          129.8000030517578,
          129.00999450683594,
          129.83999633789062,
          130.3800048828125,
          130.02999877929688,
          130.72999572753906,
          131.35000610351562,
          131.14999389648438,
          132.72000122070312,
          133.57000732421875,
          135.00999450683594,
          136.24000549316406,
          135.02999877929688,
          135.22999572753906,
          135.99000549316406,
          135.1999969482422,
          134.9499969482422,
          133.83999633789062,
          133.47999572753906,
          133.10000610351562,
          132.91000366210938,
          132.8000030517578,
          134.77999877929688,
          134.83999633789062,
          135.25,
          134.7899932861328,
          135.69000244140625,
          135.74000549316406,
          135.36000061035156,
          134.07000732421875,
          133.22000122070312,
          133.47999572753906,
          133.47000122070312,
          134,
          133.33999633789062,
          132.8699951171875,
          133.8800048828125,
          133.89999389648438,
          135.25,
          134.83999633789062,
          134.24000549316406,
          133.63999938964844,
          132.02999877929688,
          131.8699951171875,
          131.77999877929688,
          132,
          132.57000732421875,
          132.47999572753906,
          133.57000732421875,
          132.9199981689453,
          131.86000061035156,
          131.22999572753906,
          132.13999938964844,
          131.32000732421875,
          130.25,
          130.02000427246094,
          130.25999450683594,
          129.99000549316406,
          129.32000732421875,
          130,
          128.3300018310547,
          127.93000030517578,
          127.52999877929688,
          128.25,
          128.3000030517578,
          129.64999389648438,
          130.4199981689453,
          131.24000549316406,
          130.60000610351562,
          129.86000061035156,
          130.7100067138672,
          130.5399932861328,
          131.1699981689453,
          129.67999267578125,
          128.30999755859375,
          127.97000122070312,
          126.8499984741211,
          127.06999969482422,
          125.47000122070312,
          124.91000366210938,
          123.77999877929688,
          124.2699966430664,
          124.38999938964844,
          125.27999877929688,
          127.6500015258789,
          127.9499969482422,
          128.2100067138672,
          128.88999938964844,
          128.0500030517578,
          126,
          126.4000015258789,
          127.7300033569336,
          127.9499969482422,
          128.33999633789062,
          128.77999877929688,
          127.75,
          129.47000122070312,
          130.24000549316406,
          130.69000244140625,
          130.85000610351562,
          130.0800018310547,
          129.5,
          129.77999877929688,
          131.1300048828125,
          131.47999572753906,
          131.80999755859375,
          132.1999969482422,
          132.02999877929688,
          131.94000244140625,
          132.77999877929688,
          133.1300048828125,
          132.94000244140625,
          136.42999267578125,
          134.67999267578125,
          134.05999755859375,
          133.9499969482422,
          134.60000610351562,
          133.52999877929688,
          134.67999267578125,
          134.91000366210938,
          135.1699981689453,
          136,
          136.24000549316406,
          136.0399932861328,
          139.24000549316406,
          138.97999572753906,
          138.9199981689453,
          139.16000366210938,
          140.1999969482422,
          140.41000366210938,
          140.7899932861328,
          140.47999572753906,
          140.1699981689453,
          139.4499969482422,
          138.1999969482422,
          139.4600067138672,
          139.5800018310547,
          139.88999938964844,
          140.33999633789062,
          138.1999969482422,
          139.44000244140625,
          139.39999389648438,
          140.47999572753906,
          141.63999938964844,
          140.5500030517578,
          142.14999389648438,
          142.5,
          143.5399932861328,
          144.33999633789062,
          144.22999572753906,
          144.05999755859375,
          143.82000732421875,
          143.47000122070312,
          143.35000610351562,
          144.1999969482422,
          145.33999633789062,
          145.72999572753906,
          144.66000366210938,
          145.63999938964844,
          147.66000366210938,
          147.77000427246094,
          146.3800048828125,
          146.1199951171875,
          146,
          145.14999389648438,
          145.9199981689453,
          146.1699981689453,
          145.3000030517578,
          146.3800048828125,
          146.55999755859375,
          146.10000610351562,
          146.4499969482422,
          147.58999633789062,
          146.5500030517578,
          145.02000427246094,
          145.42999267578125,
          144.94000244140625,
          145.42999267578125,
          145.75,
          145.85000610351562,
          145.7100067138672,
          145.52999877929688,
          147.00999450683594,
          147.9199981689453
         ],
         "type": "candlestick",
         "x": [
          "2023-01-03T00:00:00",
          "2023-01-04T00:00:00",
          "2023-01-05T00:00:00",
          "2023-01-06T00:00:00",
          "2023-01-09T00:00:00",
          "2023-01-10T00:00:00",
          "2023-01-11T00:00:00",
          "2023-01-12T00:00:00",
          "2023-01-13T00:00:00",
          "2023-01-17T00:00:00",
          "2023-01-18T00:00:00",
          "2023-01-19T00:00:00",
          "2023-01-20T00:00:00",
          "2023-01-23T00:00:00",
          "2023-01-24T00:00:00",
          "2023-01-25T00:00:00",
          "2023-01-26T00:00:00",
          "2023-01-27T00:00:00",
          "2023-01-30T00:00:00",
          "2023-01-31T00:00:00",
          "2023-02-01T00:00:00",
          "2023-02-02T00:00:00",
          "2023-02-03T00:00:00",
          "2023-02-06T00:00:00",
          "2023-02-07T00:00:00",
          "2023-02-08T00:00:00",
          "2023-02-09T00:00:00",
          "2023-02-10T00:00:00",
          "2023-02-13T00:00:00",
          "2023-02-14T00:00:00",
          "2023-02-15T00:00:00",
          "2023-02-16T00:00:00",
          "2023-02-17T00:00:00",
          "2023-02-21T00:00:00",
          "2023-02-22T00:00:00",
          "2023-02-23T00:00:00",
          "2023-02-24T00:00:00",
          "2023-02-27T00:00:00",
          "2023-02-28T00:00:00",
          "2023-03-01T00:00:00",
          "2023-03-02T00:00:00",
          "2023-03-03T00:00:00",
          "2023-03-06T00:00:00",
          "2023-03-07T00:00:00",
          "2023-03-08T00:00:00",
          "2023-03-09T00:00:00",
          "2023-03-10T00:00:00",
          "2023-03-13T00:00:00",
          "2023-03-14T00:00:00",
          "2023-03-15T00:00:00",
          "2023-03-16T00:00:00",
          "2023-03-17T00:00:00",
          "2023-03-20T00:00:00",
          "2023-03-21T00:00:00",
          "2023-03-22T00:00:00",
          "2023-03-23T00:00:00",
          "2023-03-24T00:00:00",
          "2023-03-27T00:00:00",
          "2023-03-28T00:00:00",
          "2023-03-29T00:00:00",
          "2023-03-30T00:00:00",
          "2023-03-31T00:00:00",
          "2023-04-03T00:00:00",
          "2023-04-04T00:00:00",
          "2023-04-05T00:00:00",
          "2023-04-06T00:00:00",
          "2023-04-10T00:00:00",
          "2023-04-11T00:00:00",
          "2023-04-12T00:00:00",
          "2023-04-13T00:00:00",
          "2023-04-14T00:00:00",
          "2023-04-17T00:00:00",
          "2023-04-18T00:00:00",
          "2023-04-19T00:00:00",
          "2023-04-20T00:00:00",
          "2023-04-21T00:00:00",
          "2023-04-24T00:00:00",
          "2023-04-25T00:00:00",
          "2023-04-26T00:00:00",
          "2023-04-27T00:00:00",
          "2023-04-28T00:00:00",
          "2023-05-01T00:00:00",
          "2023-05-02T00:00:00",
          "2023-05-03T00:00:00",
          "2023-05-04T00:00:00",
          "2023-05-05T00:00:00",
          "2023-05-08T00:00:00",
          "2023-05-09T00:00:00",
          "2023-05-10T00:00:00",
          "2023-05-11T00:00:00",
          "2023-05-12T00:00:00",
          "2023-05-15T00:00:00",
          "2023-05-16T00:00:00",
          "2023-05-17T00:00:00",
          "2023-05-18T00:00:00",
          "2023-05-19T00:00:00",
          "2023-05-22T00:00:00",
          "2023-05-23T00:00:00",
          "2023-05-24T00:00:00",
          "2023-05-25T00:00:00",
          "2023-05-26T00:00:00",
          "2023-05-30T00:00:00",
          "2023-05-31T00:00:00",
          "2023-06-01T00:00:00",
          "2023-06-02T00:00:00",
          "2023-06-05T00:00:00",
          "2023-06-06T00:00:00",
          "2023-06-07T00:00:00",
          "2023-06-08T00:00:00",
          "2023-06-09T00:00:00",
          "2023-06-12T00:00:00",
          "2023-06-13T00:00:00",
          "2023-06-14T00:00:00",
          "2023-06-15T00:00:00",
          "2023-06-16T00:00:00",
          "2023-06-20T00:00:00",
          "2023-06-21T00:00:00",
          "2023-06-22T00:00:00",
          "2023-06-23T00:00:00",
          "2023-06-26T00:00:00",
          "2023-06-27T00:00:00",
          "2023-06-28T00:00:00",
          "2023-06-29T00:00:00",
          "2023-06-30T00:00:00",
          "2023-07-03T00:00:00",
          "2023-07-05T00:00:00",
          "2023-07-06T00:00:00",
          "2023-07-07T00:00:00",
          "2023-07-10T00:00:00",
          "2023-07-11T00:00:00",
          "2023-07-12T00:00:00",
          "2023-07-13T00:00:00",
          "2023-07-14T00:00:00",
          "2023-07-17T00:00:00",
          "2023-07-18T00:00:00",
          "2023-07-19T00:00:00",
          "2023-07-20T00:00:00",
          "2023-07-21T00:00:00",
          "2023-07-24T00:00:00",
          "2023-07-25T00:00:00",
          "2023-07-26T00:00:00",
          "2023-07-27T00:00:00",
          "2023-07-28T00:00:00",
          "2023-07-31T00:00:00",
          "2023-08-01T00:00:00",
          "2023-08-02T00:00:00",
          "2023-08-03T00:00:00",
          "2023-08-04T00:00:00",
          "2023-08-07T00:00:00",
          "2023-08-08T00:00:00",
          "2023-08-09T00:00:00",
          "2023-08-10T00:00:00",
          "2023-08-11T00:00:00",
          "2023-08-14T00:00:00",
          "2023-08-15T00:00:00",
          "2023-08-16T00:00:00",
          "2023-08-17T00:00:00",
          "2023-08-18T00:00:00",
          "2023-08-21T00:00:00",
          "2023-08-22T00:00:00",
          "2023-08-23T00:00:00",
          "2023-08-24T00:00:00",
          "2023-08-25T00:00:00",
          "2023-08-28T00:00:00",
          "2023-08-29T00:00:00",
          "2023-08-30T00:00:00",
          "2023-08-31T00:00:00",
          "2023-09-01T00:00:00",
          "2023-09-05T00:00:00",
          "2023-09-06T00:00:00",
          "2023-09-07T00:00:00",
          "2023-09-08T00:00:00",
          "2023-09-11T00:00:00",
          "2023-09-12T00:00:00",
          "2023-09-13T00:00:00",
          "2023-09-14T00:00:00",
          "2023-09-15T00:00:00",
          "2023-09-18T00:00:00",
          "2023-09-19T00:00:00",
          "2023-09-20T00:00:00",
          "2023-09-21T00:00:00",
          "2023-09-22T00:00:00",
          "2023-09-25T00:00:00",
          "2023-09-26T00:00:00",
          "2023-09-27T00:00:00",
          "2023-09-28T00:00:00",
          "2023-09-29T00:00:00",
          "2023-10-02T00:00:00",
          "2023-10-03T00:00:00",
          "2023-10-04T00:00:00",
          "2023-10-05T00:00:00",
          "2023-10-06T00:00:00",
          "2023-10-09T00:00:00",
          "2023-10-10T00:00:00",
          "2023-10-11T00:00:00",
          "2023-10-12T00:00:00",
          "2023-10-13T00:00:00",
          "2023-10-16T00:00:00",
          "2023-10-17T00:00:00",
          "2023-10-18T00:00:00",
          "2023-10-19T00:00:00",
          "2023-10-20T00:00:00",
          "2023-10-23T00:00:00",
          "2023-10-24T00:00:00",
          "2023-10-25T00:00:00",
          "2023-10-26T00:00:00",
          "2023-10-27T00:00:00",
          "2023-10-30T00:00:00",
          "2023-10-31T00:00:00",
          "2023-11-01T00:00:00",
          "2023-11-02T00:00:00",
          "2023-11-03T00:00:00",
          "2023-11-06T00:00:00",
          "2023-11-07T00:00:00",
          "2023-11-08T00:00:00",
          "2023-11-09T00:00:00",
          "2023-11-10T00:00:00",
          "2023-11-13T00:00:00",
          "2023-11-14T00:00:00",
          "2023-11-15T00:00:00",
          "2023-11-16T00:00:00",
          "2023-11-17T00:00:00",
          "2023-11-20T00:00:00",
          "2023-11-21T00:00:00",
          "2023-11-22T00:00:00",
          "2023-11-24T00:00:00",
          "2023-11-27T00:00:00",
          "2023-11-28T00:00:00",
          "2023-11-29T00:00:00",
          "2023-11-30T00:00:00",
          "2023-12-01T00:00:00",
          "2023-12-04T00:00:00",
          "2023-12-05T00:00:00",
          "2023-12-06T00:00:00",
          "2023-12-07T00:00:00",
          "2023-12-08T00:00:00",
          "2023-12-11T00:00:00",
          "2023-12-12T00:00:00",
          "2023-12-13T00:00:00",
          "2023-12-14T00:00:00",
          "2023-12-15T00:00:00",
          "2023-12-18T00:00:00",
          "2023-12-19T00:00:00",
          "2023-12-20T00:00:00",
          "2023-12-21T00:00:00",
          "2023-12-22T00:00:00",
          "2023-12-26T00:00:00",
          "2023-12-27T00:00:00",
          "2023-12-28T00:00:00",
          "2023-12-29T00:00:00",
          "2024-01-02T00:00:00",
          "2024-01-03T00:00:00",
          "2024-01-04T00:00:00",
          "2024-01-05T00:00:00",
          "2024-01-08T00:00:00",
          "2024-01-09T00:00:00",
          "2024-01-10T00:00:00",
          "2024-01-11T00:00:00",
          "2024-01-12T00:00:00",
          "2024-01-16T00:00:00",
          "2024-01-17T00:00:00",
          "2024-01-18T00:00:00",
          "2024-01-19T00:00:00",
          "2024-01-22T00:00:00",
          "2024-01-23T00:00:00",
          "2024-01-24T00:00:00",
          "2024-01-25T00:00:00",
          "2024-01-26T00:00:00",
          "2024-01-29T00:00:00",
          "2024-01-30T00:00:00",
          "2024-01-31T00:00:00",
          "2024-02-01T00:00:00",
          "2024-02-02T00:00:00",
          "2024-02-05T00:00:00",
          "2024-02-06T00:00:00",
          "2024-02-07T00:00:00",
          "2024-02-08T00:00:00",
          "2024-02-09T00:00:00",
          "2024-02-12T00:00:00",
          "2024-02-13T00:00:00",
          "2024-02-14T00:00:00",
          "2024-02-15T00:00:00",
          "2024-02-16T00:00:00",
          "2024-02-20T00:00:00",
          "2024-02-21T00:00:00",
          "2024-02-22T00:00:00",
          "2024-02-23T00:00:00",
          "2024-02-26T00:00:00",
          "2024-02-27T00:00:00",
          "2024-02-28T00:00:00",
          "2024-02-29T00:00:00",
          "2024-03-01T00:00:00",
          "2024-03-04T00:00:00",
          "2024-03-05T00:00:00",
          "2024-03-06T00:00:00",
          "2024-03-07T00:00:00",
          "2024-03-08T00:00:00",
          "2024-03-11T00:00:00",
          "2024-03-12T00:00:00",
          "2024-03-13T00:00:00",
          "2024-03-14T00:00:00",
          "2024-03-15T00:00:00",
          "2024-03-18T00:00:00",
          "2024-03-19T00:00:00",
          "2024-03-20T00:00:00",
          "2024-03-21T00:00:00",
          "2024-03-22T00:00:00",
          "2024-03-25T00:00:00",
          "2024-03-26T00:00:00",
          "2024-03-27T00:00:00",
          "2024-03-28T00:00:00"
         ],
         "xaxis": "x",
         "yaxis": "y2"
        },
        {
         "opacity": 0.5,
         "type": "bar",
         "x": [
          "2023-01-03T00:00:00",
          "2023-01-04T00:00:00",
          "2023-01-05T00:00:00",
          "2023-01-06T00:00:00",
          "2023-01-09T00:00:00",
          "2023-01-10T00:00:00",
          "2023-01-11T00:00:00",
          "2023-01-12T00:00:00",
          "2023-01-13T00:00:00",
          "2023-01-17T00:00:00",
          "2023-01-18T00:00:00",
          "2023-01-19T00:00:00",
          "2023-01-20T00:00:00",
          "2023-01-23T00:00:00",
          "2023-01-24T00:00:00",
          "2023-01-25T00:00:00",
          "2023-01-26T00:00:00",
          "2023-01-27T00:00:00",
          "2023-01-30T00:00:00",
          "2023-01-31T00:00:00",
          "2023-02-01T00:00:00",
          "2023-02-02T00:00:00",
          "2023-02-03T00:00:00",
          "2023-02-06T00:00:00",
          "2023-02-07T00:00:00",
          "2023-02-08T00:00:00",
          "2023-02-09T00:00:00",
          "2023-02-10T00:00:00",
          "2023-02-13T00:00:00",
          "2023-02-14T00:00:00",
          "2023-02-15T00:00:00",
          "2023-02-16T00:00:00",
          "2023-02-17T00:00:00",
          "2023-02-21T00:00:00",
          "2023-02-22T00:00:00",
          "2023-02-23T00:00:00",
          "2023-02-24T00:00:00",
          "2023-02-27T00:00:00",
          "2023-02-28T00:00:00",
          "2023-03-01T00:00:00",
          "2023-03-02T00:00:00",
          "2023-03-03T00:00:00",
          "2023-03-06T00:00:00",
          "2023-03-07T00:00:00",
          "2023-03-08T00:00:00",
          "2023-03-09T00:00:00",
          "2023-03-10T00:00:00",
          "2023-03-13T00:00:00",
          "2023-03-14T00:00:00",
          "2023-03-15T00:00:00",
          "2023-03-16T00:00:00",
          "2023-03-17T00:00:00",
          "2023-03-20T00:00:00",
          "2023-03-21T00:00:00",
          "2023-03-22T00:00:00",
          "2023-03-23T00:00:00",
          "2023-03-24T00:00:00",
          "2023-03-27T00:00:00",
          "2023-03-28T00:00:00",
          "2023-03-29T00:00:00",
          "2023-03-30T00:00:00",
          "2023-03-31T00:00:00",
          "2023-04-03T00:00:00",
          "2023-04-04T00:00:00",
          "2023-04-05T00:00:00",
          "2023-04-06T00:00:00",
          "2023-04-10T00:00:00",
          "2023-04-11T00:00:00",
          "2023-04-12T00:00:00",
          "2023-04-13T00:00:00",
          "2023-04-14T00:00:00",
          "2023-04-17T00:00:00",
          "2023-04-18T00:00:00",
          "2023-04-19T00:00:00",
          "2023-04-20T00:00:00",
          "2023-04-21T00:00:00",
          "2023-04-24T00:00:00",
          "2023-04-25T00:00:00",
          "2023-04-26T00:00:00",
          "2023-04-27T00:00:00",
          "2023-04-28T00:00:00",
          "2023-05-01T00:00:00",
          "2023-05-02T00:00:00",
          "2023-05-03T00:00:00",
          "2023-05-04T00:00:00",
          "2023-05-05T00:00:00",
          "2023-05-08T00:00:00",
          "2023-05-09T00:00:00",
          "2023-05-10T00:00:00",
          "2023-05-11T00:00:00",
          "2023-05-12T00:00:00",
          "2023-05-15T00:00:00",
          "2023-05-16T00:00:00",
          "2023-05-17T00:00:00",
          "2023-05-18T00:00:00",
          "2023-05-19T00:00:00",
          "2023-05-22T00:00:00",
          "2023-05-23T00:00:00",
          "2023-05-24T00:00:00",
          "2023-05-25T00:00:00",
          "2023-05-26T00:00:00",
          "2023-05-30T00:00:00",
          "2023-05-31T00:00:00",
          "2023-06-01T00:00:00",
          "2023-06-02T00:00:00",
          "2023-06-05T00:00:00",
          "2023-06-06T00:00:00",
          "2023-06-07T00:00:00",
          "2023-06-08T00:00:00",
          "2023-06-09T00:00:00",
          "2023-06-12T00:00:00",
          "2023-06-13T00:00:00",
          "2023-06-14T00:00:00",
          "2023-06-15T00:00:00",
          "2023-06-16T00:00:00",
          "2023-06-20T00:00:00",
          "2023-06-21T00:00:00",
          "2023-06-22T00:00:00",
          "2023-06-23T00:00:00",
          "2023-06-26T00:00:00",
          "2023-06-27T00:00:00",
          "2023-06-28T00:00:00",
          "2023-06-29T00:00:00",
          "2023-06-30T00:00:00",
          "2023-07-03T00:00:00",
          "2023-07-05T00:00:00",
          "2023-07-06T00:00:00",
          "2023-07-07T00:00:00",
          "2023-07-10T00:00:00",
          "2023-07-11T00:00:00",
          "2023-07-12T00:00:00",
          "2023-07-13T00:00:00",
          "2023-07-14T00:00:00",
          "2023-07-17T00:00:00",
          "2023-07-18T00:00:00",
          "2023-07-19T00:00:00",
          "2023-07-20T00:00:00",
          "2023-07-21T00:00:00",
          "2023-07-24T00:00:00",
          "2023-07-25T00:00:00",
          "2023-07-26T00:00:00",
          "2023-07-27T00:00:00",
          "2023-07-28T00:00:00",
          "2023-07-31T00:00:00",
          "2023-08-01T00:00:00",
          "2023-08-02T00:00:00",
          "2023-08-03T00:00:00",
          "2023-08-04T00:00:00",
          "2023-08-07T00:00:00",
          "2023-08-08T00:00:00",
          "2023-08-09T00:00:00",
          "2023-08-10T00:00:00",
          "2023-08-11T00:00:00",
          "2023-08-14T00:00:00",
          "2023-08-15T00:00:00",
          "2023-08-16T00:00:00",
          "2023-08-17T00:00:00",
          "2023-08-18T00:00:00",
          "2023-08-21T00:00:00",
          "2023-08-22T00:00:00",
          "2023-08-23T00:00:00",
          "2023-08-24T00:00:00",
          "2023-08-25T00:00:00",
          "2023-08-28T00:00:00",
          "2023-08-29T00:00:00",
          "2023-08-30T00:00:00",
          "2023-08-31T00:00:00",
          "2023-09-01T00:00:00",
          "2023-09-05T00:00:00",
          "2023-09-06T00:00:00",
          "2023-09-07T00:00:00",
          "2023-09-08T00:00:00",
          "2023-09-11T00:00:00",
          "2023-09-12T00:00:00",
          "2023-09-13T00:00:00",
          "2023-09-14T00:00:00",
          "2023-09-15T00:00:00",
          "2023-09-18T00:00:00",
          "2023-09-19T00:00:00",
          "2023-09-20T00:00:00",
          "2023-09-21T00:00:00",
          "2023-09-22T00:00:00",
          "2023-09-25T00:00:00",
          "2023-09-26T00:00:00",
          "2023-09-27T00:00:00",
          "2023-09-28T00:00:00",
          "2023-09-29T00:00:00",
          "2023-10-02T00:00:00",
          "2023-10-03T00:00:00",
          "2023-10-04T00:00:00",
          "2023-10-05T00:00:00",
          "2023-10-06T00:00:00",
          "2023-10-09T00:00:00",
          "2023-10-10T00:00:00",
          "2023-10-11T00:00:00",
          "2023-10-12T00:00:00",
          "2023-10-13T00:00:00",
          "2023-10-16T00:00:00",
          "2023-10-17T00:00:00",
          "2023-10-18T00:00:00",
          "2023-10-19T00:00:00",
          "2023-10-20T00:00:00",
          "2023-10-23T00:00:00",
          "2023-10-24T00:00:00",
          "2023-10-25T00:00:00",
          "2023-10-26T00:00:00",
          "2023-10-27T00:00:00",
          "2023-10-30T00:00:00",
          "2023-10-31T00:00:00",
          "2023-11-01T00:00:00",
          "2023-11-02T00:00:00",
          "2023-11-03T00:00:00",
          "2023-11-06T00:00:00",
          "2023-11-07T00:00:00",
          "2023-11-08T00:00:00",
          "2023-11-09T00:00:00",
          "2023-11-10T00:00:00",
          "2023-11-13T00:00:00",
          "2023-11-14T00:00:00",
          "2023-11-15T00:00:00",
          "2023-11-16T00:00:00",
          "2023-11-17T00:00:00",
          "2023-11-20T00:00:00",
          "2023-11-21T00:00:00",
          "2023-11-22T00:00:00",
          "2023-11-24T00:00:00",
          "2023-11-27T00:00:00",
          "2023-11-28T00:00:00",
          "2023-11-29T00:00:00",
          "2023-11-30T00:00:00",
          "2023-12-01T00:00:00",
          "2023-12-04T00:00:00",
          "2023-12-05T00:00:00",
          "2023-12-06T00:00:00",
          "2023-12-07T00:00:00",
          "2023-12-08T00:00:00",
          "2023-12-11T00:00:00",
          "2023-12-12T00:00:00",
          "2023-12-13T00:00:00",
          "2023-12-14T00:00:00",
          "2023-12-15T00:00:00",
          "2023-12-18T00:00:00",
          "2023-12-19T00:00:00",
          "2023-12-20T00:00:00",
          "2023-12-21T00:00:00",
          "2023-12-22T00:00:00",
          "2023-12-26T00:00:00",
          "2023-12-27T00:00:00",
          "2023-12-28T00:00:00",
          "2023-12-29T00:00:00",
          "2024-01-02T00:00:00",
          "2024-01-03T00:00:00",
          "2024-01-04T00:00:00",
          "2024-01-05T00:00:00",
          "2024-01-08T00:00:00",
          "2024-01-09T00:00:00",
          "2024-01-10T00:00:00",
          "2024-01-11T00:00:00",
          "2024-01-12T00:00:00",
          "2024-01-16T00:00:00",
          "2024-01-17T00:00:00",
          "2024-01-18T00:00:00",
          "2024-01-19T00:00:00",
          "2024-01-22T00:00:00",
          "2024-01-23T00:00:00",
          "2024-01-24T00:00:00",
          "2024-01-25T00:00:00",
          "2024-01-26T00:00:00",
          "2024-01-29T00:00:00",
          "2024-01-30T00:00:00",
          "2024-01-31T00:00:00",
          "2024-02-01T00:00:00",
          "2024-02-02T00:00:00",
          "2024-02-05T00:00:00",
          "2024-02-06T00:00:00",
          "2024-02-07T00:00:00",
          "2024-02-08T00:00:00",
          "2024-02-09T00:00:00",
          "2024-02-12T00:00:00",
          "2024-02-13T00:00:00",
          "2024-02-14T00:00:00",
          "2024-02-15T00:00:00",
          "2024-02-16T00:00:00",
          "2024-02-20T00:00:00",
          "2024-02-21T00:00:00",
          "2024-02-22T00:00:00",
          "2024-02-23T00:00:00",
          "2024-02-26T00:00:00",
          "2024-02-27T00:00:00",
          "2024-02-28T00:00:00",
          "2024-02-29T00:00:00",
          "2024-03-01T00:00:00",
          "2024-03-04T00:00:00",
          "2024-03-05T00:00:00",
          "2024-03-06T00:00:00",
          "2024-03-07T00:00:00",
          "2024-03-08T00:00:00",
          "2024-03-11T00:00:00",
          "2024-03-12T00:00:00",
          "2024-03-13T00:00:00",
          "2024-03-14T00:00:00",
          "2024-03-15T00:00:00",
          "2024-03-18T00:00:00",
          "2024-03-19T00:00:00",
          "2024-03-20T00:00:00",
          "2024-03-21T00:00:00",
          "2024-03-22T00:00:00",
          "2024-03-25T00:00:00",
          "2024-03-26T00:00:00",
          "2024-03-27T00:00:00",
          "2024-03-28T00:00:00"
         ],
         "xaxis": "x",
         "y": [
          7239200,
          8469800,
          6714200,
          7175700,
          7719500,
          7675200,
          7307200,
          7580500,
          6334100,
          6664100,
          10629100,
          9902300,
          5962200,
          7211000,
          5754800,
          5999000,
          6861100,
          5854600,
          7055400,
          6290600,
          11843000,
          11274600,
          10046800,
          7328300,
          7551000,
          5614100,
          8085700,
          6198600,
          6300300,
          6905900,
          6491900,
          8008000,
          10798800,
          9066200,
          7318900,
          9955500,
          9008000,
          6463900,
          10282800,
          11101000,
          10203100,
          10048000,
          8153400,
          9604400,
          10793200,
          13270300,
          20483200,
          21294200,
          14582900,
          17244600,
          16011400,
          15071400,
          10592100,
          8816300,
          10480000,
          10092300,
          8163700,
          9455400,
          8037400,
          8183100,
          6820400,
          9202500,
          8937300,
          9052600,
          12325800,
          8276300,
          8024300,
          8887500,
          8988600,
          9373500,
          6632100,
          7187000,
          7194200,
          7048100,
          6672000,
          6535900,
          6299800,
          7752000,
          10128800,
          10008900,
          7917300,
          6793900,
          14365800,
          8961500,
          9625300,
          7650300,
          5305700,
          6452700,
          6556600,
          8764800,
          6626300,
          5725600,
          7106000,
          15512700,
          12196900,
          9276200,
          12856100,
          8723100,
          7952900,
          13737000,
          8794900,
          12114500,
          15099100,
          9751900,
          10293000,
          7880200,
          9413500,
          7519600,
          6583100,
          10446100,
          7321100,
          8362700,
          12401600,
          10598600,
          10535000,
          8585100,
          9444800,
          8036400,
          8096500,
          7092800,
          8578200,
          10897800,
          7843300,
          8260900,
          5240300,
          7942100,
          8213100,
          8749700,
          7476500,
          7279200,
          11900400,
          7526200,
          13298600,
          7905000,
          8130300,
          12484000,
          12650200,
          11308500,
          12034000,
          7802900,
          8205300,
          8800800,
          6897600,
          9735900,
          10555300,
          13873000,
          11863400,
          12631200,
          8165600,
          12601200,
          9833600,
          9541700,
          7674400,
          8723300,
          9118500,
          9462400,
          11163800,
          9463000,
          6872400,
          6939400,
          7276800,
          10241700,
          8509100,
          6768400,
          10737000,
          7892700,
          7540200,
          10183600,
          11042600,
          12840000,
          11055700,
          8716900,
          7179000,
          6941700,
          6430300,
          6433300,
          9611900,
          6559400,
          6252400,
          6350700,
          7979500,
          7790300,
          6826300,
          8200700,
          9888600,
          9129000,
          12692300,
          16035100,
          11971100,
          10064300,
          9609700,
          10692100,
          8047600,
          8154900,
          9591800,
          10927700,
          11383800,
          10545000,
          9149900,
          10085700,
          15492500,
          12296300,
          12344200,
          9375900,
          11427000,
          14699100,
          13566100,
          15224500,
          13917400,
          13802600,
          11894000,
          11635600,
          8425100,
          8241900,
          10021100,
          13905500,
          10401300,
          11373800,
          11216900,
          9262700,
          7665900,
          6766100,
          6910000,
          8373000,
          6737700,
          3708800,
          10530200,
          6261300,
          6979000,
          7743100,
          9370900,
          6943900,
          6581000,
          6210400,
          6396700,
          6007600,
          9016800,
          6779000,
          9074300,
          10098700,
          8296600,
          5944300,
          6358200,
          7299000,
          5606800,
          5355100,
          3688600,
          5444100,
          5800200,
          5590000,
          11785900,
          9585000,
          11649200,
          9436900,
          7999400,
          9201300,
          9773300,
          7182300,
          8026400,
          7426900,
          8337200,
          8929300,
          8841300,
          7831400,
          6407400,
          9104900,
          10050200,
          5759100,
          6229600,
          5940300,
          10223100,
          8503600,
          10629200,
          9631700,
          10159000,
          7884600,
          6672400,
          7447800,
          6645500,
          11170000,
          9701100,
          9294800,
          8424100,
          9120400,
          7213800,
          9130000,
          9194600,
          7248300,
          7374000,
          8038800,
          9435600,
          8741400,
          10657800,
          9743400,
          8085300,
          6438300,
          7802500,
          7723800,
          7143700,
          7874200,
          9605700,
          10570500,
          6407000,
          5240200,
          8268200,
          8865300,
          5537200,
          5253000,
          6942400,
          8797400,
          8090200
         ],
         "yaxis": "y"
        }
       ],
       "layout": {
        "showlegend": false,
        "template": {
         "data": {
          "bar": [
           {
            "error_x": {
             "color": "#2a3f5f"
            },
            "error_y": {
             "color": "#2a3f5f"
            },
            "marker": {
             "line": {
              "color": "#E5ECF6",
              "width": 0.5
             },
             "pattern": {
              "fillmode": "overlay",
              "size": 10,
              "solidity": 0.2
             }
            },
            "type": "bar"
           }
          ],
          "barpolar": [
           {
            "marker": {
             "line": {
              "color": "#E5ECF6",
              "width": 0.5
             },
             "pattern": {
              "fillmode": "overlay",
              "size": 10,
              "solidity": 0.2
             }
            },
            "type": "barpolar"
           }
          ],
          "carpet": [
           {
            "aaxis": {
             "endlinecolor": "#2a3f5f",
             "gridcolor": "white",
             "linecolor": "white",
             "minorgridcolor": "white",
             "startlinecolor": "#2a3f5f"
            },
            "baxis": {
             "endlinecolor": "#2a3f5f",
             "gridcolor": "white",
             "linecolor": "white",
             "minorgridcolor": "white",
             "startlinecolor": "#2a3f5f"
            },
            "type": "carpet"
           }
          ],
          "choropleth": [
           {
            "colorbar": {
             "outlinewidth": 0,
             "ticks": ""
            },
            "type": "choropleth"
           }
          ],
          "contour": [
           {
            "colorbar": {
             "outlinewidth": 0,
             "ticks": ""
            },
            "colorscale": [
             [
              0,
              "#0d0887"
             ],
             [
              0.1111111111111111,
              "#46039f"
             ],
             [
              0.2222222222222222,
              "#7201a8"
             ],
             [
              0.3333333333333333,
              "#9c179e"
             ],
             [
              0.4444444444444444,
              "#bd3786"
             ],
             [
              0.5555555555555556,
              "#d8576b"
             ],
             [
              0.6666666666666666,
              "#ed7953"
             ],
             [
              0.7777777777777778,
              "#fb9f3a"
             ],
             [
              0.8888888888888888,
              "#fdca26"
             ],
             [
              1,
              "#f0f921"
             ]
            ],
            "type": "contour"
           }
          ],
          "contourcarpet": [
           {
            "colorbar": {
             "outlinewidth": 0,
             "ticks": ""
            },
            "type": "contourcarpet"
           }
          ],
          "heatmap": [
           {
            "colorbar": {
             "outlinewidth": 0,
             "ticks": ""
            },
            "colorscale": [
             [
              0,
              "#0d0887"
             ],
             [
              0.1111111111111111,
              "#46039f"
             ],
             [
              0.2222222222222222,
              "#7201a8"
             ],
             [
              0.3333333333333333,
              "#9c179e"
             ],
             [
              0.4444444444444444,
              "#bd3786"
             ],
             [
              0.5555555555555556,
              "#d8576b"
             ],
             [
              0.6666666666666666,
              "#ed7953"
             ],
             [
              0.7777777777777778,
              "#fb9f3a"
             ],
             [
              0.8888888888888888,
              "#fdca26"
             ],
             [
              1,
              "#f0f921"
             ]
            ],
            "type": "heatmap"
           }
          ],
          "heatmapgl": [
           {
            "colorbar": {
             "outlinewidth": 0,
             "ticks": ""
            },
            "colorscale": [
             [
              0,
              "#0d0887"
             ],
             [
              0.1111111111111111,
              "#46039f"
             ],
             [
              0.2222222222222222,
              "#7201a8"
             ],
             [
              0.3333333333333333,
              "#9c179e"
             ],
             [
              0.4444444444444444,
              "#bd3786"
             ],
             [
              0.5555555555555556,
              "#d8576b"
             ],
             [
              0.6666666666666666,
              "#ed7953"
             ],
             [
              0.7777777777777778,
              "#fb9f3a"
             ],
             [
              0.8888888888888888,
              "#fdca26"
             ],
             [
              1,
              "#f0f921"
             ]
            ],
            "type": "heatmapgl"
           }
          ],
          "histogram": [
           {
            "marker": {
             "pattern": {
              "fillmode": "overlay",
              "size": 10,
              "solidity": 0.2
             }
            },
            "type": "histogram"
           }
          ],
          "histogram2d": [
           {
            "colorbar": {
             "outlinewidth": 0,
             "ticks": ""
            },
            "colorscale": [
             [
              0,
              "#0d0887"
             ],
             [
              0.1111111111111111,
              "#46039f"
             ],
             [
              0.2222222222222222,
              "#7201a8"
             ],
             [
              0.3333333333333333,
              "#9c179e"
             ],
             [
              0.4444444444444444,
              "#bd3786"
             ],
             [
              0.5555555555555556,
              "#d8576b"
             ],
             [
              0.6666666666666666,
              "#ed7953"
             ],
             [
              0.7777777777777778,
              "#fb9f3a"
             ],
             [
              0.8888888888888888,
              "#fdca26"
             ],
             [
              1,
              "#f0f921"
             ]
            ],
            "type": "histogram2d"
           }
          ],
          "histogram2dcontour": [
           {
            "colorbar": {
             "outlinewidth": 0,
             "ticks": ""
            },
            "colorscale": [
             [
              0,
              "#0d0887"
             ],
             [
              0.1111111111111111,
              "#46039f"
             ],
             [
              0.2222222222222222,
              "#7201a8"
             ],
             [
              0.3333333333333333,
              "#9c179e"
             ],
             [
              0.4444444444444444,
              "#bd3786"
             ],
             [
              0.5555555555555556,
              "#d8576b"
             ],
             [
              0.6666666666666666,
              "#ed7953"
             ],
             [
              0.7777777777777778,
              "#fb9f3a"
             ],
             [
              0.8888888888888888,
              "#fdca26"
             ],
             [
              1,
              "#f0f921"
             ]
            ],
            "type": "histogram2dcontour"
           }
          ],
          "mesh3d": [
           {
            "colorbar": {
             "outlinewidth": 0,
             "ticks": ""
            },
            "type": "mesh3d"
           }
          ],
          "parcoords": [
           {
            "line": {
             "colorbar": {
              "outlinewidth": 0,
              "ticks": ""
             }
            },
            "type": "parcoords"
           }
          ],
          "pie": [
           {
            "automargin": true,
            "type": "pie"
           }
          ],
          "scatter": [
           {
            "fillpattern": {
             "fillmode": "overlay",
             "size": 10,
             "solidity": 0.2
            },
            "type": "scatter"
           }
          ],
          "scatter3d": [
           {
            "line": {
             "colorbar": {
              "outlinewidth": 0,
              "ticks": ""
             }
            },
            "marker": {
             "colorbar": {
              "outlinewidth": 0,
              "ticks": ""
             }
            },
            "type": "scatter3d"
           }
          ],
          "scattercarpet": [
           {
            "marker": {
             "colorbar": {
              "outlinewidth": 0,
              "ticks": ""
             }
            },
            "type": "scattercarpet"
           }
          ],
          "scattergeo": [
           {
            "marker": {
             "colorbar": {
              "outlinewidth": 0,
              "ticks": ""
             }
            },
            "type": "scattergeo"
           }
          ],
          "scattergl": [
           {
            "marker": {
             "colorbar": {
              "outlinewidth": 0,
              "ticks": ""
             }
            },
            "type": "scattergl"
           }
          ],
          "scattermapbox": [
           {
            "marker": {
             "colorbar": {
              "outlinewidth": 0,
              "ticks": ""
             }
            },
            "type": "scattermapbox"
           }
          ],
          "scatterpolar": [
           {
            "marker": {
             "colorbar": {
              "outlinewidth": 0,
              "ticks": ""
             }
            },
            "type": "scatterpolar"
           }
          ],
          "scatterpolargl": [
           {
            "marker": {
             "colorbar": {
              "outlinewidth": 0,
              "ticks": ""
             }
            },
            "type": "scatterpolargl"
           }
          ],
          "scatterternary": [
           {
            "marker": {
             "colorbar": {
              "outlinewidth": 0,
              "ticks": ""
             }
            },
            "type": "scatterternary"
           }
          ],
          "surface": [
           {
            "colorbar": {
             "outlinewidth": 0,
             "ticks": ""
            },
            "colorscale": [
             [
              0,
              "#0d0887"
             ],
             [
              0.1111111111111111,
              "#46039f"
             ],
             [
              0.2222222222222222,
              "#7201a8"
             ],
             [
              0.3333333333333333,
              "#9c179e"
             ],
             [
              0.4444444444444444,
              "#bd3786"
             ],
             [
              0.5555555555555556,
              "#d8576b"
             ],
             [
              0.6666666666666666,
              "#ed7953"
             ],
             [
              0.7777777777777778,
              "#fb9f3a"
             ],
             [
              0.8888888888888888,
              "#fdca26"
             ],
             [
              1,
              "#f0f921"
             ]
            ],
            "type": "surface"
           }
          ],
          "table": [
           {
            "cells": {
             "fill": {
              "color": "#EBF0F8"
             },
             "line": {
              "color": "white"
             }
            },
            "header": {
             "fill": {
              "color": "#C8D4E3"
             },
             "line": {
              "color": "white"
             }
            },
            "type": "table"
           }
          ]
         },
         "layout": {
          "annotationdefaults": {
           "arrowcolor": "#2a3f5f",
           "arrowhead": 0,
           "arrowwidth": 1
          },
          "autotypenumbers": "strict",
          "coloraxis": {
           "colorbar": {
            "outlinewidth": 0,
            "ticks": ""
           }
          },
          "colorscale": {
           "diverging": [
            [
             0,
             "#8e0152"
            ],
            [
             0.1,
             "#c51b7d"
            ],
            [
             0.2,
             "#de77ae"
            ],
            [
             0.3,
             "#f1b6da"
            ],
            [
             0.4,
             "#fde0ef"
            ],
            [
             0.5,
             "#f7f7f7"
            ],
            [
             0.6,
             "#e6f5d0"
            ],
            [
             0.7,
             "#b8e186"
            ],
            [
             0.8,
             "#7fbc41"
            ],
            [
             0.9,
             "#4d9221"
            ],
            [
             1,
             "#276419"
            ]
           ],
           "sequential": [
            [
             0,
             "#0d0887"
            ],
            [
             0.1111111111111111,
             "#46039f"
            ],
            [
             0.2222222222222222,
             "#7201a8"
            ],
            [
             0.3333333333333333,
             "#9c179e"
            ],
            [
             0.4444444444444444,
             "#bd3786"
            ],
            [
             0.5555555555555556,
             "#d8576b"
            ],
            [
             0.6666666666666666,
             "#ed7953"
            ],
            [
             0.7777777777777778,
             "#fb9f3a"
            ],
            [
             0.8888888888888888,
             "#fdca26"
            ],
            [
             1,
             "#f0f921"
            ]
           ],
           "sequentialminus": [
            [
             0,
             "#0d0887"
            ],
            [
             0.1111111111111111,
             "#46039f"
            ],
            [
             0.2222222222222222,
             "#7201a8"
            ],
            [
             0.3333333333333333,
             "#9c179e"
            ],
            [
             0.4444444444444444,
             "#bd3786"
            ],
            [
             0.5555555555555556,
             "#d8576b"
            ],
            [
             0.6666666666666666,
             "#ed7953"
            ],
            [
             0.7777777777777778,
             "#fb9f3a"
            ],
            [
             0.8888888888888888,
             "#fdca26"
            ],
            [
             1,
             "#f0f921"
            ]
           ]
          },
          "colorway": [
           "#636efa",
           "#EF553B",
           "#00cc96",
           "#ab63fa",
           "#FFA15A",
           "#19d3f3",
           "#FF6692",
           "#B6E880",
           "#FF97FF",
           "#FECB52"
          ],
          "font": {
           "color": "#2a3f5f"
          },
          "geo": {
           "bgcolor": "white",
           "lakecolor": "white",
           "landcolor": "#E5ECF6",
           "showlakes": true,
           "showland": true,
           "subunitcolor": "white"
          },
          "hoverlabel": {
           "align": "left"
          },
          "hovermode": "closest",
          "mapbox": {
           "style": "light"
          },
          "paper_bgcolor": "white",
          "plot_bgcolor": "#E5ECF6",
          "polar": {
           "angularaxis": {
            "gridcolor": "white",
            "linecolor": "white",
            "ticks": ""
           },
           "bgcolor": "#E5ECF6",
           "radialaxis": {
            "gridcolor": "white",
            "linecolor": "white",
            "ticks": ""
           }
          },
          "scene": {
           "xaxis": {
            "backgroundcolor": "#E5ECF6",
            "gridcolor": "white",
            "gridwidth": 2,
            "linecolor": "white",
            "showbackground": true,
            "ticks": "",
            "zerolinecolor": "white"
           },
           "yaxis": {
            "backgroundcolor": "#E5ECF6",
            "gridcolor": "white",
            "gridwidth": 2,
            "linecolor": "white",
            "showbackground": true,
            "ticks": "",
            "zerolinecolor": "white"
           },
           "zaxis": {
            "backgroundcolor": "#E5ECF6",
            "gridcolor": "white",
            "gridwidth": 2,
            "linecolor": "white",
            "showbackground": true,
            "ticks": "",
            "zerolinecolor": "white"
           }
          },
          "shapedefaults": {
           "line": {
            "color": "#2a3f5f"
           }
          },
          "ternary": {
           "aaxis": {
            "gridcolor": "white",
            "linecolor": "white",
            "ticks": ""
           },
           "baxis": {
            "gridcolor": "white",
            "linecolor": "white",
            "ticks": ""
           },
           "bgcolor": "#E5ECF6",
           "caxis": {
            "gridcolor": "white",
            "linecolor": "white",
            "ticks": ""
           }
          },
          "title": {
           "x": 0.05
          },
          "xaxis": {
           "automargin": true,
           "gridcolor": "white",
           "linecolor": "white",
           "ticks": "",
           "title": {
            "standoff": 15
           },
           "zerolinecolor": "white",
           "zerolinewidth": 2
          },
          "yaxis": {
           "automargin": true,
           "gridcolor": "white",
           "linecolor": "white",
           "ticks": "",
           "title": {
            "standoff": 15
           },
           "zerolinecolor": "white",
           "zerolinewidth": 2
          }
         }
        },
        "title": {
         "text": "XLV Candlestick Chart Since 2023"
        },
        "xaxis": {
         "anchor": "y",
         "domain": [
          0,
          0.94
         ],
         "title": {
          "text": "Date"
         }
        },
        "yaxis": {
         "anchor": "x",
         "domain": [
          0,
          1
         ],
         "fixedrange": false,
         "title": {
          "text": "Volume"
         }
        },
        "yaxis2": {
         "anchor": "x",
         "fixedrange": false,
         "overlaying": "y",
         "showgrid": false,
         "side": "right",
         "title": {
          "text": "Price"
         }
        }
       }
      }
     },
     "metadata": {},
     "output_type": "display_data"
    }
   ],
   "source": [
    "data_since_2023 = xlv_data[\"2023-01-01\":]\n",
    "\n",
    "figure = make_subplots(specs=[[{\"secondary_y\": True}]])\n",
    "figure.add_traces(\n",
    "    go.Candlestick(\n",
    "        x=data_since_2023.index,\n",
    "        open=data_since_2023.Open,\n",
    "        high=data_since_2023.High,\n",
    "        low=data_since_2023.Low,\n",
    "        close=data_since_2023.Close,\n",
    "    ),\n",
    "    secondary_ys=[True],\n",
    ")\n",
    "figure.add_traces(\n",
    "    go.Bar(x=data_since_2023.index, y=data_since_2023.Volume, opacity=0.5),\n",
    "    secondary_ys=[False],\n",
    ")\n",
    "\n",
    "figure.update_layout(\n",
    "    title=\"XLV Candlestick Chart Since 2023\",\n",
    "    xaxis_title=\"Date\",\n",
    "    yaxis_title=\"Volume\",\n",
    "    yaxis2_title=\"Price\",\n",
    "    showlegend=False,\n",
    ")\n",
    "figure.update_yaxes(fixedrange=False)\n",
    "figure.layout.yaxis2.showgrid = False\n",
    "figure.show()"
   ]
  },
  {
   "cell_type": "markdown",
   "metadata": {},
   "source": [
    "### 1.2. Data for The Volatility Index `VIX`\n"
   ]
  },
  {
   "cell_type": "markdown",
   "metadata": {},
   "source": [
    "As before, we have downloaded daily data for the volatility index [(INDEXCBOE: VIX)](https://www.cboe.com/tradable_products/vix/) over the same time period using `yfinance` and provided it to you in a CSV file named `vix_data.csv`. Load the data into a variable named `vix_data`. Make sure to set the index and parse the dates correctly.\n"
   ]
  },
  {
   "cell_type": "code",
   "execution_count": 10,
   "metadata": {},
   "outputs": [],
   "source": [
    "vix_data = pd.read_csv(\"vix_data.csv\", parse_dates=['Date']).set_index('Date')"
   ]
  },
  {
   "cell_type": "code",
   "execution_count": 11,
   "metadata": {},
   "outputs": [
    {
     "data": {
      "text/html": [
       "<div>\n",
       "<style scoped>\n",
       "    .dataframe tbody tr th:only-of-type {\n",
       "        vertical-align: middle;\n",
       "    }\n",
       "\n",
       "    .dataframe tbody tr th {\n",
       "        vertical-align: top;\n",
       "    }\n",
       "\n",
       "    .dataframe thead th {\n",
       "        text-align: right;\n",
       "    }\n",
       "</style>\n",
       "<table border=\"1\" class=\"dataframe\">\n",
       "  <thead>\n",
       "    <tr style=\"text-align: right;\">\n",
       "      <th></th>\n",
       "      <th>Open</th>\n",
       "      <th>High</th>\n",
       "      <th>Low</th>\n",
       "      <th>Close</th>\n",
       "      <th>Adj Close</th>\n",
       "      <th>Volume</th>\n",
       "    </tr>\n",
       "  </thead>\n",
       "  <tbody>\n",
       "    <tr>\n",
       "      <th>count</th>\n",
       "      <td>5094.000000</td>\n",
       "      <td>5094.000000</td>\n",
       "      <td>5094.000000</td>\n",
       "      <td>5094.000000</td>\n",
       "      <td>5094.000000</td>\n",
       "      <td>5094.0</td>\n",
       "    </tr>\n",
       "    <tr>\n",
       "      <th>mean</th>\n",
       "      <td>19.216993</td>\n",
       "      <td>20.155163</td>\n",
       "      <td>18.281728</td>\n",
       "      <td>19.082091</td>\n",
       "      <td>19.082091</td>\n",
       "      <td>0.0</td>\n",
       "    </tr>\n",
       "    <tr>\n",
       "      <th>std</th>\n",
       "      <td>8.782565</td>\n",
       "      <td>9.442302</td>\n",
       "      <td>8.095060</td>\n",
       "      <td>8.730636</td>\n",
       "      <td>8.730636</td>\n",
       "      <td>0.0</td>\n",
       "    </tr>\n",
       "    <tr>\n",
       "      <th>min</th>\n",
       "      <td>9.010000</td>\n",
       "      <td>9.310000</td>\n",
       "      <td>8.560000</td>\n",
       "      <td>9.140000</td>\n",
       "      <td>9.140000</td>\n",
       "      <td>0.0</td>\n",
       "    </tr>\n",
       "    <tr>\n",
       "      <th>25%</th>\n",
       "      <td>13.490000</td>\n",
       "      <td>14.020000</td>\n",
       "      <td>12.980000</td>\n",
       "      <td>13.390000</td>\n",
       "      <td>13.390000</td>\n",
       "      <td>0.0</td>\n",
       "    </tr>\n",
       "    <tr>\n",
       "      <th>50%</th>\n",
       "      <td>16.629999</td>\n",
       "      <td>17.425000</td>\n",
       "      <td>15.930000</td>\n",
       "      <td>16.535001</td>\n",
       "      <td>16.535001</td>\n",
       "      <td>0.0</td>\n",
       "    </tr>\n",
       "    <tr>\n",
       "      <th>75%</th>\n",
       "      <td>22.277501</td>\n",
       "      <td>23.367501</td>\n",
       "      <td>21.240000</td>\n",
       "      <td>22.090000</td>\n",
       "      <td>22.090000</td>\n",
       "      <td>0.0</td>\n",
       "    </tr>\n",
       "    <tr>\n",
       "      <th>max</th>\n",
       "      <td>82.690002</td>\n",
       "      <td>89.529999</td>\n",
       "      <td>72.760002</td>\n",
       "      <td>82.690002</td>\n",
       "      <td>82.690002</td>\n",
       "      <td>0.0</td>\n",
       "    </tr>\n",
       "  </tbody>\n",
       "</table>\n",
       "</div>"
      ],
      "text/plain": [
       "              Open         High          Low        Close    Adj Close  Volume\n",
       "count  5094.000000  5094.000000  5094.000000  5094.000000  5094.000000  5094.0\n",
       "mean     19.216993    20.155163    18.281728    19.082091    19.082091     0.0\n",
       "std       8.782565     9.442302     8.095060     8.730636     8.730636     0.0\n",
       "min       9.010000     9.310000     8.560000     9.140000     9.140000     0.0\n",
       "25%      13.490000    14.020000    12.980000    13.390000    13.390000     0.0\n",
       "50%      16.629999    17.425000    15.930000    16.535001    16.535001     0.0\n",
       "75%      22.277501    23.367501    21.240000    22.090000    22.090000     0.0\n",
       "max      82.690002    89.529999    72.760002    82.690002    82.690002     0.0"
      ]
     },
     "execution_count": 11,
     "metadata": {},
     "output_type": "execute_result"
    }
   ],
   "source": [
    "vix_data.describe()"
   ]
  },
  {
   "cell_type": "code",
   "execution_count": 12,
   "metadata": {},
   "outputs": [
    {
     "data": {
      "text/plain": [
       "DatetimeIndex(['2004-01-02', '2004-01-05', '2004-01-06', '2004-01-07',\n",
       "               '2004-01-08', '2004-01-09', '2004-01-12', '2004-01-13',\n",
       "               '2004-01-14', '2004-01-15',\n",
       "               ...\n",
       "               '2024-03-15', '2024-03-18', '2024-03-19', '2024-03-20',\n",
       "               '2024-03-21', '2024-03-22', '2024-03-25', '2024-03-26',\n",
       "               '2024-03-27', '2024-03-28'],\n",
       "              dtype='datetime64[ns]', name='Date', length=5094, freq=None)"
      ]
     },
     "execution_count": 12,
     "metadata": {},
     "output_type": "execute_result"
    }
   ],
   "source": [
    "vix_data.index"
   ]
  },
  {
   "cell_type": "markdown",
   "metadata": {},
   "source": [
    "Plot a line chart of the `Adj Close` value of the VIX using your method of choice (e.g. `plotly` or `matplotlib`).\n"
   ]
  },
  {
   "cell_type": "code",
   "execution_count": 13,
   "metadata": {},
   "outputs": [
    {
     "data": {
      "text/plain": [
       "<Axes: title={'center': 'Vix Adjusted Close'}, xlabel='Date'>"
      ]
     },
     "execution_count": 13,
     "metadata": {},
     "output_type": "execute_result"
    },
    {
     "data": {
      "image/png": "[encoded data removed]",
      "text/plain": [
       "<Figure size 1200x600 with 1 Axes>"
      ]
     },
     "metadata": {},
     "output_type": "display_data"
    }
   ],
   "source": [
    "vix_data['Adj Close'].plot(figsize=(12, 6), title='Vix Adjusted Close', lw=.8)"
   ]
  },
  {
   "cell_type": "markdown",
   "metadata": {},
   "source": [
    "### 1.3. Google Trends Data\n"
   ]
  },
  {
   "cell_type": "markdown",
   "metadata": {},
   "source": [
    "The **monthly** evolution of search interest in the term \"recession\" in the U.S. over the period of interest (Jan. 2003 - Mar. 2024) from the Google Trends website has been provided to you as a CSV file. We will load this data using Pandas into a DataFrame named `google_trends_data`, set the index column of the DataFrame to the \"`Month`\" column from the CSV and have Pandas try and parse these dates automatically.\n",
    "\n",
    "> Note: The \"Month\" column in the CSV is in \"YYYY-MM\" format.\n"
   ]
  },
  {
   "cell_type": "code",
   "execution_count": 14,
   "metadata": {},
   "outputs": [
    {
     "name": "stdout",
     "output_type": "stream",
     "text": [
      "<class 'pandas.core.frame.DataFrame'>\n",
      "DatetimeIndex: 243 entries, 2004-01-01 to 2024-03-01\n",
      "Data columns (total 1 columns):\n",
      " #   Column                  Non-Null Count  Dtype\n",
      "---  ------                  --------------  -----\n",
      " 0   recession_search_trend  243 non-null    int64\n",
      "dtypes: int64(1)\n",
      "memory usage: 3.8 KB\n"
     ]
    }
   ],
   "source": [
    "google_trends_data = pd.read_csv(\"GoogleTrendsData.csv\", parse_dates=['Month']).set_index('Month')\n",
    "google_trends_data.info()"
   ]
  },
  {
   "cell_type": "markdown",
   "metadata": {},
   "source": [
    "As noted above, the CSV lists **monthly** search trends data and the `Month` column is in YYYY-MM format. How has Pandas interpreted and parsed these into specific dates? Take a look at `google_trends_data`'s index.\n"
   ]
  },
  {
   "cell_type": "code",
   "execution_count": 15,
   "metadata": {},
   "outputs": [
    {
     "data": {
      "text/plain": [
       "DatetimeIndex(['2004-01-01', '2004-02-01', '2004-03-01', '2004-04-01',\n",
       "               '2004-05-01', '2004-06-01', '2004-07-01', '2004-08-01',\n",
       "               '2004-09-01', '2004-10-01',\n",
       "               ...\n",
       "               '2023-06-01', '2023-07-01', '2023-08-01', '2023-09-01',\n",
       "               '2023-10-01', '2023-11-01', '2023-12-01', '2024-01-01',\n",
       "               '2024-02-01', '2024-03-01'],\n",
       "              dtype='datetime64[ns]', name='Month', length=243, freq=None)"
      ]
     },
     "execution_count": 15,
     "metadata": {},
     "output_type": "execute_result"
    }
   ],
   "source": [
    "google_trends_data.index"
   ]
  },
  {
   "cell_type": "markdown",
   "metadata": {},
   "source": [
    "We would have liked to assign the data points to the last day of the respective months, as this data would have been available at the _end_ of each period. Shift the index column of `google_trends_data` to do this.\n",
    "\n",
    "> Hint: You can use `pd.offsets.MonthEnd()` from Pandas.\n"
   ]
  },
  {
   "cell_type": "code",
   "execution_count": 16,
   "metadata": {},
   "outputs": [],
   "source": [
    "google_trends_data.index = pd.to_datetime(google_trends_data.index, \n",
    "                                          format='%Y-%m') + pd.offsets.MonthEnd(0)"
   ]
  },
  {
   "cell_type": "code",
   "execution_count": 17,
   "metadata": {},
   "outputs": [
    {
     "data": {
      "text/plain": [
       "DatetimeIndex(['2004-01-31', '2004-02-29', '2004-03-31', '2004-04-30',\n",
       "               '2004-05-31', '2004-06-30', '2004-07-31', '2004-08-31',\n",
       "               '2004-09-30', '2004-10-31',\n",
       "               ...\n",
       "               '2023-06-30', '2023-07-31', '2023-08-31', '2023-09-30',\n",
       "               '2023-10-31', '2023-11-30', '2023-12-31', '2024-01-31',\n",
       "               '2024-02-29', '2024-03-31'],\n",
       "              dtype='datetime64[ns]', name='Month', length=243, freq=None)"
      ]
     },
     "execution_count": 17,
     "metadata": {},
     "output_type": "execute_result"
    }
   ],
   "source": [
    "google_trends_data.index"
   ]
  },
  {
   "cell_type": "markdown",
   "metadata": {},
   "source": [
    "Run the cell below to visualize this data as a line plot.\n",
    "\n",
    "> **Note from Google:** \"Numbers represent search interest relative to the highest point on the chart for the given region and time. A value of 100 is the peak popularity for the term. A value of 50 means that the term is half as popular. A score of 0 means there was not enough data for this term.\"\n"
   ]
  },
  {
   "cell_type": "markdown",
   "metadata": {},
   "source": [
    "The following test shows that all values are non-zero and no additional data imputation is necessary."
   ]
  },
  {
   "cell_type": "code",
   "execution_count": 18,
   "metadata": {},
   "outputs": [
    {
     "data": {
      "text/plain": [
       "recession_search_trend    False\n",
       "dtype: bool"
      ]
     },
     "execution_count": 18,
     "metadata": {},
     "output_type": "execute_result"
    }
   ],
   "source": [
    "(google_trends_data == 0).any()"
   ]
  },
  {
   "cell_type": "code",
   "execution_count": 19,
   "metadata": {},
   "outputs": [
    {
     "data": {
      "image/png": "[encoded data removed]",
      "text/plain": [
       "<Figure size 1200x600 with 1 Axes>"
      ]
     },
     "metadata": {},
     "output_type": "display_data"
    }
   ],
   "source": [
    "fig, ax = plt.subplots(figsize=(12, 6))\n",
    "ax.plot(google_trends_data)\n",
    "date_fmt = mdates.DateFormatter(\"%Y-%m\")\n",
    "plt.xlim(google_trends_data.index[0], google_trends_data.index[-1])\n",
    "plt.xticks(rotation=45)\n",
    "plt.title(\"Google Trends Data (Monthly)\")\n",
    "plt.legend([\"Search interest over time in the term 'recession' in the US\"])\n",
    "plt.show()"
   ]
  },
  {
   "cell_type": "markdown",
   "metadata": {},
   "source": [
    "But not every month-end is a trading day. Also, what value should the model train on for all the days in between month-ends? Below, we have provided you with code to convert the monthly data to daily and interpolate the end-of-month values to get all the in-between values. You will be using this new `google_trends_daily` data going forward.\n"
   ]
  },
  {
   "cell_type": "code",
   "execution_count": 20,
   "metadata": {
    "vscode": {
     "languageId": "ruby"
    }
   },
   "outputs": [],
   "source": [
    "google_trends_daily = google_trends_data.resample('D').asfreq().interpolate(method='linear')"
   ]
  },
  {
   "cell_type": "code",
   "execution_count": 21,
   "metadata": {
    "vscode": {
     "languageId": "ruby"
    }
   },
   "outputs": [
    {
     "data": {
      "image/png": "[encoded data removed]",
      "text/plain": [
       "<Figure size 1200x600 with 1 Axes>"
      ]
     },
     "metadata": {},
     "output_type": "display_data"
    }
   ],
   "source": [
    "# # The shape of the chart should not have changed\n",
    "google_trends_daily.plot.line(title=\"Google Trends Data (Daily)\", figsize=(12, 6)).legend(\n",
    "     labels=['Search interest over time in the term \"recession\" in the US']\n",
    " );"
   ]
  },
  {
   "cell_type": "markdown",
   "metadata": {},
   "source": [
    "## 2. Feature Engineering and Analysis\n"
   ]
  },
  {
   "cell_type": "markdown",
   "metadata": {},
   "source": [
    "In this section, you will create a new DataFrame called `data` which will house all of the features as well as the prediction target. Then you will analyze the features and look for potentially problematic features.\n",
    "\n",
    "Start by running the cell below to create `data` as an empty DataFrame with just an index that matches `XLV`'s.\n"
   ]
  },
  {
   "cell_type": "code",
   "execution_count": 22,
   "metadata": {},
   "outputs": [],
   "source": [
    "data = pd.DataFrame(index=xlv_data.index)"
   ]
  },
  {
   "cell_type": "markdown",
   "metadata": {},
   "source": [
    "### 2.1. Feature Engineering\n"
   ]
  },
  {
   "cell_type": "markdown",
   "metadata": {},
   "source": [
    "#### 2.1.1. Month and Weekday\n"
   ]
  },
  {
   "cell_type": "markdown",
   "metadata": {},
   "source": [
    "Add the `month` and `weekday` columns to `data` as categorical features (integer labels) from its index.\n"
   ]
  },
  {
   "cell_type": "code",
   "execution_count": 23,
   "metadata": {},
   "outputs": [
    {
     "name": "stdout",
     "output_type": "stream",
     "text": [
      "<class 'pandas.core.frame.DataFrame'>\n",
      "DatetimeIndex: 5094 entries, 2004-01-02 to 2024-03-28\n",
      "Data columns (total 2 columns):\n",
      " #   Column   Non-Null Count  Dtype   \n",
      "---  ------   --------------  -----   \n",
      " 0   month    5094 non-null   category\n",
      " 1   weekday  5094 non-null   category\n",
      "dtypes: category(2)\n",
      "memory usage: 179.2 KB\n"
     ]
    }
   ],
   "source": [
    "data['month'] = pd.Categorical(data.index.month)\n",
    "data['weekday'] = pd.Categorical(data.index.weekday)\n",
    "data.info()"
   ]
  },
  {
   "cell_type": "markdown",
   "metadata": {},
   "source": [
    "You do not want to train a model using these columns as they are, because the numbers themselves and the inherent \"order\" of months and weekdays do not really have any significance, but the model may interpret them as meaningful. You could either (a) use one-hot encoding to turn each category to a separate binary feature, or (b) treat them as cyclical features. The choice is somewhat arbitrary and depends on how important a \"feature\" you believe the cyclicality to be.\n",
    "\n",
    "Below, you will:\n",
    "\n",
    "- Treat `month` as a cyclical feature, creating two features (`month_sin` and `month_cos`). (👉 See: [Trigonometric features](https://scikit-learn.org/stable/auto_examples/applications/plot_cyclical_feature_engineering.html#trigonometric-features))\n",
    "- One-hot-encode `weekday` and create five additional features of type `int32` (one for each business day) with the `weekday` prefix. (👉 See: [`pandas.get_dummies()`](https://pandas.pydata.org/docs/reference/api/pandas.get_dummies.html))\n",
    "- Make sure the original `month` and `weekday` columns are no longer present in `data`. (`drop()` them if necessary.)\n"
   ]
  },
  {
   "cell_type": "code",
   "execution_count": 24,
   "metadata": {},
   "outputs": [],
   "source": [
    "# Treat `month` as a \"cyclical\" feature with a period of 12 months.\n",
    "def cos_transformer(period: int) -> FunctionTransformer:\n",
    "    return FunctionTransformer(lambda x: np.cos(x / period * 2 * np.pi))\n",
    "\n",
    "def sin_transformer(period: int) -> FunctionTransformer:\n",
    "    return FunctionTransformer(lambda x: np.sin(x / period * 2 * np.pi))\n",
    "\n",
    "cos_pipeline = make_pipeline(OrdinalEncoder(), cos_transformer(12))\n",
    "sin_pipeline = make_pipeline(OrdinalEncoder(), sin_transformer(12))\n",
    "\n",
    "data[\"month_cos\"] = cos_pipeline.fit_transform(data[['month']])\n",
    "data[\"month_sin\"] = sin_pipeline.fit_transform(data[['month']])\n",
    "\n",
    "\n",
    "# Treat `weekday` as a \"categorical\" feature and one-hot-encode it.\n",
    "data_weekday = pd.get_dummies(data['weekday'], prefix='weekday', dtype=int)\n",
    "\n",
    "data = pd.concat([data, data_weekday], axis=1)\n",
    "\n",
    "# Drop the original `month` and `weekday` column.\n",
    "data.drop(['month', 'weekday'], axis=1, inplace=True)"
   ]
  },
  {
   "cell_type": "markdown",
   "metadata": {},
   "source": [
    "#### 2.1.2. Historical Returns\n"
   ]
  },
  {
   "cell_type": "markdown",
   "metadata": {},
   "source": [
    "Next, add features for historical returns of the XLV ETF from its `Adj Close` column. For each date, calculate rolling **simple** returns over the past 1, 5, 10 and 20 days. Create 4 columns in `data` named `ret_#d_hist` where `#` is the lookback period. The list `hist_ret_lookbacks` is provided if you wish to use it.\n"
   ]
  },
  {
   "cell_type": "code",
   "execution_count": 25,
   "metadata": {},
   "outputs": [],
   "source": [
    "# Create features for 1-day, 5-day, 10-day and 20-day historical returns\n",
    "hist_ret_lookbacks = [1, 5, 10, 20]\n",
    "\n",
    "data = data.join(\n",
    "    pd.DataFrame(\n",
    "        {\n",
    "            f'ret_{w}d_hist': xlv_data['Adj Close'].pct_change(w) \n",
    "            for w in hist_ret_lookbacks\n",
    "        }\n",
    "    )\n",
    ")"
   ]
  },
  {
   "cell_type": "markdown",
   "metadata": {},
   "source": [
    "The cell below plots the histograms of the returns you just calculated. They should look normally distributed around zero.\n"
   ]
  },
  {
   "cell_type": "code",
   "execution_count": 26,
   "metadata": {},
   "outputs": [
    {
     "data": {
      "image/png": "[encoded data removed]",
      "text/plain": [
       "<Figure size 1000x800 with 4 Axes>"
      ]
     },
     "metadata": {},
     "output_type": "display_data"
    }
   ],
   "source": [
    "hist_ret_lookbacks = [1, 5, 10, 20] # In case it was deleted from the previous cell\n",
    "\n",
    "fig, axes = plt.subplots(2, 2, figsize=(10, 8))\n",
    "\n",
    "\n",
    "def plot_hist_returns(ax, data, col, title, xlim):\n",
    "    ax.hist(data[col], bins=200)\n",
    "    ax.set_xlim(-xlim, xlim)\n",
    "    ax.set_title(title)\n",
    "\n",
    "# Use the same limit for all plots\n",
    "xlim = max([data[f\"ret_{n}d_hist\"].abs().max() for n in hist_ret_lookbacks]) + 0.05\n",
    "\n",
    "for lookback, ax in zip(hist_ret_lookbacks, axes.ravel()):\n",
    "    plot_hist_returns(ax,\n",
    "                    data,\n",
    "                    f\"ret_{lookback}d_hist\",\n",
    "                    f\"Distribution of Historical {lookback}-Day Returns\",\n",
    "                    xlim)\n",
    "\n",
    "plt.tight_layout()\n",
    "plt.show()"
   ]
  },
  {
   "cell_type": "markdown",
   "metadata": {},
   "source": [
    "#### 2.1.3. Trade Volumes"
   ]
  },
  {
   "cell_type": "markdown",
   "metadata": {},
   "source": [
    "As trading volumes span several orders of magnitude, take the natural logarithm of `Volume` and use it as a feature instead. This helps emphasize variations in its lower range. Use `np.log()` and call this new feature `log_volume`.\n",
    "\n",
    "**Note:** For tree-based models such as Decision Trees and Random Forests, scaling is not necessary. But feature scaling becomes critically important if you use other model types (e.g. distance-based models).\n"
   ]
  },
  {
   "cell_type": "code",
   "execution_count": 27,
   "metadata": {},
   "outputs": [],
   "source": [
    "data[\"log_volume\"] = np.log(xlv_data['Volume'])"
   ]
  },
  {
   "cell_type": "markdown",
   "metadata": {},
   "source": [
    "#### 2.1.4. Technical Indicators"
   ]
  },
  {
   "cell_type": "markdown",
   "metadata": {},
   "source": [
    "Add a feature named `ibs` which is calculated as (Close - Low) / (High - Low). This measure, a number between zero and one and sometimes referred to as the \"Internal Bar Strength\", denotes how \"strong\" the closing price is relative to the high and low prices within the same period.\n",
    "> **Note:** Make sure to use `Close` (not `Adj Close`)."
   ]
  },
  {
   "cell_type": "code",
   "execution_count": 28,
   "metadata": {},
   "outputs": [],
   "source": [
    "# Engineer the technical indicator \"Internal Bar Strength\" (IBS) from XLV's price data\n",
    "data[\"ibs\"] = (xlv_data['Close'] - xlv_data['Low']) / (xlv_data['High'] - xlv_data['Low'])"
   ]
  },
  {
   "cell_type": "markdown",
   "metadata": {},
   "source": [
    "Run the cell below to add a few more technical indicators, including Bollinger Band features and indicators, as well as the Relative Strength Index (RSI)."
   ]
  },
  {
   "cell_type": "code",
   "execution_count": 29,
   "metadata": {},
   "outputs": [],
   "source": [
    "# Get some more technical indicators using the `ta` library\n",
    "\n",
    "indicator_bb = BollingerBands(close=xlv_data[\"Close\"], window=20, window_dev=2)\n",
    "indicator_rsi = RSIIndicator(close=xlv_data[\"Close\"], window=14)\n",
    "\n",
    "# Add Bollinger Bands features\n",
    "data[\"bb_bbm\"] = indicator_bb.bollinger_mavg()\n",
    "data[\"bb_bbh\"] = indicator_bb.bollinger_hband()\n",
    "data[\"bb_bbl\"] = indicator_bb.bollinger_lband()\n",
    "\n",
    "# Add Bollinger Band high and low indicators\n",
    "data[\"bb_bbhi\"] = indicator_bb.bollinger_hband_indicator()\n",
    "data[\"bb_bbli\"] = indicator_bb.bollinger_lband_indicator()\n",
    "\n",
    "# Add Width Size and Percentage Bollinger Bands\n",
    "data[\"bb_bbw\"] = indicator_bb.bollinger_wband()\n",
    "data[\"bb_bbp\"] = indicator_bb.bollinger_pband()\n",
    "\n",
    "# Add RSI\n",
    "data[\"rsi\"] = indicator_rsi.rsi()"
   ]
  },
  {
   "cell_type": "markdown",
   "metadata": {},
   "source": [
    "#### 2.1.5. The Target of Prediction"
   ]
  },
  {
   "cell_type": "markdown",
   "metadata": {},
   "source": [
    "Add the column `tgt_is_pos_ret_5d_fut` as type `int` to `data`, denoting whether forward-looking 5-day returns on each day are positive (a value of `1`) or negative (a value of `0`).\n",
    "> **Note:** Again, as before, calculte **simple** returns from the `Adj Close` column of `xlv_data`."
   ]
  },
  {
   "cell_type": "code",
   "execution_count": 30,
   "metadata": {},
   "outputs": [],
   "source": [
    "# Create the prediction target: an integer indicating whether future 5-day returns are positive (1) or negative (0)\n",
    "data['ret_5d_fut'] = (xlv_data['Adj Close'].shift(-5) / xlv_data['Adj Close'] - 1)\n",
    "data['tgt_is_pos_ret_5d_fut'] = (data['ret_5d_fut'] >= 0).astype(int)\n",
    "data.drop(inplace=True, columns=['ret_5d_fut'], axis=1)"
   ]
  },
  {
   "cell_type": "markdown",
   "metadata": {},
   "source": [
    "Run the cells below to get an idea of how balanced the distribution of the target variable is throughout the data."
   ]
  },
  {
   "cell_type": "code",
   "execution_count": 31,
   "metadata": {},
   "outputs": [
    {
     "data": {
      "text/plain": [
       "tgt_is_pos_ret_5d_fut\n",
       "1    0.570868\n",
       "0    0.429132\n",
       "Name: count, dtype: float64"
      ]
     },
     "execution_count": 31,
     "metadata": {},
     "output_type": "execute_result"
    }
   ],
   "source": [
    "target_col_name = \"tgt_is_pos_ret_5d_fut\"\n",
    "# Inspect the distribution of the target variable\n",
    "target_value_counts = data[target_col_name].value_counts()\n",
    "target_value_counts / len(data)"
   ]
  },
  {
   "cell_type": "code",
   "execution_count": 32,
   "metadata": {},
   "outputs": [
    {
     "data": {
      "image/png": "[encoded data removed]",
      "text/plain": [
       "<Figure size 640x480 with 1 Axes>"
      ]
     },
     "metadata": {},
     "output_type": "display_data"
    }
   ],
   "source": [
    "target_value_percentages = target_value_counts / len(data) * 100\n",
    "\n",
    "plt.bar(target_value_percentages.index.astype(str), target_value_percentages.values)\n",
    "plt.xlabel(\"Target Variable: Positive 5-day Forward-Looking Return (1=Yes, 0=No)\")\n",
    "plt.ylabel(\"Percentage of Observations (%)\")\n",
    "plt.title(\"Distribution of Target Variable\")\n",
    "plt.show()"
   ]
  },
  {
   "cell_type": "markdown",
   "metadata": {},
   "source": [
    "Does the data look relatively balanced or grossly unbalanced in the distribution of the target variable? Why is this important?\n"
   ]
  },
  {
   "cell_type": "markdown",
   "metadata": {},
   "source": [
    "**Answer**: The data looks slightly imbalanced towards label `1`. Grossly unbalanced data (which is not the case here) can affect the quality of prediction by inflating the model's apparent ability to correctly predict the target variables."
   ]
  },
  {
   "cell_type": "markdown",
   "metadata": {},
   "source": [
    "#### 2.1.6. Stitching Everything Together"
   ]
  },
  {
   "cell_type": "markdown",
   "metadata": {},
   "source": [
    "You will now add the `vix_data` and `google_trends_daily` as features to `data`. You will also rename the column corresponding to the VIX feature. Run the cell below to do so."
   ]
  },
  {
   "cell_type": "code",
   "execution_count": 33,
   "metadata": {},
   "outputs": [],
   "source": [
    "# Join with the Google Trends data and VIX data\n",
    "data = data.join(google_trends_daily, how=\"left\")\n",
    "data = data.join(vix_data[\"Adj Close\"], how=\"left\")\n",
    "data.rename(columns={\"Adj Close\": \"vix\"}, inplace=True)"
   ]
  },
  {
   "cell_type": "markdown",
   "metadata": {},
   "source": [
    "### 2.2. Further Data Preprocessing and Cleaning\n"
   ]
  },
  {
   "cell_type": "markdown",
   "metadata": {},
   "source": [
    "While engineering new features, some `NaN` values were created. You now need to clean the combined DataFrame. Inspect `data` to see how many `NaN` values there are per column."
   ]
  },
  {
   "cell_type": "code",
   "execution_count": 34,
   "metadata": {},
   "outputs": [
    {
     "data": {
      "text/plain": [
       "month_cos                  0\n",
       "month_sin                  0\n",
       "weekday_0                  0\n",
       "weekday_1                  0\n",
       "weekday_2                  0\n",
       "weekday_3                  0\n",
       "weekday_4                  0\n",
       "ret_1d_hist                1\n",
       "ret_5d_hist                5\n",
       "ret_10d_hist              10\n",
       "ret_20d_hist              20\n",
       "log_volume                 0\n",
       "ibs                        0\n",
       "bb_bbm                    19\n",
       "bb_bbh                    19\n",
       "bb_bbl                    19\n",
       "bb_bbhi                    0\n",
       "bb_bbli                    0\n",
       "bb_bbw                    19\n",
       "bb_bbp                    19\n",
       "rsi                       13\n",
       "tgt_is_pos_ret_5d_fut      0\n",
       "recession_search_trend    20\n",
       "vix                        0\n",
       "dtype: int64"
      ]
     },
     "execution_count": 34,
     "metadata": {},
     "output_type": "execute_result"
    }
   ],
   "source": [
    "data.isna().sum()"
   ]
  },
  {
   "cell_type": "markdown",
   "metadata": {},
   "source": [
    "Some features, such as historical returns, RSI, Bollinger Bands and BB indicators cannot be calculated for the first `n` days due to their \"rolling\" nature. In general, missing values can sometimes be imputed with reasonable estimates. But here you will simply drop the rows containing them. The largest `n` is `20`, corresponding to the calculation of 20-day historical returns. Drop the first 20 rows of `data`.\n"
   ]
  },
  {
   "cell_type": "code",
   "execution_count": 35,
   "metadata": {},
   "outputs": [],
   "source": [
    "data.dropna(inplace=True)"
   ]
  },
  {
   "cell_type": "markdown",
   "metadata": {},
   "source": [
    "Are there any more missing values?"
   ]
  },
  {
   "cell_type": "code",
   "execution_count": 36,
   "metadata": {},
   "outputs": [
    {
     "data": {
      "text/plain": [
       "month_cos                 0\n",
       "month_sin                 0\n",
       "weekday_0                 0\n",
       "weekday_1                 0\n",
       "weekday_2                 0\n",
       "weekday_3                 0\n",
       "weekday_4                 0\n",
       "ret_1d_hist               0\n",
       "ret_5d_hist               0\n",
       "ret_10d_hist              0\n",
       "ret_20d_hist              0\n",
       "log_volume                0\n",
       "ibs                       0\n",
       "bb_bbm                    0\n",
       "bb_bbh                    0\n",
       "bb_bbl                    0\n",
       "bb_bbhi                   0\n",
       "bb_bbli                   0\n",
       "bb_bbw                    0\n",
       "bb_bbp                    0\n",
       "rsi                       0\n",
       "tgt_is_pos_ret_5d_fut     0\n",
       "recession_search_trend    0\n",
       "vix                       0\n",
       "dtype: int64"
      ]
     },
     "execution_count": 36,
     "metadata": {},
     "output_type": "execute_result"
    }
   ],
   "source": [
    "data.isna().sum()"
   ]
  },
  {
   "cell_type": "code",
   "execution_count": 37,
   "metadata": {},
   "outputs": [],
   "source": [
    "assert data.isna().any().sum() == 0"
   ]
  },
  {
   "cell_type": "markdown",
   "metadata": {},
   "source": [
    "Even if there aren't, you remember that when you calculated the target variable (`tgt_is_pos_ret_5d_fut`) based on forward-looking 5-day rolling returns, you could not have known future returns for the last five days of `data`! Therefore the last 5 rows of data should be dropped.\n"
   ]
  },
  {
   "cell_type": "code",
   "execution_count": 38,
   "metadata": {},
   "outputs": [],
   "source": [
    "data.drop(data.tail(5).index, inplace=True)"
   ]
  },
  {
   "cell_type": "markdown",
   "metadata": {},
   "source": [
    "Let us take a final look at the types and statistical characteristics of the set of features and targets.\n"
   ]
  },
  {
   "cell_type": "code",
   "execution_count": 39,
   "metadata": {},
   "outputs": [
    {
     "name": "stdout",
     "output_type": "stream",
     "text": [
      "<class 'pandas.core.frame.DataFrame'>\n",
      "DatetimeIndex: 5069 entries, 2004-02-02 to 2024-03-21\n",
      "Data columns (total 24 columns):\n",
      " #   Column                  Non-Null Count  Dtype  \n",
      "---  ------                  --------------  -----  \n",
      " 0   month_cos               5069 non-null   float64\n",
      " 1   month_sin               5069 non-null   float64\n",
      " 2   weekday_0               5069 non-null   int64  \n",
      " 3   weekday_1               5069 non-null   int64  \n",
      " 4   weekday_2               5069 non-null   int64  \n",
      " 5   weekday_3               5069 non-null   int64  \n",
      " 6   weekday_4               5069 non-null   int64  \n",
      " 7   ret_1d_hist             5069 non-null   float64\n",
      " 8   ret_5d_hist             5069 non-null   float64\n",
      " 9   ret_10d_hist            5069 non-null   float64\n",
      " 10  ret_20d_hist            5069 non-null   float64\n",
      " 11  log_volume              5069 non-null   float64\n",
      " 12  ibs                     5069 non-null   float64\n",
      " 13  bb_bbm                  5069 non-null   float64\n",
      " 14  bb_bbh                  5069 non-null   float64\n",
      " 15  bb_bbl                  5069 non-null   float64\n",
      " 16  bb_bbhi                 5069 non-null   float64\n",
      " 17  bb_bbli                 5069 non-null   float64\n",
      " 18  bb_bbw                  5069 non-null   float64\n",
      " 19  bb_bbp                  5069 non-null   float64\n",
      " 20  rsi                     5069 non-null   float64\n",
      " 21  tgt_is_pos_ret_5d_fut   5069 non-null   int64  \n",
      " 22  recession_search_trend  5069 non-null   float64\n",
      " 23  vix                     5069 non-null   float64\n",
      "dtypes: float64(18), int64(6)\n",
      "memory usage: 990.0 KB\n"
     ]
    }
   ],
   "source": [
    "data.info()"
   ]
  },
  {
   "cell_type": "code",
   "execution_count": 40,
   "metadata": {},
   "outputs": [
    {
     "data": {
      "text/html": [
       "<div>\n",
       "<style scoped>\n",
       "    .dataframe tbody tr th:only-of-type {\n",
       "        vertical-align: middle;\n",
       "    }\n",
       "\n",
       "    .dataframe tbody tr th {\n",
       "        vertical-align: top;\n",
       "    }\n",
       "\n",
       "    .dataframe thead th {\n",
       "        text-align: right;\n",
       "    }\n",
       "</style>\n",
       "<table border=\"1\" class=\"dataframe\">\n",
       "  <thead>\n",
       "    <tr style=\"text-align: right;\">\n",
       "      <th></th>\n",
       "      <th>month_cos</th>\n",
       "      <th>month_sin</th>\n",
       "      <th>weekday_0</th>\n",
       "      <th>weekday_1</th>\n",
       "      <th>weekday_2</th>\n",
       "      <th>weekday_3</th>\n",
       "      <th>weekday_4</th>\n",
       "      <th>ret_1d_hist</th>\n",
       "      <th>ret_5d_hist</th>\n",
       "      <th>ret_10d_hist</th>\n",
       "      <th>ret_20d_hist</th>\n",
       "      <th>log_volume</th>\n",
       "      <th>ibs</th>\n",
       "      <th>bb_bbm</th>\n",
       "      <th>bb_bbh</th>\n",
       "      <th>bb_bbl</th>\n",
       "      <th>bb_bbhi</th>\n",
       "      <th>bb_bbli</th>\n",
       "      <th>bb_bbw</th>\n",
       "      <th>bb_bbp</th>\n",
       "      <th>rsi</th>\n",
       "      <th>tgt_is_pos_ret_5d_fut</th>\n",
       "      <th>recession_search_trend</th>\n",
       "      <th>vix</th>\n",
       "    </tr>\n",
       "  </thead>\n",
       "  <tbody>\n",
       "    <tr>\n",
       "      <th>count</th>\n",
       "      <td>5.069000e+03</td>\n",
       "      <td>5.069000e+03</td>\n",
       "      <td>5069.000000</td>\n",
       "      <td>5069.000000</td>\n",
       "      <td>5069.000000</td>\n",
       "      <td>5069.000000</td>\n",
       "      <td>5069.000000</td>\n",
       "      <td>5069.000000</td>\n",
       "      <td>5069.000000</td>\n",
       "      <td>5069.000000</td>\n",
       "      <td>5069.000000</td>\n",
       "      <td>5069.000000</td>\n",
       "      <td>5069.000000</td>\n",
       "      <td>5069.000000</td>\n",
       "      <td>5069.000000</td>\n",
       "      <td>5069.000000</td>\n",
       "      <td>5069.000000</td>\n",
       "      <td>5069.000000</td>\n",
       "      <td>5069.000000</td>\n",
       "      <td>5069.000000</td>\n",
       "      <td>5069.000000</td>\n",
       "      <td>5069.000000</td>\n",
       "      <td>5069.000000</td>\n",
       "      <td>5069.000000</td>\n",
       "    </tr>\n",
       "    <tr>\n",
       "      <th>mean</th>\n",
       "      <td>-7.976967e-03</td>\n",
       "      <td>1.327574e-03</td>\n",
       "      <td>0.186625</td>\n",
       "      <td>0.205169</td>\n",
       "      <td>0.205761</td>\n",
       "      <td>0.202210</td>\n",
       "      <td>0.200237</td>\n",
       "      <td>0.000427</td>\n",
       "      <td>0.002097</td>\n",
       "      <td>0.004185</td>\n",
       "      <td>0.008346</td>\n",
       "      <td>15.409240</td>\n",
       "      <td>0.534112</td>\n",
       "      <td>65.190507</td>\n",
       "      <td>67.147802</td>\n",
       "      <td>63.233213</td>\n",
       "      <td>0.060761</td>\n",
       "      <td>0.054054</td>\n",
       "      <td>5.948065</td>\n",
       "      <td>0.567198</td>\n",
       "      <td>53.683015</td>\n",
       "      <td>0.570724</td>\n",
       "      <td>13.290878</td>\n",
       "      <td>19.099797</td>\n",
       "    </tr>\n",
       "    <tr>\n",
       "      <th>std</th>\n",
       "      <td>7.052805e-01</td>\n",
       "      <td>7.090214e-01</td>\n",
       "      <td>0.389648</td>\n",
       "      <td>0.403865</td>\n",
       "      <td>0.404296</td>\n",
       "      <td>0.401687</td>\n",
       "      <td>0.400217</td>\n",
       "      <td>0.010493</td>\n",
       "      <td>0.021729</td>\n",
       "      <td>0.029813</td>\n",
       "      <td>0.040486</td>\n",
       "      <td>1.081947</td>\n",
       "      <td>0.307988</td>\n",
       "      <td>36.490915</td>\n",
       "      <td>37.643799</td>\n",
       "      <td>35.382734</td>\n",
       "      <td>0.238916</td>\n",
       "      <td>0.226147</td>\n",
       "      <td>3.644471</td>\n",
       "      <td>0.326476</td>\n",
       "      <td>11.253373</td>\n",
       "      <td>0.495022</td>\n",
       "      <td>12.478947</td>\n",
       "      <td>8.747777</td>\n",
       "    </tr>\n",
       "    <tr>\n",
       "      <th>min</th>\n",
       "      <td>-1.000000e+00</td>\n",
       "      <td>-1.000000e+00</td>\n",
       "      <td>0.000000</td>\n",
       "      <td>0.000000</td>\n",
       "      <td>0.000000</td>\n",
       "      <td>0.000000</td>\n",
       "      <td>0.000000</td>\n",
       "      <td>-0.098610</td>\n",
       "      <td>-0.185835</td>\n",
       "      <td>-0.217250</td>\n",
       "      <td>-0.251548</td>\n",
       "      <td>10.980195</td>\n",
       "      <td>0.000000</td>\n",
       "      <td>23.217500</td>\n",
       "      <td>24.569328</td>\n",
       "      <td>20.419952</td>\n",
       "      <td>0.000000</td>\n",
       "      <td>0.000000</td>\n",
       "      <td>1.165471</td>\n",
       "      <td>-0.452267</td>\n",
       "      <td>13.539141</td>\n",
       "      <td>0.000000</td>\n",
       "      <td>2.032258</td>\n",
       "      <td>9.140000</td>\n",
       "    </tr>\n",
       "    <tr>\n",
       "      <th>25%</th>\n",
       "      <td>-8.660254e-01</td>\n",
       "      <td>-5.000000e-01</td>\n",
       "      <td>0.000000</td>\n",
       "      <td>0.000000</td>\n",
       "      <td>0.000000</td>\n",
       "      <td>0.000000</td>\n",
       "      <td>0.000000</td>\n",
       "      <td>-0.004458</td>\n",
       "      <td>-0.009204</td>\n",
       "      <td>-0.011609</td>\n",
       "      <td>-0.013455</td>\n",
       "      <td>15.158428</td>\n",
       "      <td>0.259258</td>\n",
       "      <td>32.040500</td>\n",
       "      <td>32.789038</td>\n",
       "      <td>31.152674</td>\n",
       "      <td>0.000000</td>\n",
       "      <td>0.000000</td>\n",
       "      <td>3.790178</td>\n",
       "      <td>0.310053</td>\n",
       "      <td>46.019133</td>\n",
       "      <td>0.000000</td>\n",
       "      <td>6.322581</td>\n",
       "      <td>13.380000</td>\n",
       "    </tr>\n",
       "    <tr>\n",
       "      <th>50%</th>\n",
       "      <td>-1.836970e-16</td>\n",
       "      <td>1.224647e-16</td>\n",
       "      <td>0.000000</td>\n",
       "      <td>0.000000</td>\n",
       "      <td>0.000000</td>\n",
       "      <td>0.000000</td>\n",
       "      <td>0.000000</td>\n",
       "      <td>0.000633</td>\n",
       "      <td>0.002931</td>\n",
       "      <td>0.005917</td>\n",
       "      <td>0.011537</td>\n",
       "      <td>15.703898</td>\n",
       "      <td>0.546873</td>\n",
       "      <td>57.274000</td>\n",
       "      <td>58.749715</td>\n",
       "      <td>54.721044</td>\n",
       "      <td>0.000000</td>\n",
       "      <td>0.000000</td>\n",
       "      <td>5.052307</td>\n",
       "      <td>0.622857</td>\n",
       "      <td>54.080883</td>\n",
       "      <td>1.000000</td>\n",
       "      <td>9.225806</td>\n",
       "      <td>16.549999</td>\n",
       "    </tr>\n",
       "    <tr>\n",
       "      <th>75%</th>\n",
       "      <td>5.000000e-01</td>\n",
       "      <td>8.660254e-01</td>\n",
       "      <td>0.000000</td>\n",
       "      <td>0.000000</td>\n",
       "      <td>0.000000</td>\n",
       "      <td>0.000000</td>\n",
       "      <td>0.000000</td>\n",
       "      <td>0.005891</td>\n",
       "      <td>0.014858</td>\n",
       "      <td>0.021953</td>\n",
       "      <td>0.032932</td>\n",
       "      <td>16.075052</td>\n",
       "      <td>0.818179</td>\n",
       "      <td>90.399500</td>\n",
       "      <td>93.205837</td>\n",
       "      <td>87.412764</td>\n",
       "      <td>0.000000</td>\n",
       "      <td>0.000000</td>\n",
       "      <td>7.015371</td>\n",
       "      <td>0.832430</td>\n",
       "      <td>61.812445</td>\n",
       "      <td>1.000000</td>\n",
       "      <td>14.931034</td>\n",
       "      <td>22.129999</td>\n",
       "    </tr>\n",
       "    <tr>\n",
       "      <th>max</th>\n",
       "      <td>1.000000e+00</td>\n",
       "      <td>1.000000e+00</td>\n",
       "      <td>1.000000</td>\n",
       "      <td>1.000000</td>\n",
       "      <td>1.000000</td>\n",
       "      <td>1.000000</td>\n",
       "      <td>1.000000</td>\n",
       "      <td>0.120547</td>\n",
       "      <td>0.192308</td>\n",
       "      <td>0.223935</td>\n",
       "      <td>0.299116</td>\n",
       "      <td>18.012264</td>\n",
       "      <td>1.000000</td>\n",
       "      <td>146.183501</td>\n",
       "      <td>148.369194</td>\n",
       "      <td>144.631724</td>\n",
       "      <td>1.000000</td>\n",
       "      <td>1.000000</td>\n",
       "      <td>32.354816</td>\n",
       "      <td>1.349959</td>\n",
       "      <td>85.413254</td>\n",
       "      <td>1.000000</td>\n",
       "      <td>100.000000</td>\n",
       "      <td>82.690002</td>\n",
       "    </tr>\n",
       "  </tbody>\n",
       "</table>\n",
       "</div>"
      ],
      "text/plain": [
       "          month_cos     month_sin    weekday_0    weekday_1    weekday_2  \\\n",
       "count  5.069000e+03  5.069000e+03  5069.000000  5069.000000  5069.000000   \n",
       "mean  -7.976967e-03  1.327574e-03     0.186625     0.205169     0.205761   \n",
       "std    7.052805e-01  7.090214e-01     0.389648     0.403865     0.404296   \n",
       "min   -1.000000e+00 -1.000000e+00     0.000000     0.000000     0.000000   \n",
       "25%   -8.660254e-01 -5.000000e-01     0.000000     0.000000     0.000000   \n",
       "50%   -1.836970e-16  1.224647e-16     0.000000     0.000000     0.000000   \n",
       "75%    5.000000e-01  8.660254e-01     0.000000     0.000000     0.000000   \n",
       "max    1.000000e+00  1.000000e+00     1.000000     1.000000     1.000000   \n",
       "\n",
       "         weekday_3    weekday_4  ret_1d_hist  ret_5d_hist  ret_10d_hist  \\\n",
       "count  5069.000000  5069.000000  5069.000000  5069.000000   5069.000000   \n",
       "mean      0.202210     0.200237     0.000427     0.002097      0.004185   \n",
       "std       0.401687     0.400217     0.010493     0.021729      0.029813   \n",
       "min       0.000000     0.000000    -0.098610    -0.185835     -0.217250   \n",
       "25%       0.000000     0.000000    -0.004458    -0.009204     -0.011609   \n",
       "50%       0.000000     0.000000     0.000633     0.002931      0.005917   \n",
       "75%       0.000000     0.000000     0.005891     0.014858      0.021953   \n",
       "max       1.000000     1.000000     0.120547     0.192308      0.223935   \n",
       "\n",
       "       ret_20d_hist   log_volume          ibs       bb_bbm       bb_bbh  \\\n",
       "count   5069.000000  5069.000000  5069.000000  5069.000000  5069.000000   \n",
       "mean       0.008346    15.409240     0.534112    65.190507    67.147802   \n",
       "std        0.040486     1.081947     0.307988    36.490915    37.643799   \n",
       "min       -0.251548    10.980195     0.000000    23.217500    24.569328   \n",
       "25%       -0.013455    15.158428     0.259258    32.040500    32.789038   \n",
       "50%        0.011537    15.703898     0.546873    57.274000    58.749715   \n",
       "75%        0.032932    16.075052     0.818179    90.399500    93.205837   \n",
       "max        0.299116    18.012264     1.000000   146.183501   148.369194   \n",
       "\n",
       "            bb_bbl      bb_bbhi      bb_bbli       bb_bbw       bb_bbp  \\\n",
       "count  5069.000000  5069.000000  5069.000000  5069.000000  5069.000000   \n",
       "mean     63.233213     0.060761     0.054054     5.948065     0.567198   \n",
       "std      35.382734     0.238916     0.226147     3.644471     0.326476   \n",
       "min      20.419952     0.000000     0.000000     1.165471    -0.452267   \n",
       "25%      31.152674     0.000000     0.000000     3.790178     0.310053   \n",
       "50%      54.721044     0.000000     0.000000     5.052307     0.622857   \n",
       "75%      87.412764     0.000000     0.000000     7.015371     0.832430   \n",
       "max     144.631724     1.000000     1.000000    32.354816     1.349959   \n",
       "\n",
       "               rsi  tgt_is_pos_ret_5d_fut  recession_search_trend          vix  \n",
       "count  5069.000000            5069.000000             5069.000000  5069.000000  \n",
       "mean     53.683015               0.570724               13.290878    19.099797  \n",
       "std      11.253373               0.495022               12.478947     8.747777  \n",
       "min      13.539141               0.000000                2.032258     9.140000  \n",
       "25%      46.019133               0.000000                6.322581    13.380000  \n",
       "50%      54.080883               1.000000                9.225806    16.549999  \n",
       "75%      61.812445               1.000000               14.931034    22.129999  \n",
       "max      85.413254               1.000000              100.000000    82.690002  "
      ]
     },
     "execution_count": 40,
     "metadata": {},
     "output_type": "execute_result"
    }
   ],
   "source": [
    "data.describe()"
   ]
  },
  {
   "cell_type": "markdown",
   "metadata": {},
   "source": [
    "### 2.3. Correlation Analysis\n"
   ]
  },
  {
   "cell_type": "markdown",
   "metadata": {},
   "source": [
    "Correlation analysis can be a rough and early form of feature importance analysis. Features that are highly correlated (in either direction) with each other but not with the target variable, are a sign of multicollinearity problems, which means they may not contribute much additional information in predicting the target. In fact, depending on the algorithm used, multicollinearity may result in stability and reliability issues. Checking the correlation matrix can be helpful in identifying such features.  \n",
    "\n",
    "Plot the heatmap of the correlation matrix of features/target and identify a cluster of 3 features that are almost certainly collinear. (Hint: `bb_bbm` is one of them.) You can pass the correlation matrix directly to [Seaborn's `heatmap()` method](https://seaborn.pydata.org/generated/seaborn.heatmap.html)."
   ]
  },
  {
   "cell_type": "markdown",
   "metadata": {},
   "source": [
    "Move the target column to be the last column for better visualization"
   ]
  },
  {
   "cell_type": "code",
   "execution_count": 41,
   "metadata": {},
   "outputs": [],
   "source": [
    "target_col = 'tgt_is_pos_ret_5d_fut'\n",
    "columns = [col for col in data.columns if col != target_col]\n",
    "data = data[columns + [target_col]]"
   ]
  },
  {
   "cell_type": "code",
   "execution_count": 42,
   "metadata": {},
   "outputs": [
    {
     "data": {
      "text/plain": [
       "<Axes: >"
      ]
     },
     "execution_count": 42,
     "metadata": {},
     "output_type": "execute_result"
    },
    {
     "data": {
      "image/png": "[encoded data removed]",
      "text/plain": [
       "<Figure size 640x480 with 2 Axes>"
      ]
     },
     "metadata": {},
     "output_type": "display_data"
    }
   ],
   "source": [
    "sns.heatmap(data.corr(), \n",
    "            vmin=-1,\n",
    "            vmax=1,\n",
    "            cmap=plt.get_cmap('coolwarm', 10),\n",
    "            cbar_kws={'ticks': np.linspace(-1, 1, 11), 'extend': 'both'})"
   ]
  },
  {
   "cell_type": "markdown",
   "metadata": {},
   "source": [
    "In such scenarios, we usually eliminate all but one of the collinear features. Keep `bb_bbm` and drop the other two features that are highly linearly related to it."
   ]
  },
  {
   "cell_type": "code",
   "execution_count": 43,
   "metadata": {},
   "outputs": [],
   "source": [
    "data.drop(['bb_bbh', 'bb_bbl'], axis=1, inplace=True)"
   ]
  },
  {
   "cell_type": "markdown",
   "metadata": {},
   "source": [
    "There is also one feature that is very highly correlated with `rsi` (which makes intuitive sense, as it, too, is a measure of relative strength). Find it and eliminate it, leaving `rsi` intact.\n",
    "\n",
    "**Answer**: `bb_bbp`, the percent Bollinger Band, is highly correlated with the `rsi`. This makes sense, given that higher values of the former indicate larger distance from the central BB, which also could indicate over or underselling, which is indicated with the `rsi`"
   ]
  },
  {
   "cell_type": "code",
   "execution_count": 44,
   "metadata": {},
   "outputs": [],
   "source": [
    "data.drop(['bb_bbp'], axis=1, inplace=True)"
   ]
  },
  {
   "cell_type": "markdown",
   "metadata": {},
   "source": [
    "Plot the heatmap of the new, reduced correlation matrix."
   ]
  },
  {
   "cell_type": "code",
   "execution_count": 45,
   "metadata": {},
   "outputs": [
    {
     "data": {
      "text/plain": [
       "<Axes: >"
      ]
     },
     "execution_count": 45,
     "metadata": {},
     "output_type": "execute_result"
    },
    {
     "data": {
      "image/png": "[encoded data removed]",
      "text/plain": [
       "<Figure size 640x480 with 2 Axes>"
      ]
     },
     "metadata": {},
     "output_type": "display_data"
    }
   ],
   "source": [
    "sns.heatmap(data.corr(), \n",
    "            vmin=-1,\n",
    "            vmax=1,\n",
    "            cmap=plt.get_cmap('coolwarm', 10),\n",
    "            cbar_kws={'ticks': np.linspace(-1, 1, 11), 'extend': 'both'})"
   ]
  },
  {
   "cell_type": "markdown",
   "metadata": {},
   "source": [
    "Features that are highly correlated (negatively or positively) **with the target variable** are likely more important. Which two (2) independent variables (features) are correlated more than 4% (**in either direction**) with the boolean target variable denoting whether 5-day future returns are positive?\n"
   ]
  },
  {
   "cell_type": "code",
   "execution_count": 46,
   "metadata": {},
   "outputs": [
    {
     "data": {
      "text/plain": [
       "tgt_is_pos_ret_5d_fut     1.000000\n",
       "ibs                       0.041280\n",
       "month_cos                 0.037844\n",
       "log_volume                0.037174\n",
       "bb_bbli                   0.034585\n",
       "ret_10d_hist              0.033354\n",
       "ret_5d_hist               0.031344\n",
       "bb_bbw                    0.027532\n",
       "rsi                       0.027115\n",
       "ret_20d_hist              0.024617\n",
       "recession_search_trend    0.023606\n",
       "weekday_1                 0.021168\n",
       "ret_1d_hist               0.021142\n",
       "bb_bbm                    0.013247\n",
       "weekday_3                 0.012892\n",
       "vix                       0.006726\n",
       "weekday_4                 0.005264\n",
       "bb_bbhi                   0.004643\n",
       "weekday_0                 0.001949\n",
       "month_sin                 0.001600\n",
       "weekday_2                 0.001247\n",
       "Name: tgt_is_pos_ret_5d_fut, dtype: float64"
      ]
     },
     "execution_count": 46,
     "metadata": {},
     "output_type": "execute_result"
    }
   ],
   "source": [
    "data.corr()['tgt_is_pos_ret_5d_fut'].abs().sort_values(ascending=False)"
   ]
  },
  {
   "cell_type": "markdown",
   "metadata": {},
   "source": [
    "**Answer**: Two top variables are `ibs` and `month_cos` "
   ]
  },
  {
   "cell_type": "markdown",
   "metadata": {},
   "source": [
    "## 3. The Training-Validation-Testing Split\n"
   ]
  },
  {
   "cell_type": "markdown",
   "metadata": {},
   "source": [
    "In this section, you will split the `data` set into two sets: the training and validation set, and the testing set. You will then come up with a baseline score so that you have a reference point for evaluating your model's performance.\n",
    "\n",
    "**Note:** Technically, since you are not going to use classical statistics-based time-series prediction methods (such as ARIMA), you can shuffle the data before splitting it. But for ease of interpretability and backtesting, you may as well keep the data in its original order. This is fine as long as the distributions of features and the target variable do not significantly shift over time. - And that is an important assumption related to drift analysis, which was covered in the course, but we will not get to in this project."
   ]
  },
  {
   "cell_type": "markdown",
   "metadata": {},
   "source": [
    "### 3.1. The Split\n"
   ]
  },
  {
   "cell_type": "markdown",
   "metadata": {},
   "source": [
    "It is time to split the data, temporally, into the training + validation and testing sets. You will train and optimize (i.e. cross-validate) your model on the first 80% of the data, and use the remaining 20% for the test set (i.e. to evaluate the performance of your model). Use the `train_test_split()` method from scikit-learn's `model_selection` module to perform the split.\n",
    "> **Note:** Please make sure to set `shuffle=False` and `random_state=RANDOM_STATE`."
   ]
  },
  {
   "cell_type": "code",
   "execution_count": 47,
   "metadata": {},
   "outputs": [
    {
     "data": {
      "text/plain": [
       "((4055, 20), (1014, 20))"
      ]
     },
     "execution_count": 47,
     "metadata": {},
     "output_type": "execute_result"
    }
   ],
   "source": [
    "X = data.drop(columns=['tgt_is_pos_ret_5d_fut'])\n",
    "y = data['tgt_is_pos_ret_5d_fut']\n",
    "X_train_val, X_test, y_train_val, y_test = train_test_split(X, y, shuffle=False, test_size=0.2, random_state=RANDOM_SEED)\n",
    "X_train_val.shape, X_test.shape"
   ]
  },
  {
   "cell_type": "markdown",
   "metadata": {},
   "source": [
    "### 3.2. Baseline Model and Score\n"
   ]
  },
  {
   "cell_type": "markdown",
   "metadata": {},
   "source": [
    "Earlier, you inspected the distribution of the target variable across the entire data set. Run the cell below to analyze at the distribution of the target variable in each split."
   ]
  },
  {
   "cell_type": "code",
   "execution_count": 48,
   "metadata": {},
   "outputs": [
    {
     "data": {
      "image/png": "[encoded data removed]",
      "text/plain": [
       "<Figure size 1000x600 with 1 Axes>"
      ]
     },
     "metadata": {},
     "output_type": "display_data"
    }
   ],
   "source": [
    "train_val_pct = y_train_val.value_counts(normalize=True) * 100\n",
    "test_pct = y_test.value_counts(normalize=True) * 100\n",
    "\n",
    "categories = [\"Train + Validation\", \"Test\"]\n",
    "zero_counts = [train_val_pct[0], test_pct[0]]\n",
    "one_counts = [train_val_pct[1], test_pct[1]]\n",
    "\n",
    "fig, ax = plt.subplots(figsize=(10, 6))\n",
    "\n",
    "ax.bar(categories, zero_counts, label=\"0\")\n",
    "ax.bar(categories, one_counts, bottom=zero_counts, label=\"1\")\n",
    "\n",
    "# Add text annotations\n",
    "for i, (zero, one) in enumerate(zip(zero_counts, one_counts)):\n",
    "    ax.text(i, zero / 2, f\"{zero:.2f}%\", ha=\"center\", va=\"center\", color=\"white\")\n",
    "    ax.text(\n",
    "        i,\n",
    "        zero + one / 2,\n",
    "        f\"{one:.2f}%\",\n",
    "        ha=\"center\",\n",
    "        va=\"center\",\n",
    "        color=\"white\",\n",
    "    )\n",
    "ax.set_title(f\"Distribution of {target_col_name} in the Train/Validation vs. Test Set for XLV\")\n",
    "ax.legend()\n",
    "\n",
    "plt.show()"
   ]
  },
  {
   "cell_type": "markdown",
   "metadata": {},
   "source": [
    "If you were to devise a simple model that naively always predicted the majority class, what would the accuracy score of your model be on the training+validation set? How about on the testing set? Consider the latter your baseline score, i.e. a reference score to compare your more sophisticated model's performace to."
   ]
  },
  {
   "cell_type": "code",
   "execution_count": 49,
   "metadata": {},
   "outputs": [
    {
     "data": {
      "text/plain": [
       "0.5571992110453649"
      ]
     },
     "execution_count": 49,
     "metadata": {},
     "output_type": "execute_result"
    }
   ],
   "source": [
    "majority_class = y_train_val.mode()[0]\n",
    "baseline_accuracy_test_score = accuracy_score(y_test, [majority_class] * len(y_test))\n",
    "baseline_accuracy_test_score"
   ]
  },
  {
   "cell_type": "markdown",
   "metadata": {},
   "source": [
    "Here we calculate the precision and recall of the base model as we are going to use them later in model evaluation"
   ]
  },
  {
   "cell_type": "code",
   "execution_count": 50,
   "metadata": {},
   "outputs": [
    {
     "data": {
      "text/plain": [
       "(0.5571992110453649, 0.5571992110453649, 1.0)"
      ]
     },
     "execution_count": 50,
     "metadata": {},
     "output_type": "execute_result"
    }
   ],
   "source": [
    "baseline_precision_test_score = precision_score(y_test, [majority_class] * len(y_test))\n",
    "baseline_recall_test_score = recall_score(y_test, [majority_class] * len(y_test))\n",
    "baseline_accuracy_test_score, baseline_precision_test_score, baseline_recall_test_score"
   ]
  },
  {
   "cell_type": "markdown",
   "metadata": {},
   "source": [
    "## 4. Model Training and Tuning\n"
   ]
  },
  {
   "cell_type": "markdown",
   "metadata": {},
   "source": [
    "In this section, you will train a `RandomForestClassifier`, a robust, versatile ensemble learning method that uses \"bagging\" (also known as \"bootstrap aggregating\") to train multiple Decision Trees. The technical details of the model are beyond the scope of this course, but you may read more about it [here](https://scikit-learn.org/stable/modules/generated/sklearn.ensemble.RandomForestClassifier.html)."
   ]
  },
  {
   "cell_type": "markdown",
   "metadata": {},
   "source": [
    "Run the cell below which defines a function that allows you to plot learning curves annotated with a hyperparameter named `max_depth` which you pass to it."
   ]
  },
  {
   "cell_type": "code",
   "execution_count": 51,
   "metadata": {},
   "outputs": [],
   "source": [
    "def plot_learning_curves(train_sizes, train_scores, test_scores, max_depth, axs):\n",
    "    train_scores_mean = np.mean(train_scores, axis=1)\n",
    "    train_scores_std = np.std(train_scores, axis=1)\n",
    "    test_scores_mean = np.mean(test_scores, axis=1)\n",
    "    test_scores_std = np.std(test_scores, axis=1)\n",
    "\n",
    "    axs.fill_between(\n",
    "        train_sizes,\n",
    "        train_scores_mean - train_scores_std,\n",
    "        train_scores_mean + train_scores_std,\n",
    "        alpha=0.1,\n",
    "        color=\"b\",\n",
    "    )\n",
    "    axs.fill_between(\n",
    "        train_sizes,\n",
    "        test_scores_mean - test_scores_std,\n",
    "        test_scores_mean + test_scores_std,\n",
    "        alpha=0.1,\n",
    "        color=\"r\",\n",
    "    )\n",
    "    axs.plot(\n",
    "        train_sizes,\n",
    "        train_scores_mean,\n",
    "        \"o-\",\n",
    "        color=\"b\",\n",
    "        label=\"Average Score on Training Sets\",\n",
    "    )\n",
    "    axs.plot(\n",
    "        train_sizes,\n",
    "        test_scores_mean,\n",
    "        \"o-\",\n",
    "        color=\"r\",\n",
    "        label=\"Average Score on Test Sets\",\n",
    "    )\n",
    "    axs.set_xlabel(\"Training examples\")\n",
    "    axs.set_ylabel(\"Score\")\n",
    "    axs.set_title(f\"Learning Curves (max_depth={max_depth})\")\n",
    "    axs.legend(loc=\"center left\")\n",
    "    axs.grid(True)"
   ]
  },
  {
   "cell_type": "markdown",
   "metadata": {},
   "source": [
    "Below is the first iteration of your model. It uses the default values for most of its hyperparameters. We have only specified one hyperparameter, `max_depth=10`."
   ]
  },
  {
   "cell_type": "code",
   "execution_count": 52,
   "metadata": {},
   "outputs": [],
   "source": [
    "max_depth = 10\n",
    "model = RandomForestClassifier(max_depth=max_depth, random_state=RANDOM_SEED, n_jobs=-1)"
   ]
  },
  {
   "cell_type": "markdown",
   "metadata": {},
   "source": [
    "Use the `learning_curve()` method from scikit-learn's `model_selection` module to cross-validate your model, with `accuracy` as the `scoring` metric. Use 10%, 20%, 30%,... , and 100% of the training+validatin data, with 5-fold cross-validation."
   ]
  },
  {
   "cell_type": "code",
   "execution_count": 53,
   "metadata": {},
   "outputs": [],
   "source": [
    "from sklearn.model_selection import TimeSeriesSplit\n",
    "\n",
    "tscv = TimeSeriesSplit(n_splits=5)\n",
    "train_sizes, train_scores, test_scores = learning_curve(model, X_train_val, y_train_val, cv=tscv, n_jobs=-1, scoring='accuracy')"
   ]
  },
  {
   "cell_type": "markdown",
   "metadata": {},
   "source": [
    "Inspect the learning curves."
   ]
  },
  {
   "cell_type": "code",
   "execution_count": 54,
   "metadata": {},
   "outputs": [
    {
     "data": {
      "image/png": "[encoded data removed]",
      "text/plain": [
       "<Figure size 1000x600 with 1 Axes>"
      ]
     },
     "metadata": {},
     "output_type": "display_data"
    }
   ],
   "source": [
    "figure = plt.figure(figsize=(10, 6))\n",
    "axs = figure.gca()\n",
    "\n",
    "plot_learning_curves(train_sizes, train_scores, test_scores, max_depth, axs)\n",
    "\n",
    "plt.show()"
   ]
  },
  {
   "cell_type": "markdown",
   "metadata": {},
   "source": [
    "Wondering what effect different values of the `max_depth` hyperparameter have, you decide to experiment with lower (`10`) and higher (`20`) values of it to see how the plots change. Run the cell below to help you answer the questions that follow it.\n"
   ]
  },
  {
   "cell_type": "code",
   "execution_count": 55,
   "metadata": {},
   "outputs": [
    {
     "data": {
      "image/png": "[encoded data removed]",
      "text/plain": [
       "<Figure size 1400x600 with 3 Axes>"
      ]
     },
     "metadata": {},
     "output_type": "display_data"
    }
   ],
   "source": [
    "fig, axs = plt.subplots(1, 3, figsize=(14, 6))\n",
    "max_depth_range = [5, 10, 15]\n",
    "for i, max_depth in enumerate(max_depth_range):\n",
    "    model = RandomForestClassifier(max_depth=max_depth, random_state=RANDOM_SEED, n_jobs=-1)\n",
    "    train_sizes, train_scores, test_scores = learning_curve(\n",
    "        model, X_train_val, y_train_val, train_sizes=train_sizes, cv=5, scoring=\"accuracy\"\n",
    "    )\n",
    "    plot_learning_curves(train_sizes, train_scores, test_scores, max_depth, axs[i])\n",
    "\n",
    "plt.tight_layout()\n",
    "plt.show()"
   ]
  },
  {
   "cell_type": "markdown",
   "metadata": {},
   "source": [
    "With a value of `max_depth=15`, does your model overfit or underfit?\n"
   ]
  },
  {
   "cell_type": "markdown",
   "metadata": {},
   "source": [
    "**Answer**: It overfits as the accuracy on the training set is 100% and the accuracy on the test set is lower than baseline."
   ]
  },
  {
   "cell_type": "markdown",
   "metadata": {},
   "source": [
    "With a value of `max_depth=15`, is your performance metric (accuracy score) more likely to improve with more training data or with higher model complexity?"
   ]
  },
  {
   "cell_type": "markdown",
   "metadata": {},
   "source": [
    "**Answer**: Higher model complexity does not help since we are already in the overfitted zone (100% score on training set) but adding more data can improve the accuracy score as the tree is better informed about the underlying patterns. "
   ]
  },
  {
   "cell_type": "markdown",
   "metadata": {},
   "source": [
    "Random Forest Classifiers have several other hyperparameters, such as `min_samples_split` (default=2), `min_samples_leaf` (default=1) and `n_estimators` (default=100). So far, you have been tuning your model manually. But with all the possible combinations of hyperparameters, this is not tractable.  \n",
    "\n",
    "Use grid search cross-validation (the `GridSearchCV` class from scikit-learn's `model_selection` module) to find the optimal combination of hyperparameters from the search space specified below:\n",
    "- `max_depth` = 2, 3, 4 or 5\n",
    "- `min_samples_leaf` = 1, 2, 3 or 4\n",
    "- `n_estimators` = 50, 75, 100, 125, or 150\n",
    "\n",
    "As before, use 5-fold cross-validation and accuracy as the `scoring` metric. Name your tuning model `search`.\n",
    "\n",
    "> Note: Setting `n_jobs=-1` will allow Python to take advantage of parallel computing on your computer to speed up the training."
   ]
  },
  {
   "cell_type": "code",
   "execution_count": 56,
   "metadata": {},
   "outputs": [
    {
     "data": {
      "text/html": [
       "<style>#sk-container-id-1 {\n",
       "  /* Definition of color scheme common for light and dark mode */\n",
       "  --sklearn-color-text: black;\n",
       "  --sklearn-color-line: gray;\n",
       "  /* Definition of color scheme for unfitted estimators */\n",
       "  --sklearn-color-unfitted-level-0: #fff5e6;\n",
       "  --sklearn-color-unfitted-level-1: #f6e4d2;\n",
       "  --sklearn-color-unfitted-level-2: #ffe0b3;\n",
       "  --sklearn-color-unfitted-level-3: chocolate;\n",
       "  /* Definition of color scheme for fitted estimators */\n",
       "  --sklearn-color-fitted-level-0: #f0f8ff;\n",
       "  --sklearn-color-fitted-level-1: #d4ebff;\n",
       "  --sklearn-color-fitted-level-2: #b3dbfd;\n",
       "  --sklearn-color-fitted-level-3: cornflowerblue;\n",
       "\n",
       "  /* Specific color for light theme */\n",
       "  --sklearn-color-text-on-default-background: var(--sg-text-color, var(--theme-code-foreground, var(--jp-content-font-color1, black)));\n",
       "  --sklearn-color-background: var(--sg-background-color, var(--theme-background, var(--jp-layout-color0, white)));\n",
       "  --sklearn-color-border-box: var(--sg-text-color, var(--theme-code-foreground, var(--jp-content-font-color1, black)));\n",
       "  --sklearn-color-icon: #696969;\n",
       "\n",
       "  @media (prefers-color-scheme: dark) {\n",
       "    /* Redefinition of color scheme for dark theme */\n",
       "    --sklearn-color-text-on-default-background: var(--sg-text-color, var(--theme-code-foreground, var(--jp-content-font-color1, white)));\n",
       "    --sklearn-color-background: var(--sg-background-color, var(--theme-background, var(--jp-layout-color0, #111)));\n",
       "    --sklearn-color-border-box: var(--sg-text-color, var(--theme-code-foreground, var(--jp-content-font-color1, white)));\n",
       "    --sklearn-color-icon: #878787;\n",
       "  }\n",
       "}\n",
       "\n",
       "#sk-container-id-1 {\n",
       "  color: var(--sklearn-color-text);\n",
       "}\n",
       "\n",
       "#sk-container-id-1 pre {\n",
       "  padding: 0;\n",
       "}\n",
       "\n",
       "#sk-container-id-1 input.sk-hidden--visually {\n",
       "  border: 0;\n",
       "  clip: rect(1px 1px 1px 1px);\n",
       "  clip: rect(1px, 1px, 1px, 1px);\n",
       "  height: 1px;\n",
       "  margin: -1px;\n",
       "  overflow: hidden;\n",
       "  padding: 0;\n",
       "  position: absolute;\n",
       "  width: 1px;\n",
       "}\n",
       "\n",
       "#sk-container-id-1 div.sk-dashed-wrapped {\n",
       "  border: 1px dashed var(--sklearn-color-line);\n",
       "  margin: 0 0.4em 0.5em 0.4em;\n",
       "  box-sizing: border-box;\n",
       "  padding-bottom: 0.4em;\n",
       "  background-color: var(--sklearn-color-background);\n",
       "}\n",
       "\n",
       "#sk-container-id-1 div.sk-container {\n",
       "  /* jupyter's `normalize.less` sets `[hidden] { display: none; }`\n",
       "     but bootstrap.min.css set `[hidden] { display: none !important; }`\n",
       "     so we also need the `!important` here to be able to override the\n",
       "     default hidden behavior on the sphinx rendered scikit-learn.org.\n",
       "     See: https://github.com/scikit-learn/scikit-learn/issues/21755 */\n",
       "  display: inline-block !important;\n",
       "  position: relative;\n",
       "}\n",
       "\n",
       "#sk-container-id-1 div.sk-text-repr-fallback {\n",
       "  display: none;\n",
       "}\n",
       "\n",
       "div.sk-parallel-item,\n",
       "div.sk-serial,\n",
       "div.sk-item {\n",
       "  /* draw centered vertical line to link estimators */\n",
       "  background-image: linear-gradient(var(--sklearn-color-text-on-default-background), var(--sklearn-color-text-on-default-background));\n",
       "  background-size: 2px 100%;\n",
       "  background-repeat: no-repeat;\n",
       "  background-position: center center;\n",
       "}\n",
       "\n",
       "/* Parallel-specific style estimator block */\n",
       "\n",
       "#sk-container-id-1 div.sk-parallel-item::after {\n",
       "  content: \"\";\n",
       "  width: 100%;\n",
       "  border-bottom: 2px solid var(--sklearn-color-text-on-default-background);\n",
       "  flex-grow: 1;\n",
       "}\n",
       "\n",
       "#sk-container-id-1 div.sk-parallel {\n",
       "  display: flex;\n",
       "  align-items: stretch;\n",
       "  justify-content: center;\n",
       "  background-color: var(--sklearn-color-background);\n",
       "  position: relative;\n",
       "}\n",
       "\n",
       "#sk-container-id-1 div.sk-parallel-item {\n",
       "  display: flex;\n",
       "  flex-direction: column;\n",
       "}\n",
       "\n",
       "#sk-container-id-1 div.sk-parallel-item:first-child::after {\n",
       "  align-self: flex-end;\n",
       "  width: 50%;\n",
       "}\n",
       "\n",
       "#sk-container-id-1 div.sk-parallel-item:last-child::after {\n",
       "  align-self: flex-start;\n",
       "  width: 50%;\n",
       "}\n",
       "\n",
       "#sk-container-id-1 div.sk-parallel-item:only-child::after {\n",
       "  width: 0;\n",
       "}\n",
       "\n",
       "/* Serial-specific style estimator block */\n",
       "\n",
       "#sk-container-id-1 div.sk-serial {\n",
       "  display: flex;\n",
       "  flex-direction: column;\n",
       "  align-items: center;\n",
       "  background-color: var(--sklearn-color-background);\n",
       "  padding-right: 1em;\n",
       "  padding-left: 1em;\n",
       "}\n",
       "\n",
       "\n",
       "/* Toggleable style: style used for estimator/Pipeline/ColumnTransformer box that is\n",
       "clickable and can be expanded/collapsed.\n",
       "- Pipeline and ColumnTransformer use this feature and define the default style\n",
       "- Estimators will overwrite some part of the style using the `sk-estimator` class\n",
       "*/\n",
       "\n",
       "/* Pipeline and ColumnTransformer style (default) */\n",
       "\n",
       "#sk-container-id-1 div.sk-toggleable {\n",
       "  /* Default theme specific background. It is overwritten whether we have a\n",
       "  specific estimator or a Pipeline/ColumnTransformer */\n",
       "  background-color: var(--sklearn-color-background);\n",
       "}\n",
       "\n",
       "/* Toggleable label */\n",
       "#sk-container-id-1 label.sk-toggleable__label {\n",
       "  cursor: pointer;\n",
       "  display: block;\n",
       "  width: 100%;\n",
       "  margin-bottom: 0;\n",
       "  padding: 0.5em;\n",
       "  box-sizing: border-box;\n",
       "  text-align: center;\n",
       "}\n",
       "\n",
       "#sk-container-id-1 label.sk-toggleable__label-arrow:before {\n",
       "  /* Arrow on the left of the label */\n",
       "  content: \"▸\";\n",
       "  float: left;\n",
       "  margin-right: 0.25em;\n",
       "  color: var(--sklearn-color-icon);\n",
       "}\n",
       "\n",
       "#sk-container-id-1 label.sk-toggleable__label-arrow:hover:before {\n",
       "  color: var(--sklearn-color-text);\n",
       "}\n",
       "\n",
       "/* Toggleable content - dropdown */\n",
       "\n",
       "#sk-container-id-1 div.sk-toggleable__content {\n",
       "  max-height: 0;\n",
       "  max-width: 0;\n",
       "  overflow: hidden;\n",
       "  text-align: left;\n",
       "  /* unfitted */\n",
       "  background-color: var(--sklearn-color-unfitted-level-0);\n",
       "}\n",
       "\n",
       "#sk-container-id-1 div.sk-toggleable__content.fitted {\n",
       "  /* fitted */\n",
       "  background-color: var(--sklearn-color-fitted-level-0);\n",
       "}\n",
       "\n",
       "#sk-container-id-1 div.sk-toggleable__content pre {\n",
       "  margin: 0.2em;\n",
       "  border-radius: 0.25em;\n",
       "  color: var(--sklearn-color-text);\n",
       "  /* unfitted */\n",
       "  background-color: var(--sklearn-color-unfitted-level-0);\n",
       "}\n",
       "\n",
       "#sk-container-id-1 div.sk-toggleable__content.fitted pre {\n",
       "  /* unfitted */\n",
       "  background-color: var(--sklearn-color-fitted-level-0);\n",
       "}\n",
       "\n",
       "#sk-container-id-1 input.sk-toggleable__control:checked~div.sk-toggleable__content {\n",
       "  /* Expand drop-down */\n",
       "  max-height: 200px;\n",
       "  max-width: 100%;\n",
       "  overflow: auto;\n",
       "}\n",
       "\n",
       "#sk-container-id-1 input.sk-toggleable__control:checked~label.sk-toggleable__label-arrow:before {\n",
       "  content: \"▾\";\n",
       "}\n",
       "\n",
       "/* Pipeline/ColumnTransformer-specific style */\n",
       "\n",
       "#sk-container-id-1 div.sk-label input.sk-toggleable__control:checked~label.sk-toggleable__label {\n",
       "  color: var(--sklearn-color-text);\n",
       "  background-color: var(--sklearn-color-unfitted-level-2);\n",
       "}\n",
       "\n",
       "#sk-container-id-1 div.sk-label.fitted input.sk-toggleable__control:checked~label.sk-toggleable__label {\n",
       "  background-color: var(--sklearn-color-fitted-level-2);\n",
       "}\n",
       "\n",
       "/* Estimator-specific style */\n",
       "\n",
       "/* Colorize estimator box */\n",
       "#sk-container-id-1 div.sk-estimator input.sk-toggleable__control:checked~label.sk-toggleable__label {\n",
       "  /* unfitted */\n",
       "  background-color: var(--sklearn-color-unfitted-level-2);\n",
       "}\n",
       "\n",
       "#sk-container-id-1 div.sk-estimator.fitted input.sk-toggleable__control:checked~label.sk-toggleable__label {\n",
       "  /* fitted */\n",
       "  background-color: var(--sklearn-color-fitted-level-2);\n",
       "}\n",
       "\n",
       "#sk-container-id-1 div.sk-label label.sk-toggleable__label,\n",
       "#sk-container-id-1 div.sk-label label {\n",
       "  /* The background is the default theme color */\n",
       "  color: var(--sklearn-color-text-on-default-background);\n",
       "}\n",
       "\n",
       "/* On hover, darken the color of the background */\n",
       "#sk-container-id-1 div.sk-label:hover label.sk-toggleable__label {\n",
       "  color: var(--sklearn-color-text);\n",
       "  background-color: var(--sklearn-color-unfitted-level-2);\n",
       "}\n",
       "\n",
       "/* Label box, darken color on hover, fitted */\n",
       "#sk-container-id-1 div.sk-label.fitted:hover label.sk-toggleable__label.fitted {\n",
       "  color: var(--sklearn-color-text);\n",
       "  background-color: var(--sklearn-color-fitted-level-2);\n",
       "}\n",
       "\n",
       "/* Estimator label */\n",
       "\n",
       "#sk-container-id-1 div.sk-label label {\n",
       "  font-family: monospace;\n",
       "  font-weight: bold;\n",
       "  display: inline-block;\n",
       "  line-height: 1.2em;\n",
       "}\n",
       "\n",
       "#sk-container-id-1 div.sk-label-container {\n",
       "  text-align: center;\n",
       "}\n",
       "\n",
       "/* Estimator-specific */\n",
       "#sk-container-id-1 div.sk-estimator {\n",
       "  font-family: monospace;\n",
       "  border: 1px dotted var(--sklearn-color-border-box);\n",
       "  border-radius: 0.25em;\n",
       "  box-sizing: border-box;\n",
       "  margin-bottom: 0.5em;\n",
       "  /* unfitted */\n",
       "  background-color: var(--sklearn-color-unfitted-level-0);\n",
       "}\n",
       "\n",
       "#sk-container-id-1 div.sk-estimator.fitted {\n",
       "  /* fitted */\n",
       "  background-color: var(--sklearn-color-fitted-level-0);\n",
       "}\n",
       "\n",
       "/* on hover */\n",
       "#sk-container-id-1 div.sk-estimator:hover {\n",
       "  /* unfitted */\n",
       "  background-color: var(--sklearn-color-unfitted-level-2);\n",
       "}\n",
       "\n",
       "#sk-container-id-1 div.sk-estimator.fitted:hover {\n",
       "  /* fitted */\n",
       "  background-color: var(--sklearn-color-fitted-level-2);\n",
       "}\n",
       "\n",
       "/* Specification for estimator info (e.g. \"i\" and \"?\") */\n",
       "\n",
       "/* Common style for \"i\" and \"?\" */\n",
       "\n",
       ".sk-estimator-doc-link,\n",
       "a:link.sk-estimator-doc-link,\n",
       "a:visited.sk-estimator-doc-link {\n",
       "  float: right;\n",
       "  font-size: smaller;\n",
       "  line-height: 1em;\n",
       "  font-family: monospace;\n",
       "  background-color: var(--sklearn-color-background);\n",
       "  border-radius: 1em;\n",
       "  height: 1em;\n",
       "  width: 1em;\n",
       "  text-decoration: none !important;\n",
       "  margin-left: 1ex;\n",
       "  /* unfitted */\n",
       "  border: var(--sklearn-color-unfitted-level-1) 1pt solid;\n",
       "  color: var(--sklearn-color-unfitted-level-1);\n",
       "}\n",
       "\n",
       ".sk-estimator-doc-link.fitted,\n",
       "a:link.sk-estimator-doc-link.fitted,\n",
       "a:visited.sk-estimator-doc-link.fitted {\n",
       "  /* fitted */\n",
       "  border: var(--sklearn-color-fitted-level-1) 1pt solid;\n",
       "  color: var(--sklearn-color-fitted-level-1);\n",
       "}\n",
       "\n",
       "/* On hover */\n",
       "div.sk-estimator:hover .sk-estimator-doc-link:hover,\n",
       ".sk-estimator-doc-link:hover,\n",
       "div.sk-label-container:hover .sk-estimator-doc-link:hover,\n",
       ".sk-estimator-doc-link:hover {\n",
       "  /* unfitted */\n",
       "  background-color: var(--sklearn-color-unfitted-level-3);\n",
       "  color: var(--sklearn-color-background);\n",
       "  text-decoration: none;\n",
       "}\n",
       "\n",
       "div.sk-estimator.fitted:hover .sk-estimator-doc-link.fitted:hover,\n",
       ".sk-estimator-doc-link.fitted:hover,\n",
       "div.sk-label-container:hover .sk-estimator-doc-link.fitted:hover,\n",
       ".sk-estimator-doc-link.fitted:hover {\n",
       "  /* fitted */\n",
       "  background-color: var(--sklearn-color-fitted-level-3);\n",
       "  color: var(--sklearn-color-background);\n",
       "  text-decoration: none;\n",
       "}\n",
       "\n",
       "/* Span, style for the box shown on hovering the info icon */\n",
       ".sk-estimator-doc-link span {\n",
       "  display: none;\n",
       "  z-index: 9999;\n",
       "  position: relative;\n",
       "  font-weight: normal;\n",
       "  right: .2ex;\n",
       "  padding: .5ex;\n",
       "  margin: .5ex;\n",
       "  width: min-content;\n",
       "  min-width: 20ex;\n",
       "  max-width: 50ex;\n",
       "  color: var(--sklearn-color-text);\n",
       "  box-shadow: 2pt 2pt 4pt #999;\n",
       "  /* unfitted */\n",
       "  background: var(--sklearn-color-unfitted-level-0);\n",
       "  border: .5pt solid var(--sklearn-color-unfitted-level-3);\n",
       "}\n",
       "\n",
       ".sk-estimator-doc-link.fitted span {\n",
       "  /* fitted */\n",
       "  background: var(--sklearn-color-fitted-level-0);\n",
       "  border: var(--sklearn-color-fitted-level-3);\n",
       "}\n",
       "\n",
       ".sk-estimator-doc-link:hover span {\n",
       "  display: block;\n",
       "}\n",
       "\n",
       "/* \"?\"-specific style due to the `<a>` HTML tag */\n",
       "\n",
       "#sk-container-id-1 a.estimator_doc_link {\n",
       "  float: right;\n",
       "  font-size: 1rem;\n",
       "  line-height: 1em;\n",
       "  font-family: monospace;\n",
       "  background-color: var(--sklearn-color-background);\n",
       "  border-radius: 1rem;\n",
       "  height: 1rem;\n",
       "  width: 1rem;\n",
       "  text-decoration: none;\n",
       "  /* unfitted */\n",
       "  color: var(--sklearn-color-unfitted-level-1);\n",
       "  border: var(--sklearn-color-unfitted-level-1) 1pt solid;\n",
       "}\n",
       "\n",
       "#sk-container-id-1 a.estimator_doc_link.fitted {\n",
       "  /* fitted */\n",
       "  border: var(--sklearn-color-fitted-level-1) 1pt solid;\n",
       "  color: var(--sklearn-color-fitted-level-1);\n",
       "}\n",
       "\n",
       "/* On hover */\n",
       "#sk-container-id-1 a.estimator_doc_link:hover {\n",
       "  /* unfitted */\n",
       "  background-color: var(--sklearn-color-unfitted-level-3);\n",
       "  color: var(--sklearn-color-background);\n",
       "  text-decoration: none;\n",
       "}\n",
       "\n",
       "#sk-container-id-1 a.estimator_doc_link.fitted:hover {\n",
       "  /* fitted */\n",
       "  background-color: var(--sklearn-color-fitted-level-3);\n",
       "}\n",
       "</style><div id=\"sk-container-id-1\" class=\"sk-top-container\"><div class=\"sk-text-repr-fallback\"><pre>GridSearchCV(cv=TimeSeriesSplit(gap=0, max_train_size=None, n_splits=5, test_size=None),\n",
       "             estimator=RandomForestClassifier(max_depth=15, n_jobs=-1,\n",
       "                                              random_state=42),\n",
       "             n_jobs=-1,\n",
       "             param_grid={&#x27;max_depth&#x27;: [2, 3, 4, 5],\n",
       "                         &#x27;min_samples_leaf&#x27;: [1, 2, 3, 4],\n",
       "                         &#x27;n_estimators&#x27;: [50, 75, 100, 125, 150]},\n",
       "             scoring=&#x27;accuracy&#x27;)</pre><b>In a Jupyter environment, please rerun this cell to show the HTML representation or trust the notebook. <br />On GitHub, the HTML representation is unable to render, please try loading this page with nbviewer.org.</b></div><div class=\"sk-container\" hidden><div class=\"sk-item sk-dashed-wrapped\"><div class=\"sk-label-container\"><div class=\"sk-label fitted sk-toggleable\"><input class=\"sk-toggleable__control sk-hidden--visually\" id=\"sk-estimator-id-1\" type=\"checkbox\" ><label for=\"sk-estimator-id-1\" class=\"sk-toggleable__label fitted sk-toggleable__label-arrow fitted\">&nbsp;&nbsp;GridSearchCV<a class=\"sk-estimator-doc-link fitted\" rel=\"noreferrer\" target=\"_blank\" href=\"https://scikit-learn.org/1.5/modules/generated/sklearn.model_selection.GridSearchCV.html\">?<span>Documentation for GridSearchCV</span></a><span class=\"sk-estimator-doc-link fitted\">i<span>Fitted</span></span></label><div class=\"sk-toggleable__content fitted\"><pre>GridSearchCV(cv=TimeSeriesSplit(gap=0, max_train_size=None, n_splits=5, test_size=None),\n",
       "             estimator=RandomForestClassifier(max_depth=15, n_jobs=-1,\n",
       "                                              random_state=42),\n",
       "             n_jobs=-1,\n",
       "             param_grid={&#x27;max_depth&#x27;: [2, 3, 4, 5],\n",
       "                         &#x27;min_samples_leaf&#x27;: [1, 2, 3, 4],\n",
       "                         &#x27;n_estimators&#x27;: [50, 75, 100, 125, 150]},\n",
       "             scoring=&#x27;accuracy&#x27;)</pre></div> </div></div><div class=\"sk-parallel\"><div class=\"sk-parallel-item\"><div class=\"sk-item\"><div class=\"sk-label-container\"><div class=\"sk-label fitted sk-toggleable\"><input class=\"sk-toggleable__control sk-hidden--visually\" id=\"sk-estimator-id-2\" type=\"checkbox\" ><label for=\"sk-estimator-id-2\" class=\"sk-toggleable__label fitted sk-toggleable__label-arrow fitted\">best_estimator_: RandomForestClassifier</label><div class=\"sk-toggleable__content fitted\"><pre>RandomForestClassifier(max_depth=2, n_estimators=50, n_jobs=-1, random_state=42)</pre></div> </div></div><div class=\"sk-serial\"><div class=\"sk-item\"><div class=\"sk-estimator fitted sk-toggleable\"><input class=\"sk-toggleable__control sk-hidden--visually\" id=\"sk-estimator-id-3\" type=\"checkbox\" ><label for=\"sk-estimator-id-3\" class=\"sk-toggleable__label fitted sk-toggleable__label-arrow fitted\">&nbsp;RandomForestClassifier<a class=\"sk-estimator-doc-link fitted\" rel=\"noreferrer\" target=\"_blank\" href=\"https://scikit-learn.org/1.5/modules/generated/sklearn.ensemble.RandomForestClassifier.html\">?<span>Documentation for RandomForestClassifier</span></a></label><div class=\"sk-toggleable__content fitted\"><pre>RandomForestClassifier(max_depth=2, n_estimators=50, n_jobs=-1, random_state=42)</pre></div> </div></div></div></div></div></div></div></div></div>"
      ],
      "text/plain": [
       "GridSearchCV(cv=TimeSeriesSplit(gap=0, max_train_size=None, n_splits=5, test_size=None),\n",
       "             estimator=RandomForestClassifier(max_depth=15, n_jobs=-1,\n",
       "                                              random_state=42),\n",
       "             n_jobs=-1,\n",
       "             param_grid={'max_depth': [2, 3, 4, 5],\n",
       "                         'min_samples_leaf': [1, 2, 3, 4],\n",
       "                         'n_estimators': [50, 75, 100, 125, 150]},\n",
       "             scoring='accuracy')"
      ]
     },
     "execution_count": 56,
     "metadata": {},
     "output_type": "execute_result"
    }
   ],
   "source": [
    "grid = {\n",
    "    'max_depth': [2, 3, 4, 5],\n",
    "    'min_samples_leaf': [1, 2, 3, 4],\n",
    "    'n_estimators': [50, 75, 100, 125, 150]\n",
    "}\n",
    "\n",
    "search = GridSearchCV(model, grid, n_jobs=-1, cv=tscv, scoring='accuracy')\n",
    "\n",
    "search.fit(X_train_val, y_train_val)"
   ]
  },
  {
   "cell_type": "markdown",
   "metadata": {},
   "source": [
    "Run the cell below to see the top 5 best performing hyperparameter combinations."
   ]
  },
  {
   "cell_type": "code",
   "execution_count": 57,
   "metadata": {},
   "outputs": [
    {
     "data": {
      "text/html": [
       "<div>\n",
       "<style scoped>\n",
       "    .dataframe tbody tr th:only-of-type {\n",
       "        vertical-align: middle;\n",
       "    }\n",
       "\n",
       "    .dataframe tbody tr th {\n",
       "        vertical-align: top;\n",
       "    }\n",
       "\n",
       "    .dataframe thead th {\n",
       "        text-align: right;\n",
       "    }\n",
       "</style>\n",
       "<table border=\"1\" class=\"dataframe\">\n",
       "  <thead>\n",
       "    <tr style=\"text-align: right;\">\n",
       "      <th></th>\n",
       "      <th>mean_fit_time</th>\n",
       "      <th>std_fit_time</th>\n",
       "      <th>mean_score_time</th>\n",
       "      <th>std_score_time</th>\n",
       "      <th>param_max_depth</th>\n",
       "      <th>param_min_samples_leaf</th>\n",
       "      <th>param_n_estimators</th>\n",
       "      <th>params</th>\n",
       "      <th>split0_test_score</th>\n",
       "      <th>split1_test_score</th>\n",
       "      <th>split2_test_score</th>\n",
       "      <th>split3_test_score</th>\n",
       "      <th>split4_test_score</th>\n",
       "      <th>mean_test_score</th>\n",
       "      <th>std_test_score</th>\n",
       "      <th>rank_test_score</th>\n",
       "    </tr>\n",
       "  </thead>\n",
       "  <tbody>\n",
       "    <tr>\n",
       "      <th>0</th>\n",
       "      <td>0.198790</td>\n",
       "      <td>0.016305</td>\n",
       "      <td>0.028373</td>\n",
       "      <td>0.007245</td>\n",
       "      <td>2</td>\n",
       "      <td>1</td>\n",
       "      <td>50</td>\n",
       "      <td>{'max_depth': 2, 'min_samples_leaf': 1, 'n_est...</td>\n",
       "      <td>0.515556</td>\n",
       "      <td>0.527407</td>\n",
       "      <td>0.594074</td>\n",
       "      <td>0.564444</td>\n",
       "      <td>0.580741</td>\n",
       "      <td>0.556444</td>\n",
       "      <td>0.030283</td>\n",
       "      <td>1</td>\n",
       "    </tr>\n",
       "    <tr>\n",
       "      <th>5</th>\n",
       "      <td>0.236451</td>\n",
       "      <td>0.026282</td>\n",
       "      <td>0.034938</td>\n",
       "      <td>0.022100</td>\n",
       "      <td>2</td>\n",
       "      <td>2</td>\n",
       "      <td>50</td>\n",
       "      <td>{'max_depth': 2, 'min_samples_leaf': 2, 'n_est...</td>\n",
       "      <td>0.515556</td>\n",
       "      <td>0.525926</td>\n",
       "      <td>0.595556</td>\n",
       "      <td>0.564444</td>\n",
       "      <td>0.580741</td>\n",
       "      <td>0.556444</td>\n",
       "      <td>0.030943</td>\n",
       "      <td>1</td>\n",
       "    </tr>\n",
       "    <tr>\n",
       "      <th>10</th>\n",
       "      <td>0.215222</td>\n",
       "      <td>0.036932</td>\n",
       "      <td>0.023485</td>\n",
       "      <td>0.004919</td>\n",
       "      <td>2</td>\n",
       "      <td>3</td>\n",
       "      <td>50</td>\n",
       "      <td>{'max_depth': 2, 'min_samples_leaf': 3, 'n_est...</td>\n",
       "      <td>0.515556</td>\n",
       "      <td>0.525926</td>\n",
       "      <td>0.595556</td>\n",
       "      <td>0.564444</td>\n",
       "      <td>0.580741</td>\n",
       "      <td>0.556444</td>\n",
       "      <td>0.030943</td>\n",
       "      <td>1</td>\n",
       "    </tr>\n",
       "    <tr>\n",
       "      <th>15</th>\n",
       "      <td>0.217025</td>\n",
       "      <td>0.049200</td>\n",
       "      <td>0.024523</td>\n",
       "      <td>0.006146</td>\n",
       "      <td>2</td>\n",
       "      <td>4</td>\n",
       "      <td>50</td>\n",
       "      <td>{'max_depth': 2, 'min_samples_leaf': 4, 'n_est...</td>\n",
       "      <td>0.506667</td>\n",
       "      <td>0.525926</td>\n",
       "      <td>0.604444</td>\n",
       "      <td>0.564444</td>\n",
       "      <td>0.580741</td>\n",
       "      <td>0.556444</td>\n",
       "      <td>0.035686</td>\n",
       "      <td>1</td>\n",
       "    </tr>\n",
       "    <tr>\n",
       "      <th>1</th>\n",
       "      <td>0.299619</td>\n",
       "      <td>0.067855</td>\n",
       "      <td>0.025015</td>\n",
       "      <td>0.005670</td>\n",
       "      <td>2</td>\n",
       "      <td>1</td>\n",
       "      <td>75</td>\n",
       "      <td>{'max_depth': 2, 'min_samples_leaf': 1, 'n_est...</td>\n",
       "      <td>0.503704</td>\n",
       "      <td>0.539259</td>\n",
       "      <td>0.592593</td>\n",
       "      <td>0.564444</td>\n",
       "      <td>0.580741</td>\n",
       "      <td>0.556148</td>\n",
       "      <td>0.031741</td>\n",
       "      <td>5</td>\n",
       "    </tr>\n",
       "  </tbody>\n",
       "</table>\n",
       "</div>"
      ],
      "text/plain": [
       "    mean_fit_time  std_fit_time  mean_score_time  std_score_time  \\\n",
       "0        0.198790      0.016305         0.028373        0.007245   \n",
       "5        0.236451      0.026282         0.034938        0.022100   \n",
       "10       0.215222      0.036932         0.023485        0.004919   \n",
       "15       0.217025      0.049200         0.024523        0.006146   \n",
       "1        0.299619      0.067855         0.025015        0.005670   \n",
       "\n",
       "    param_max_depth  param_min_samples_leaf  param_n_estimators  \\\n",
       "0                 2                       1                  50   \n",
       "5                 2                       2                  50   \n",
       "10                2                       3                  50   \n",
       "15                2                       4                  50   \n",
       "1                 2                       1                  75   \n",
       "\n",
       "                                               params  split0_test_score  \\\n",
       "0   {'max_depth': 2, 'min_samples_leaf': 1, 'n_est...           0.515556   \n",
       "5   {'max_depth': 2, 'min_samples_leaf': 2, 'n_est...           0.515556   \n",
       "10  {'max_depth': 2, 'min_samples_leaf': 3, 'n_est...           0.515556   \n",
       "15  {'max_depth': 2, 'min_samples_leaf': 4, 'n_est...           0.506667   \n",
       "1   {'max_depth': 2, 'min_samples_leaf': 1, 'n_est...           0.503704   \n",
       "\n",
       "    split1_test_score  split2_test_score  split3_test_score  \\\n",
       "0            0.527407           0.594074           0.564444   \n",
       "5            0.525926           0.595556           0.564444   \n",
       "10           0.525926           0.595556           0.564444   \n",
       "15           0.525926           0.604444           0.564444   \n",
       "1            0.539259           0.592593           0.564444   \n",
       "\n",
       "    split4_test_score  mean_test_score  std_test_score  rank_test_score  \n",
       "0            0.580741         0.556444        0.030283                1  \n",
       "5            0.580741         0.556444        0.030943                1  \n",
       "10           0.580741         0.556444        0.030943                1  \n",
       "15           0.580741         0.556444        0.035686                1  \n",
       "1            0.580741         0.556148        0.031741                5  "
      ]
     },
     "execution_count": 57,
     "metadata": {},
     "output_type": "execute_result"
    }
   ],
   "source": [
    "pd.DataFrame(search.cv_results_).sort_values(\"rank_test_score\").head()"
   ]
  },
  {
   "cell_type": "markdown",
   "metadata": {},
   "source": [
    "Looking at the results of GridSearchCV, which hyperparameters yield the highest mean test score?\n"
   ]
  },
  {
   "cell_type": "code",
   "execution_count": 58,
   "metadata": {},
   "outputs": [
    {
     "name": "stdout",
     "output_type": "stream",
     "text": [
      "best_max_depth 2\n",
      "best_min_samples_leaf 1\n",
      "best_n_estimators 50\n"
     ]
    }
   ],
   "source": [
    "best_max_depth = search.best_params_['max_depth'] \n",
    "best_min_samples_leaf = search.best_params_['min_samples_leaf'] \n",
    "best_n_estimators = search.best_params_['n_estimators']\n",
    "\n",
    "print('best_max_depth', best_max_depth)\n",
    "print('best_min_samples_leaf', best_min_samples_leaf)\n",
    "print('best_n_estimators', best_n_estimators)"
   ]
  },
  {
   "cell_type": "markdown",
   "metadata": {},
   "source": [
    "Looking more closely at the DataFrame of top 5 results, varying which hyperparameter did not seem to have any effect, at least in the top-ranking score?"
   ]
  },
  {
   "cell_type": "markdown",
   "metadata": {},
   "source": [
    "**Answer**: The model is insensitive to the provided values for the `min_samples_leaf` in the grid search."
   ]
  },
  {
   "cell_type": "markdown",
   "metadata": {},
   "source": [
    "## 5. Model Evaluation and Interpretation\n"
   ]
  },
  {
   "cell_type": "markdown",
   "metadata": {},
   "source": [
    "In this section, you will evaluate the performance metrics of the best model you found in the previous section and analyze feature importance in relation to model performance."
   ]
  },
  {
   "cell_type": "markdown",
   "metadata": {},
   "source": [
    "### 5.1. Evaluation (Performance Metrics)\n"
   ]
  },
  {
   "cell_type": "markdown",
   "metadata": {},
   "source": [
    "It is finally time to train your model on the entire training + validation set with the optimal set of hyperparameters you just found, and evaluate its performance on the test set.  \n",
    "\n",
    "Train (`fit()`) a `RandomForestClassifier` on the training data with the optimal combination of hyperparameters you found in the previous section. Name it 'clf'.\n",
    "\n",
    "> **Note:** Remember to set `random_state=RANDOM_SEED` for consistency of results, and set `n_jobs=-1` to automatically speed up the run."
   ]
  },
  {
   "cell_type": "code",
   "execution_count": 59,
   "metadata": {},
   "outputs": [
    {
     "data": {
      "text/html": [
       "<style>#sk-container-id-2 {\n",
       "  /* Definition of color scheme common for light and dark mode */\n",
       "  --sklearn-color-text: black;\n",
       "  --sklearn-color-line: gray;\n",
       "  /* Definition of color scheme for unfitted estimators */\n",
       "  --sklearn-color-unfitted-level-0: #fff5e6;\n",
       "  --sklearn-color-unfitted-level-1: #f6e4d2;\n",
       "  --sklearn-color-unfitted-level-2: #ffe0b3;\n",
       "  --sklearn-color-unfitted-level-3: chocolate;\n",
       "  /* Definition of color scheme for fitted estimators */\n",
       "  --sklearn-color-fitted-level-0: #f0f8ff;\n",
       "  --sklearn-color-fitted-level-1: #d4ebff;\n",
       "  --sklearn-color-fitted-level-2: #b3dbfd;\n",
       "  --sklearn-color-fitted-level-3: cornflowerblue;\n",
       "\n",
       "  /* Specific color for light theme */\n",
       "  --sklearn-color-text-on-default-background: var(--sg-text-color, var(--theme-code-foreground, var(--jp-content-font-color1, black)));\n",
       "  --sklearn-color-background: var(--sg-background-color, var(--theme-background, var(--jp-layout-color0, white)));\n",
       "  --sklearn-color-border-box: var(--sg-text-color, var(--theme-code-foreground, var(--jp-content-font-color1, black)));\n",
       "  --sklearn-color-icon: #696969;\n",
       "\n",
       "  @media (prefers-color-scheme: dark) {\n",
       "    /* Redefinition of color scheme for dark theme */\n",
       "    --sklearn-color-text-on-default-background: var(--sg-text-color, var(--theme-code-foreground, var(--jp-content-font-color1, white)));\n",
       "    --sklearn-color-background: var(--sg-background-color, var(--theme-background, var(--jp-layout-color0, #111)));\n",
       "    --sklearn-color-border-box: var(--sg-text-color, var(--theme-code-foreground, var(--jp-content-font-color1, white)));\n",
       "    --sklearn-color-icon: #878787;\n",
       "  }\n",
       "}\n",
       "\n",
       "#sk-container-id-2 {\n",
       "  color: var(--sklearn-color-text);\n",
       "}\n",
       "\n",
       "#sk-container-id-2 pre {\n",
       "  padding: 0;\n",
       "}\n",
       "\n",
       "#sk-container-id-2 input.sk-hidden--visually {\n",
       "  border: 0;\n",
       "  clip: rect(1px 1px 1px 1px);\n",
       "  clip: rect(1px, 1px, 1px, 1px);\n",
       "  height: 1px;\n",
       "  margin: -1px;\n",
       "  overflow: hidden;\n",
       "  padding: 0;\n",
       "  position: absolute;\n",
       "  width: 1px;\n",
       "}\n",
       "\n",
       "#sk-container-id-2 div.sk-dashed-wrapped {\n",
       "  border: 1px dashed var(--sklearn-color-line);\n",
       "  margin: 0 0.4em 0.5em 0.4em;\n",
       "  box-sizing: border-box;\n",
       "  padding-bottom: 0.4em;\n",
       "  background-color: var(--sklearn-color-background);\n",
       "}\n",
       "\n",
       "#sk-container-id-2 div.sk-container {\n",
       "  /* jupyter's `normalize.less` sets `[hidden] { display: none; }`\n",
       "     but bootstrap.min.css set `[hidden] { display: none !important; }`\n",
       "     so we also need the `!important` here to be able to override the\n",
       "     default hidden behavior on the sphinx rendered scikit-learn.org.\n",
       "     See: https://github.com/scikit-learn/scikit-learn/issues/21755 */\n",
       "  display: inline-block !important;\n",
       "  position: relative;\n",
       "}\n",
       "\n",
       "#sk-container-id-2 div.sk-text-repr-fallback {\n",
       "  display: none;\n",
       "}\n",
       "\n",
       "div.sk-parallel-item,\n",
       "div.sk-serial,\n",
       "div.sk-item {\n",
       "  /* draw centered vertical line to link estimators */\n",
       "  background-image: linear-gradient(var(--sklearn-color-text-on-default-background), var(--sklearn-color-text-on-default-background));\n",
       "  background-size: 2px 100%;\n",
       "  background-repeat: no-repeat;\n",
       "  background-position: center center;\n",
       "}\n",
       "\n",
       "/* Parallel-specific style estimator block */\n",
       "\n",
       "#sk-container-id-2 div.sk-parallel-item::after {\n",
       "  content: \"\";\n",
       "  width: 100%;\n",
       "  border-bottom: 2px solid var(--sklearn-color-text-on-default-background);\n",
       "  flex-grow: 1;\n",
       "}\n",
       "\n",
       "#sk-container-id-2 div.sk-parallel {\n",
       "  display: flex;\n",
       "  align-items: stretch;\n",
       "  justify-content: center;\n",
       "  background-color: var(--sklearn-color-background);\n",
       "  position: relative;\n",
       "}\n",
       "\n",
       "#sk-container-id-2 div.sk-parallel-item {\n",
       "  display: flex;\n",
       "  flex-direction: column;\n",
       "}\n",
       "\n",
       "#sk-container-id-2 div.sk-parallel-item:first-child::after {\n",
       "  align-self: flex-end;\n",
       "  width: 50%;\n",
       "}\n",
       "\n",
       "#sk-container-id-2 div.sk-parallel-item:last-child::after {\n",
       "  align-self: flex-start;\n",
       "  width: 50%;\n",
       "}\n",
       "\n",
       "#sk-container-id-2 div.sk-parallel-item:only-child::after {\n",
       "  width: 0;\n",
       "}\n",
       "\n",
       "/* Serial-specific style estimator block */\n",
       "\n",
       "#sk-container-id-2 div.sk-serial {\n",
       "  display: flex;\n",
       "  flex-direction: column;\n",
       "  align-items: center;\n",
       "  background-color: var(--sklearn-color-background);\n",
       "  padding-right: 1em;\n",
       "  padding-left: 1em;\n",
       "}\n",
       "\n",
       "\n",
       "/* Toggleable style: style used for estimator/Pipeline/ColumnTransformer box that is\n",
       "clickable and can be expanded/collapsed.\n",
       "- Pipeline and ColumnTransformer use this feature and define the default style\n",
       "- Estimators will overwrite some part of the style using the `sk-estimator` class\n",
       "*/\n",
       "\n",
       "/* Pipeline and ColumnTransformer style (default) */\n",
       "\n",
       "#sk-container-id-2 div.sk-toggleable {\n",
       "  /* Default theme specific background. It is overwritten whether we have a\n",
       "  specific estimator or a Pipeline/ColumnTransformer */\n",
       "  background-color: var(--sklearn-color-background);\n",
       "}\n",
       "\n",
       "/* Toggleable label */\n",
       "#sk-container-id-2 label.sk-toggleable__label {\n",
       "  cursor: pointer;\n",
       "  display: block;\n",
       "  width: 100%;\n",
       "  margin-bottom: 0;\n",
       "  padding: 0.5em;\n",
       "  box-sizing: border-box;\n",
       "  text-align: center;\n",
       "}\n",
       "\n",
       "#sk-container-id-2 label.sk-toggleable__label-arrow:before {\n",
       "  /* Arrow on the left of the label */\n",
       "  content: \"▸\";\n",
       "  float: left;\n",
       "  margin-right: 0.25em;\n",
       "  color: var(--sklearn-color-icon);\n",
       "}\n",
       "\n",
       "#sk-container-id-2 label.sk-toggleable__label-arrow:hover:before {\n",
       "  color: var(--sklearn-color-text);\n",
       "}\n",
       "\n",
       "/* Toggleable content - dropdown */\n",
       "\n",
       "#sk-container-id-2 div.sk-toggleable__content {\n",
       "  max-height: 0;\n",
       "  max-width: 0;\n",
       "  overflow: hidden;\n",
       "  text-align: left;\n",
       "  /* unfitted */\n",
       "  background-color: var(--sklearn-color-unfitted-level-0);\n",
       "}\n",
       "\n",
       "#sk-container-id-2 div.sk-toggleable__content.fitted {\n",
       "  /* fitted */\n",
       "  background-color: var(--sklearn-color-fitted-level-0);\n",
       "}\n",
       "\n",
       "#sk-container-id-2 div.sk-toggleable__content pre {\n",
       "  margin: 0.2em;\n",
       "  border-radius: 0.25em;\n",
       "  color: var(--sklearn-color-text);\n",
       "  /* unfitted */\n",
       "  background-color: var(--sklearn-color-unfitted-level-0);\n",
       "}\n",
       "\n",
       "#sk-container-id-2 div.sk-toggleable__content.fitted pre {\n",
       "  /* unfitted */\n",
       "  background-color: var(--sklearn-color-fitted-level-0);\n",
       "}\n",
       "\n",
       "#sk-container-id-2 input.sk-toggleable__control:checked~div.sk-toggleable__content {\n",
       "  /* Expand drop-down */\n",
       "  max-height: 200px;\n",
       "  max-width: 100%;\n",
       "  overflow: auto;\n",
       "}\n",
       "\n",
       "#sk-container-id-2 input.sk-toggleable__control:checked~label.sk-toggleable__label-arrow:before {\n",
       "  content: \"▾\";\n",
       "}\n",
       "\n",
       "/* Pipeline/ColumnTransformer-specific style */\n",
       "\n",
       "#sk-container-id-2 div.sk-label input.sk-toggleable__control:checked~label.sk-toggleable__label {\n",
       "  color: var(--sklearn-color-text);\n",
       "  background-color: var(--sklearn-color-unfitted-level-2);\n",
       "}\n",
       "\n",
       "#sk-container-id-2 div.sk-label.fitted input.sk-toggleable__control:checked~label.sk-toggleable__label {\n",
       "  background-color: var(--sklearn-color-fitted-level-2);\n",
       "}\n",
       "\n",
       "/* Estimator-specific style */\n",
       "\n",
       "/* Colorize estimator box */\n",
       "#sk-container-id-2 div.sk-estimator input.sk-toggleable__control:checked~label.sk-toggleable__label {\n",
       "  /* unfitted */\n",
       "  background-color: var(--sklearn-color-unfitted-level-2);\n",
       "}\n",
       "\n",
       "#sk-container-id-2 div.sk-estimator.fitted input.sk-toggleable__control:checked~label.sk-toggleable__label {\n",
       "  /* fitted */\n",
       "  background-color: var(--sklearn-color-fitted-level-2);\n",
       "}\n",
       "\n",
       "#sk-container-id-2 div.sk-label label.sk-toggleable__label,\n",
       "#sk-container-id-2 div.sk-label label {\n",
       "  /* The background is the default theme color */\n",
       "  color: var(--sklearn-color-text-on-default-background);\n",
       "}\n",
       "\n",
       "/* On hover, darken the color of the background */\n",
       "#sk-container-id-2 div.sk-label:hover label.sk-toggleable__label {\n",
       "  color: var(--sklearn-color-text);\n",
       "  background-color: var(--sklearn-color-unfitted-level-2);\n",
       "}\n",
       "\n",
       "/* Label box, darken color on hover, fitted */\n",
       "#sk-container-id-2 div.sk-label.fitted:hover label.sk-toggleable__label.fitted {\n",
       "  color: var(--sklearn-color-text);\n",
       "  background-color: var(--sklearn-color-fitted-level-2);\n",
       "}\n",
       "\n",
       "/* Estimator label */\n",
       "\n",
       "#sk-container-id-2 div.sk-label label {\n",
       "  font-family: monospace;\n",
       "  font-weight: bold;\n",
       "  display: inline-block;\n",
       "  line-height: 1.2em;\n",
       "}\n",
       "\n",
       "#sk-container-id-2 div.sk-label-container {\n",
       "  text-align: center;\n",
       "}\n",
       "\n",
       "/* Estimator-specific */\n",
       "#sk-container-id-2 div.sk-estimator {\n",
       "  font-family: monospace;\n",
       "  border: 1px dotted var(--sklearn-color-border-box);\n",
       "  border-radius: 0.25em;\n",
       "  box-sizing: border-box;\n",
       "  margin-bottom: 0.5em;\n",
       "  /* unfitted */\n",
       "  background-color: var(--sklearn-color-unfitted-level-0);\n",
       "}\n",
       "\n",
       "#sk-container-id-2 div.sk-estimator.fitted {\n",
       "  /* fitted */\n",
       "  background-color: var(--sklearn-color-fitted-level-0);\n",
       "}\n",
       "\n",
       "/* on hover */\n",
       "#sk-container-id-2 div.sk-estimator:hover {\n",
       "  /* unfitted */\n",
       "  background-color: var(--sklearn-color-unfitted-level-2);\n",
       "}\n",
       "\n",
       "#sk-container-id-2 div.sk-estimator.fitted:hover {\n",
       "  /* fitted */\n",
       "  background-color: var(--sklearn-color-fitted-level-2);\n",
       "}\n",
       "\n",
       "/* Specification for estimator info (e.g. \"i\" and \"?\") */\n",
       "\n",
       "/* Common style for \"i\" and \"?\" */\n",
       "\n",
       ".sk-estimator-doc-link,\n",
       "a:link.sk-estimator-doc-link,\n",
       "a:visited.sk-estimator-doc-link {\n",
       "  float: right;\n",
       "  font-size: smaller;\n",
       "  line-height: 1em;\n",
       "  font-family: monospace;\n",
       "  background-color: var(--sklearn-color-background);\n",
       "  border-radius: 1em;\n",
       "  height: 1em;\n",
       "  width: 1em;\n",
       "  text-decoration: none !important;\n",
       "  margin-left: 1ex;\n",
       "  /* unfitted */\n",
       "  border: var(--sklearn-color-unfitted-level-1) 1pt solid;\n",
       "  color: var(--sklearn-color-unfitted-level-1);\n",
       "}\n",
       "\n",
       ".sk-estimator-doc-link.fitted,\n",
       "a:link.sk-estimator-doc-link.fitted,\n",
       "a:visited.sk-estimator-doc-link.fitted {\n",
       "  /* fitted */\n",
       "  border: var(--sklearn-color-fitted-level-1) 1pt solid;\n",
       "  color: var(--sklearn-color-fitted-level-1);\n",
       "}\n",
       "\n",
       "/* On hover */\n",
       "div.sk-estimator:hover .sk-estimator-doc-link:hover,\n",
       ".sk-estimator-doc-link:hover,\n",
       "div.sk-label-container:hover .sk-estimator-doc-link:hover,\n",
       ".sk-estimator-doc-link:hover {\n",
       "  /* unfitted */\n",
       "  background-color: var(--sklearn-color-unfitted-level-3);\n",
       "  color: var(--sklearn-color-background);\n",
       "  text-decoration: none;\n",
       "}\n",
       "\n",
       "div.sk-estimator.fitted:hover .sk-estimator-doc-link.fitted:hover,\n",
       ".sk-estimator-doc-link.fitted:hover,\n",
       "div.sk-label-container:hover .sk-estimator-doc-link.fitted:hover,\n",
       ".sk-estimator-doc-link.fitted:hover {\n",
       "  /* fitted */\n",
       "  background-color: var(--sklearn-color-fitted-level-3);\n",
       "  color: var(--sklearn-color-background);\n",
       "  text-decoration: none;\n",
       "}\n",
       "\n",
       "/* Span, style for the box shown on hovering the info icon */\n",
       ".sk-estimator-doc-link span {\n",
       "  display: none;\n",
       "  z-index: 9999;\n",
       "  position: relative;\n",
       "  font-weight: normal;\n",
       "  right: .2ex;\n",
       "  padding: .5ex;\n",
       "  margin: .5ex;\n",
       "  width: min-content;\n",
       "  min-width: 20ex;\n",
       "  max-width: 50ex;\n",
       "  color: var(--sklearn-color-text);\n",
       "  box-shadow: 2pt 2pt 4pt #999;\n",
       "  /* unfitted */\n",
       "  background: var(--sklearn-color-unfitted-level-0);\n",
       "  border: .5pt solid var(--sklearn-color-unfitted-level-3);\n",
       "}\n",
       "\n",
       ".sk-estimator-doc-link.fitted span {\n",
       "  /* fitted */\n",
       "  background: var(--sklearn-color-fitted-level-0);\n",
       "  border: var(--sklearn-color-fitted-level-3);\n",
       "}\n",
       "\n",
       ".sk-estimator-doc-link:hover span {\n",
       "  display: block;\n",
       "}\n",
       "\n",
       "/* \"?\"-specific style due to the `<a>` HTML tag */\n",
       "\n",
       "#sk-container-id-2 a.estimator_doc_link {\n",
       "  float: right;\n",
       "  font-size: 1rem;\n",
       "  line-height: 1em;\n",
       "  font-family: monospace;\n",
       "  background-color: var(--sklearn-color-background);\n",
       "  border-radius: 1rem;\n",
       "  height: 1rem;\n",
       "  width: 1rem;\n",
       "  text-decoration: none;\n",
       "  /* unfitted */\n",
       "  color: var(--sklearn-color-unfitted-level-1);\n",
       "  border: var(--sklearn-color-unfitted-level-1) 1pt solid;\n",
       "}\n",
       "\n",
       "#sk-container-id-2 a.estimator_doc_link.fitted {\n",
       "  /* fitted */\n",
       "  border: var(--sklearn-color-fitted-level-1) 1pt solid;\n",
       "  color: var(--sklearn-color-fitted-level-1);\n",
       "}\n",
       "\n",
       "/* On hover */\n",
       "#sk-container-id-2 a.estimator_doc_link:hover {\n",
       "  /* unfitted */\n",
       "  background-color: var(--sklearn-color-unfitted-level-3);\n",
       "  color: var(--sklearn-color-background);\n",
       "  text-decoration: none;\n",
       "}\n",
       "\n",
       "#sk-container-id-2 a.estimator_doc_link.fitted:hover {\n",
       "  /* fitted */\n",
       "  background-color: var(--sklearn-color-fitted-level-3);\n",
       "}\n",
       "</style><div id=\"sk-container-id-2\" class=\"sk-top-container\"><div class=\"sk-text-repr-fallback\"><pre>RandomForestClassifier(max_depth=2, n_estimators=50)</pre><b>In a Jupyter environment, please rerun this cell to show the HTML representation or trust the notebook. <br />On GitHub, the HTML representation is unable to render, please try loading this page with nbviewer.org.</b></div><div class=\"sk-container\" hidden><div class=\"sk-item\"><div class=\"sk-estimator fitted sk-toggleable\"><input class=\"sk-toggleable__control sk-hidden--visually\" id=\"sk-estimator-id-4\" type=\"checkbox\" checked><label for=\"sk-estimator-id-4\" class=\"sk-toggleable__label fitted sk-toggleable__label-arrow fitted\">&nbsp;&nbsp;RandomForestClassifier<a class=\"sk-estimator-doc-link fitted\" rel=\"noreferrer\" target=\"_blank\" href=\"https://scikit-learn.org/1.5/modules/generated/sklearn.ensemble.RandomForestClassifier.html\">?<span>Documentation for RandomForestClassifier</span></a><span class=\"sk-estimator-doc-link fitted\">i<span>Fitted</span></span></label><div class=\"sk-toggleable__content fitted\"><pre>RandomForestClassifier(max_depth=2, n_estimators=50)</pre></div> </div></div></div></div>"
      ],
      "text/plain": [
       "RandomForestClassifier(max_depth=2, n_estimators=50)"
      ]
     },
     "execution_count": 59,
     "metadata": {},
     "output_type": "execute_result"
    }
   ],
   "source": [
    "clf = RandomForestClassifier(max_depth=best_max_depth, min_samples_leaf=best_min_samples_leaf, n_estimators=best_n_estimators)\n",
    "clf.fit(X_train_val, y_train_val)"
   ]
  },
  {
   "cell_type": "markdown",
   "metadata": {},
   "source": [
    "Store your trained model's predictions on the **testing** set in a variable named `y_test_pred`."
   ]
  },
  {
   "cell_type": "code",
   "execution_count": 60,
   "metadata": {},
   "outputs": [],
   "source": [
    "y_test_pred = clf.predict(X_test) "
   ]
  },
  {
   "cell_type": "markdown",
   "metadata": {},
   "source": [
    "Complete the Python dictionary in the code cell below to evaluate your model and answer the questions that follow."
   ]
  },
  {
   "cell_type": "code",
   "execution_count": 61,
   "metadata": {},
   "outputs": [
    {
     "data": {
      "text/plain": [
       "{'accuracy': 0.5581854043392505,\n",
       " 'precision': 0.5785234899328859,\n",
       " 'recall': 0.7628318584070797,\n",
       " 'f1': 0.6580152671755726}"
      ]
     },
     "metadata": {},
     "output_type": "display_data"
    }
   ],
   "source": [
    "evaluation = {\n",
    "    \"accuracy\": accuracy_score(y_test, y_test_pred),\n",
    "    \"precision\": precision_score(y_test, y_test_pred),\n",
    "    \"recall\": recall_score(y_test, y_test_pred),\n",
    "    \"f1\": f1_score(y_test, y_test_pred)\n",
    "}\n",
    "display(evaluation)"
   ]
  },
  {
   "cell_type": "markdown",
   "metadata": {},
   "source": [
    "Explain, in words and citing the actual numbers from the evaluation report above, what the **precision** and **recall** scores mean."
   ]
  },
  {
   "cell_type": "markdown",
   "metadata": {},
   "source": [
    "**Answer**: \n",
    "\n",
    "$$\n",
    "\\begin{array}{c|cc}\n",
    "& \\textbf{Predicted Positive} & \\textbf{Predicted Negative} \\\\ \\hline\n",
    "\\textbf{Actual Positive} & TP & FN \\\\\n",
    "\\textbf{Actual Negative} & FP & TN \\\\\n",
    "\\end{array}\n",
    "$$\n",
    "\n",
    "$$\n",
    "\\text{Accuracy} = \\frac{TP + TN}{TP + TN + FP + FN}\n",
    "$$\n",
    "$$\n",
    "\\text{Precision} = \\frac{TP}{TP + FP}\n",
    "$$\n",
    "$$\n",
    "\\text{Recall} = \\frac{TP}{TP + FN}\n",
    "$$\n",
    "\n",
    "Note that the confusion matrix from sklearn returns the matrix in the following order:\n",
    "\n",
    "$$\n",
    "\\begin{array}{|cc|}\n",
    " TN & FP \\\\\n",
    " FN & TP \\\\\n",
    "\\end{array}\n",
    "$$\n",
    "\n",
    "\n",
    "- Precision is the proportion of instances predicted as positive that are actually positive. Precision is the ability of the classifier not to label a negative sample as positive. Here, the precision of `0.576` is slightly better than a random choice.\n",
    "- Recall is the proportion of true positive prediction made by the model out of all the actual positive samples. Recall is the ability of the classifier to find all positive samples. Here, the recall of the model is `0.768`, indicating that the model can capture the majority of true positives.\n",
    "\n",
    "If we look at the confusion matrix:"
   ]
  },
  {
   "cell_type": "code",
   "execution_count": 62,
   "metadata": {},
   "outputs": [
    {
     "data": {
      "text/plain": [
       "array([[135, 314],\n",
       "       [134, 431]])"
      ]
     },
     "execution_count": 62,
     "metadata": {},
     "output_type": "execute_result"
    }
   ],
   "source": [
    "confusion_matrix(y_test, y_test_pred)"
   ]
  },
  {
   "cell_type": "markdown",
   "metadata": {},
   "source": [
    "Where the precision is $\\frac{434} { 434 + 331 } = 0.567$ and the recall is  $\\frac{ 434 }  { 434 + 131 }= 0.768$"
   ]
  },
  {
   "cell_type": "markdown",
   "metadata": {},
   "source": [
    "We can canculate both precision and recall manually\n",
    "\n",
    "$$\n",
    "\n",
    "$$"
   ]
  },
  {
   "cell_type": "markdown",
   "metadata": {},
   "source": [
    "Run the cell below to get a more detailed report."
   ]
  },
  {
   "cell_type": "code",
   "execution_count": 63,
   "metadata": {},
   "outputs": [
    {
     "name": "stdout",
     "output_type": "stream",
     "text": [
      "              precision    recall  f1-score   support\n",
      "\n",
      "           0       0.50      0.30      0.38       449\n",
      "           1       0.58      0.76      0.66       565\n",
      "\n",
      "    accuracy                           0.56      1014\n",
      "   macro avg       0.54      0.53      0.52      1014\n",
      "weighted avg       0.54      0.56      0.53      1014\n",
      "\n"
     ]
    }
   ],
   "source": [
    "print(classification_report(y_test, y_test_pred))"
   ]
  },
  {
   "cell_type": "markdown",
   "metadata": {},
   "source": [
    "How many True Negatives, False Negatives, False Positives and True Positives did the model predict on the test set? Find out using the `confusion_matrix()` method from scikit-learn's `metrics` module. "
   ]
  },
  {
   "cell_type": "code",
   "execution_count": 64,
   "metadata": {},
   "outputs": [
    {
     "data": {
      "text/plain": [
       "array([[135, 314],\n",
       "       [134, 431]])"
      ]
     },
     "execution_count": 64,
     "metadata": {},
     "output_type": "execute_result"
    }
   ],
   "source": [
    "conf_matrix = confusion_matrix(y_test, y_test_pred)\n",
    "conf_matrix"
   ]
  },
  {
   "cell_type": "markdown",
   "metadata": {},
   "source": [
    "$TP = 343$, $TN=118$, $FP=331$ and $FN=131$"
   ]
  },
  {
   "cell_type": "markdown",
   "metadata": {},
   "source": [
    "Answer the question from earlier.\n",
    "> Note: Feel free to rename the variables. We will not reference them later."
   ]
  },
  {
   "cell_type": "code",
   "execution_count": 65,
   "metadata": {},
   "outputs": [],
   "source": [
    "num_TrueNeg = 118\n",
    "num_FalseNeg = 131\n",
    "num_FalsePos = 331\n",
    "num_TruePos = 343"
   ]
  },
  {
   "cell_type": "markdown",
   "metadata": {},
   "source": [
    "Is the model overfitting or underfitting? Did it manage to capture the variance on the training set but fail to generalize to the testing set? Take a look at the `classification_report()` and `confusion_matrix()` on the **training** data."
   ]
  },
  {
   "cell_type": "code",
   "execution_count": 66,
   "metadata": {},
   "outputs": [
    {
     "name": "stdout",
     "output_type": "stream",
     "text": [
      "              precision    recall  f1-score   support\n",
      "\n",
      "           0       1.00      0.00      0.00      1727\n",
      "           1       0.57      1.00      0.73      2328\n",
      "\n",
      "    accuracy                           0.57      4055\n",
      "   macro avg       0.79      0.50      0.37      4055\n",
      "weighted avg       0.76      0.57      0.42      4055\n",
      "\n"
     ]
    }
   ],
   "source": [
    "y_train_val_pred = clf.predict(X_train_val)\n",
    "print(classification_report(y_train_val, y_train_val_pred))"
   ]
  },
  {
   "cell_type": "code",
   "execution_count": 67,
   "metadata": {},
   "outputs": [
    {
     "data": {
      "text/plain": [
       "array([[   1, 1726],\n",
       "       [   0, 2328]])"
      ]
     },
     "execution_count": 67,
     "metadata": {},
     "output_type": "execute_result"
    }
   ],
   "source": [
    "cm = confusion_matrix(y_train_val, y_train_val_pred)\n",
    "cm"
   ]
  },
  {
   "cell_type": "markdown",
   "metadata": {},
   "source": [
    "How does your model's performance compare to the baseline in terms of `accuracy`?\n"
   ]
  },
  {
   "cell_type": "code",
   "execution_count": 68,
   "metadata": {},
   "outputs": [
    {
     "data": {
      "text/plain": [
       "0.5763255240443896"
      ]
     },
     "execution_count": 68,
     "metadata": {},
     "output_type": "execute_result"
    }
   ],
   "source": [
    "(12 + 2325) / cm.sum()"
   ]
  },
  {
   "cell_type": "markdown",
   "metadata": {},
   "source": [
    "**Answer**: The model accuracy is very close to the baseline. This means that on the training set the model almost always predicts label 1. "
   ]
  },
  {
   "cell_type": "markdown",
   "metadata": {},
   "source": [
    "How do the `precision` and `recall` of your model compare to those of the baseline model?"
   ]
  },
  {
   "cell_type": "markdown",
   "metadata": {},
   "source": [
    "**Answer**: Precision is `0.567` which is almost the same of the baseline and recall is 0.768 which is lower than the recall of the baseline (the baseline recall is 100%)"
   ]
  },
  {
   "cell_type": "markdown",
   "metadata": {},
   "source": [
    "### 5.2. Revisiting Feature Importance\n"
   ]
  },
  {
   "cell_type": "markdown",
   "metadata": {},
   "source": [
    "You decide to see if there are any features that are not contributing significantly to the performance of the model. Use the `feature_importances_` property of your classifier.\n"
   ]
  },
  {
   "cell_type": "code",
   "execution_count": 69,
   "metadata": {},
   "outputs": [
    {
     "data": {
      "text/plain": [
       "array([0.04574385, 0.00126541, 0.        , 0.        , 0.00312442,\n",
       "       0.00290834, 0.        , 0.04656413, 0.08981996, 0.06697587,\n",
       "       0.03608381, 0.12564477, 0.06986418, 0.16397368, 0.        ,\n",
       "       0.01238225, 0.04702568, 0.06861734, 0.15470136, 0.06530495])"
      ]
     },
     "execution_count": 69,
     "metadata": {},
     "output_type": "execute_result"
    }
   ],
   "source": [
    "clf.feature_importances_"
   ]
  },
  {
   "cell_type": "markdown",
   "metadata": {},
   "source": [
    "Create a new training set named `X_train_val_reduced` and a new testing set named `X_test_reduced` by eliminating any features from the old train/test sets that had a feature importance of less than `0.5%`."
   ]
  },
  {
   "cell_type": "code",
   "execution_count": 70,
   "metadata": {},
   "outputs": [],
   "source": [
    "# Drop features that have an importance of 0.05% or less...\n",
    "feats_to_drop = X_train_val.columns[np.where(clf.feature_importances_ < 0.005)[0]]\n",
    "X_train_val_reduced = X_train_val.drop(columns=feats_to_drop)\n",
    "X_test_reduced = X_test.drop(columns=feats_to_drop)"
   ]
  },
  {
   "cell_type": "code",
   "execution_count": 71,
   "metadata": {},
   "outputs": [
    {
     "name": "stdout",
     "output_type": "stream",
     "text": [
      "(4055, 13)\n",
      "(1014, 13)\n"
     ]
    }
   ],
   "source": [
    "print(X_train_val_reduced.shape)\n",
    "print(X_test_reduced.shape)"
   ]
  },
  {
   "cell_type": "markdown",
   "metadata": {},
   "source": [
    "Re-do your grid search cross-validation with the same grid of hyperparameters as before but with the **reduced** feature set."
   ]
  },
  {
   "cell_type": "code",
   "execution_count": 72,
   "metadata": {},
   "outputs": [
    {
     "data": {
      "text/html": [
       "<style>#sk-container-id-3 {\n",
       "  /* Definition of color scheme common for light and dark mode */\n",
       "  --sklearn-color-text: black;\n",
       "  --sklearn-color-line: gray;\n",
       "  /* Definition of color scheme for unfitted estimators */\n",
       "  --sklearn-color-unfitted-level-0: #fff5e6;\n",
       "  --sklearn-color-unfitted-level-1: #f6e4d2;\n",
       "  --sklearn-color-unfitted-level-2: #ffe0b3;\n",
       "  --sklearn-color-unfitted-level-3: chocolate;\n",
       "  /* Definition of color scheme for fitted estimators */\n",
       "  --sklearn-color-fitted-level-0: #f0f8ff;\n",
       "  --sklearn-color-fitted-level-1: #d4ebff;\n",
       "  --sklearn-color-fitted-level-2: #b3dbfd;\n",
       "  --sklearn-color-fitted-level-3: cornflowerblue;\n",
       "\n",
       "  /* Specific color for light theme */\n",
       "  --sklearn-color-text-on-default-background: var(--sg-text-color, var(--theme-code-foreground, var(--jp-content-font-color1, black)));\n",
       "  --sklearn-color-background: var(--sg-background-color, var(--theme-background, var(--jp-layout-color0, white)));\n",
       "  --sklearn-color-border-box: var(--sg-text-color, var(--theme-code-foreground, var(--jp-content-font-color1, black)));\n",
       "  --sklearn-color-icon: #696969;\n",
       "\n",
       "  @media (prefers-color-scheme: dark) {\n",
       "    /* Redefinition of color scheme for dark theme */\n",
       "    --sklearn-color-text-on-default-background: var(--sg-text-color, var(--theme-code-foreground, var(--jp-content-font-color1, white)));\n",
       "    --sklearn-color-background: var(--sg-background-color, var(--theme-background, var(--jp-layout-color0, #111)));\n",
       "    --sklearn-color-border-box: var(--sg-text-color, var(--theme-code-foreground, var(--jp-content-font-color1, white)));\n",
       "    --sklearn-color-icon: #878787;\n",
       "  }\n",
       "}\n",
       "\n",
       "#sk-container-id-3 {\n",
       "  color: var(--sklearn-color-text);\n",
       "}\n",
       "\n",
       "#sk-container-id-3 pre {\n",
       "  padding: 0;\n",
       "}\n",
       "\n",
       "#sk-container-id-3 input.sk-hidden--visually {\n",
       "  border: 0;\n",
       "  clip: rect(1px 1px 1px 1px);\n",
       "  clip: rect(1px, 1px, 1px, 1px);\n",
       "  height: 1px;\n",
       "  margin: -1px;\n",
       "  overflow: hidden;\n",
       "  padding: 0;\n",
       "  position: absolute;\n",
       "  width: 1px;\n",
       "}\n",
       "\n",
       "#sk-container-id-3 div.sk-dashed-wrapped {\n",
       "  border: 1px dashed var(--sklearn-color-line);\n",
       "  margin: 0 0.4em 0.5em 0.4em;\n",
       "  box-sizing: border-box;\n",
       "  padding-bottom: 0.4em;\n",
       "  background-color: var(--sklearn-color-background);\n",
       "}\n",
       "\n",
       "#sk-container-id-3 div.sk-container {\n",
       "  /* jupyter's `normalize.less` sets `[hidden] { display: none; }`\n",
       "     but bootstrap.min.css set `[hidden] { display: none !important; }`\n",
       "     so we also need the `!important` here to be able to override the\n",
       "     default hidden behavior on the sphinx rendered scikit-learn.org.\n",
       "     See: https://github.com/scikit-learn/scikit-learn/issues/21755 */\n",
       "  display: inline-block !important;\n",
       "  position: relative;\n",
       "}\n",
       "\n",
       "#sk-container-id-3 div.sk-text-repr-fallback {\n",
       "  display: none;\n",
       "}\n",
       "\n",
       "div.sk-parallel-item,\n",
       "div.sk-serial,\n",
       "div.sk-item {\n",
       "  /* draw centered vertical line to link estimators */\n",
       "  background-image: linear-gradient(var(--sklearn-color-text-on-default-background), var(--sklearn-color-text-on-default-background));\n",
       "  background-size: 2px 100%;\n",
       "  background-repeat: no-repeat;\n",
       "  background-position: center center;\n",
       "}\n",
       "\n",
       "/* Parallel-specific style estimator block */\n",
       "\n",
       "#sk-container-id-3 div.sk-parallel-item::after {\n",
       "  content: \"\";\n",
       "  width: 100%;\n",
       "  border-bottom: 2px solid var(--sklearn-color-text-on-default-background);\n",
       "  flex-grow: 1;\n",
       "}\n",
       "\n",
       "#sk-container-id-3 div.sk-parallel {\n",
       "  display: flex;\n",
       "  align-items: stretch;\n",
       "  justify-content: center;\n",
       "  background-color: var(--sklearn-color-background);\n",
       "  position: relative;\n",
       "}\n",
       "\n",
       "#sk-container-id-3 div.sk-parallel-item {\n",
       "  display: flex;\n",
       "  flex-direction: column;\n",
       "}\n",
       "\n",
       "#sk-container-id-3 div.sk-parallel-item:first-child::after {\n",
       "  align-self: flex-end;\n",
       "  width: 50%;\n",
       "}\n",
       "\n",
       "#sk-container-id-3 div.sk-parallel-item:last-child::after {\n",
       "  align-self: flex-start;\n",
       "  width: 50%;\n",
       "}\n",
       "\n",
       "#sk-container-id-3 div.sk-parallel-item:only-child::after {\n",
       "  width: 0;\n",
       "}\n",
       "\n",
       "/* Serial-specific style estimator block */\n",
       "\n",
       "#sk-container-id-3 div.sk-serial {\n",
       "  display: flex;\n",
       "  flex-direction: column;\n",
       "  align-items: center;\n",
       "  background-color: var(--sklearn-color-background);\n",
       "  padding-right: 1em;\n",
       "  padding-left: 1em;\n",
       "}\n",
       "\n",
       "\n",
       "/* Toggleable style: style used for estimator/Pipeline/ColumnTransformer box that is\n",
       "clickable and can be expanded/collapsed.\n",
       "- Pipeline and ColumnTransformer use this feature and define the default style\n",
       "- Estimators will overwrite some part of the style using the `sk-estimator` class\n",
       "*/\n",
       "\n",
       "/* Pipeline and ColumnTransformer style (default) */\n",
       "\n",
       "#sk-container-id-3 div.sk-toggleable {\n",
       "  /* Default theme specific background. It is overwritten whether we have a\n",
       "  specific estimator or a Pipeline/ColumnTransformer */\n",
       "  background-color: var(--sklearn-color-background);\n",
       "}\n",
       "\n",
       "/* Toggleable label */\n",
       "#sk-container-id-3 label.sk-toggleable__label {\n",
       "  cursor: pointer;\n",
       "  display: block;\n",
       "  width: 100%;\n",
       "  margin-bottom: 0;\n",
       "  padding: 0.5em;\n",
       "  box-sizing: border-box;\n",
       "  text-align: center;\n",
       "}\n",
       "\n",
       "#sk-container-id-3 label.sk-toggleable__label-arrow:before {\n",
       "  /* Arrow on the left of the label */\n",
       "  content: \"▸\";\n",
       "  float: left;\n",
       "  margin-right: 0.25em;\n",
       "  color: var(--sklearn-color-icon);\n",
       "}\n",
       "\n",
       "#sk-container-id-3 label.sk-toggleable__label-arrow:hover:before {\n",
       "  color: var(--sklearn-color-text);\n",
       "}\n",
       "\n",
       "/* Toggleable content - dropdown */\n",
       "\n",
       "#sk-container-id-3 div.sk-toggleable__content {\n",
       "  max-height: 0;\n",
       "  max-width: 0;\n",
       "  overflow: hidden;\n",
       "  text-align: left;\n",
       "  /* unfitted */\n",
       "  background-color: var(--sklearn-color-unfitted-level-0);\n",
       "}\n",
       "\n",
       "#sk-container-id-3 div.sk-toggleable__content.fitted {\n",
       "  /* fitted */\n",
       "  background-color: var(--sklearn-color-fitted-level-0);\n",
       "}\n",
       "\n",
       "#sk-container-id-3 div.sk-toggleable__content pre {\n",
       "  margin: 0.2em;\n",
       "  border-radius: 0.25em;\n",
       "  color: var(--sklearn-color-text);\n",
       "  /* unfitted */\n",
       "  background-color: var(--sklearn-color-unfitted-level-0);\n",
       "}\n",
       "\n",
       "#sk-container-id-3 div.sk-toggleable__content.fitted pre {\n",
       "  /* unfitted */\n",
       "  background-color: var(--sklearn-color-fitted-level-0);\n",
       "}\n",
       "\n",
       "#sk-container-id-3 input.sk-toggleable__control:checked~div.sk-toggleable__content {\n",
       "  /* Expand drop-down */\n",
       "  max-height: 200px;\n",
       "  max-width: 100%;\n",
       "  overflow: auto;\n",
       "}\n",
       "\n",
       "#sk-container-id-3 input.sk-toggleable__control:checked~label.sk-toggleable__label-arrow:before {\n",
       "  content: \"▾\";\n",
       "}\n",
       "\n",
       "/* Pipeline/ColumnTransformer-specific style */\n",
       "\n",
       "#sk-container-id-3 div.sk-label input.sk-toggleable__control:checked~label.sk-toggleable__label {\n",
       "  color: var(--sklearn-color-text);\n",
       "  background-color: var(--sklearn-color-unfitted-level-2);\n",
       "}\n",
       "\n",
       "#sk-container-id-3 div.sk-label.fitted input.sk-toggleable__control:checked~label.sk-toggleable__label {\n",
       "  background-color: var(--sklearn-color-fitted-level-2);\n",
       "}\n",
       "\n",
       "/* Estimator-specific style */\n",
       "\n",
       "/* Colorize estimator box */\n",
       "#sk-container-id-3 div.sk-estimator input.sk-toggleable__control:checked~label.sk-toggleable__label {\n",
       "  /* unfitted */\n",
       "  background-color: var(--sklearn-color-unfitted-level-2);\n",
       "}\n",
       "\n",
       "#sk-container-id-3 div.sk-estimator.fitted input.sk-toggleable__control:checked~label.sk-toggleable__label {\n",
       "  /* fitted */\n",
       "  background-color: var(--sklearn-color-fitted-level-2);\n",
       "}\n",
       "\n",
       "#sk-container-id-3 div.sk-label label.sk-toggleable__label,\n",
       "#sk-container-id-3 div.sk-label label {\n",
       "  /* The background is the default theme color */\n",
       "  color: var(--sklearn-color-text-on-default-background);\n",
       "}\n",
       "\n",
       "/* On hover, darken the color of the background */\n",
       "#sk-container-id-3 div.sk-label:hover label.sk-toggleable__label {\n",
       "  color: var(--sklearn-color-text);\n",
       "  background-color: var(--sklearn-color-unfitted-level-2);\n",
       "}\n",
       "\n",
       "/* Label box, darken color on hover, fitted */\n",
       "#sk-container-id-3 div.sk-label.fitted:hover label.sk-toggleable__label.fitted {\n",
       "  color: var(--sklearn-color-text);\n",
       "  background-color: var(--sklearn-color-fitted-level-2);\n",
       "}\n",
       "\n",
       "/* Estimator label */\n",
       "\n",
       "#sk-container-id-3 div.sk-label label {\n",
       "  font-family: monospace;\n",
       "  font-weight: bold;\n",
       "  display: inline-block;\n",
       "  line-height: 1.2em;\n",
       "}\n",
       "\n",
       "#sk-container-id-3 div.sk-label-container {\n",
       "  text-align: center;\n",
       "}\n",
       "\n",
       "/* Estimator-specific */\n",
       "#sk-container-id-3 div.sk-estimator {\n",
       "  font-family: monospace;\n",
       "  border: 1px dotted var(--sklearn-color-border-box);\n",
       "  border-radius: 0.25em;\n",
       "  box-sizing: border-box;\n",
       "  margin-bottom: 0.5em;\n",
       "  /* unfitted */\n",
       "  background-color: var(--sklearn-color-unfitted-level-0);\n",
       "}\n",
       "\n",
       "#sk-container-id-3 div.sk-estimator.fitted {\n",
       "  /* fitted */\n",
       "  background-color: var(--sklearn-color-fitted-level-0);\n",
       "}\n",
       "\n",
       "/* on hover */\n",
       "#sk-container-id-3 div.sk-estimator:hover {\n",
       "  /* unfitted */\n",
       "  background-color: var(--sklearn-color-unfitted-level-2);\n",
       "}\n",
       "\n",
       "#sk-container-id-3 div.sk-estimator.fitted:hover {\n",
       "  /* fitted */\n",
       "  background-color: var(--sklearn-color-fitted-level-2);\n",
       "}\n",
       "\n",
       "/* Specification for estimator info (e.g. \"i\" and \"?\") */\n",
       "\n",
       "/* Common style for \"i\" and \"?\" */\n",
       "\n",
       ".sk-estimator-doc-link,\n",
       "a:link.sk-estimator-doc-link,\n",
       "a:visited.sk-estimator-doc-link {\n",
       "  float: right;\n",
       "  font-size: smaller;\n",
       "  line-height: 1em;\n",
       "  font-family: monospace;\n",
       "  background-color: var(--sklearn-color-background);\n",
       "  border-radius: 1em;\n",
       "  height: 1em;\n",
       "  width: 1em;\n",
       "  text-decoration: none !important;\n",
       "  margin-left: 1ex;\n",
       "  /* unfitted */\n",
       "  border: var(--sklearn-color-unfitted-level-1) 1pt solid;\n",
       "  color: var(--sklearn-color-unfitted-level-1);\n",
       "}\n",
       "\n",
       ".sk-estimator-doc-link.fitted,\n",
       "a:link.sk-estimator-doc-link.fitted,\n",
       "a:visited.sk-estimator-doc-link.fitted {\n",
       "  /* fitted */\n",
       "  border: var(--sklearn-color-fitted-level-1) 1pt solid;\n",
       "  color: var(--sklearn-color-fitted-level-1);\n",
       "}\n",
       "\n",
       "/* On hover */\n",
       "div.sk-estimator:hover .sk-estimator-doc-link:hover,\n",
       ".sk-estimator-doc-link:hover,\n",
       "div.sk-label-container:hover .sk-estimator-doc-link:hover,\n",
       ".sk-estimator-doc-link:hover {\n",
       "  /* unfitted */\n",
       "  background-color: var(--sklearn-color-unfitted-level-3);\n",
       "  color: var(--sklearn-color-background);\n",
       "  text-decoration: none;\n",
       "}\n",
       "\n",
       "div.sk-estimator.fitted:hover .sk-estimator-doc-link.fitted:hover,\n",
       ".sk-estimator-doc-link.fitted:hover,\n",
       "div.sk-label-container:hover .sk-estimator-doc-link.fitted:hover,\n",
       ".sk-estimator-doc-link.fitted:hover {\n",
       "  /* fitted */\n",
       "  background-color: var(--sklearn-color-fitted-level-3);\n",
       "  color: var(--sklearn-color-background);\n",
       "  text-decoration: none;\n",
       "}\n",
       "\n",
       "/* Span, style for the box shown on hovering the info icon */\n",
       ".sk-estimator-doc-link span {\n",
       "  display: none;\n",
       "  z-index: 9999;\n",
       "  position: relative;\n",
       "  font-weight: normal;\n",
       "  right: .2ex;\n",
       "  padding: .5ex;\n",
       "  margin: .5ex;\n",
       "  width: min-content;\n",
       "  min-width: 20ex;\n",
       "  max-width: 50ex;\n",
       "  color: var(--sklearn-color-text);\n",
       "  box-shadow: 2pt 2pt 4pt #999;\n",
       "  /* unfitted */\n",
       "  background: var(--sklearn-color-unfitted-level-0);\n",
       "  border: .5pt solid var(--sklearn-color-unfitted-level-3);\n",
       "}\n",
       "\n",
       ".sk-estimator-doc-link.fitted span {\n",
       "  /* fitted */\n",
       "  background: var(--sklearn-color-fitted-level-0);\n",
       "  border: var(--sklearn-color-fitted-level-3);\n",
       "}\n",
       "\n",
       ".sk-estimator-doc-link:hover span {\n",
       "  display: block;\n",
       "}\n",
       "\n",
       "/* \"?\"-specific style due to the `<a>` HTML tag */\n",
       "\n",
       "#sk-container-id-3 a.estimator_doc_link {\n",
       "  float: right;\n",
       "  font-size: 1rem;\n",
       "  line-height: 1em;\n",
       "  font-family: monospace;\n",
       "  background-color: var(--sklearn-color-background);\n",
       "  border-radius: 1rem;\n",
       "  height: 1rem;\n",
       "  width: 1rem;\n",
       "  text-decoration: none;\n",
       "  /* unfitted */\n",
       "  color: var(--sklearn-color-unfitted-level-1);\n",
       "  border: var(--sklearn-color-unfitted-level-1) 1pt solid;\n",
       "}\n",
       "\n",
       "#sk-container-id-3 a.estimator_doc_link.fitted {\n",
       "  /* fitted */\n",
       "  border: var(--sklearn-color-fitted-level-1) 1pt solid;\n",
       "  color: var(--sklearn-color-fitted-level-1);\n",
       "}\n",
       "\n",
       "/* On hover */\n",
       "#sk-container-id-3 a.estimator_doc_link:hover {\n",
       "  /* unfitted */\n",
       "  background-color: var(--sklearn-color-unfitted-level-3);\n",
       "  color: var(--sklearn-color-background);\n",
       "  text-decoration: none;\n",
       "}\n",
       "\n",
       "#sk-container-id-3 a.estimator_doc_link.fitted:hover {\n",
       "  /* fitted */\n",
       "  background-color: var(--sklearn-color-fitted-level-3);\n",
       "}\n",
       "</style><div id=\"sk-container-id-3\" class=\"sk-top-container\"><div class=\"sk-text-repr-fallback\"><pre>GridSearchCV(cv=TimeSeriesSplit(gap=0, max_train_size=None, n_splits=5, test_size=None),\n",
       "             estimator=RandomForestClassifier(n_jobs=-1, random_state=42),\n",
       "             n_jobs=-1,\n",
       "             param_grid={&#x27;max_depth&#x27;: [2, 3, 4, 5],\n",
       "                         &#x27;min_samples_leaf&#x27;: [1, 2, 3, 4],\n",
       "                         &#x27;n_estimators&#x27;: [50, 75, 100, 125, 150]},\n",
       "             scoring=&#x27;accuracy&#x27;)</pre><b>In a Jupyter environment, please rerun this cell to show the HTML representation or trust the notebook. <br />On GitHub, the HTML representation is unable to render, please try loading this page with nbviewer.org.</b></div><div class=\"sk-container\" hidden><div class=\"sk-item sk-dashed-wrapped\"><div class=\"sk-label-container\"><div class=\"sk-label fitted sk-toggleable\"><input class=\"sk-toggleable__control sk-hidden--visually\" id=\"sk-estimator-id-5\" type=\"checkbox\" ><label for=\"sk-estimator-id-5\" class=\"sk-toggleable__label fitted sk-toggleable__label-arrow fitted\">&nbsp;&nbsp;GridSearchCV<a class=\"sk-estimator-doc-link fitted\" rel=\"noreferrer\" target=\"_blank\" href=\"https://scikit-learn.org/1.5/modules/generated/sklearn.model_selection.GridSearchCV.html\">?<span>Documentation for GridSearchCV</span></a><span class=\"sk-estimator-doc-link fitted\">i<span>Fitted</span></span></label><div class=\"sk-toggleable__content fitted\"><pre>GridSearchCV(cv=TimeSeriesSplit(gap=0, max_train_size=None, n_splits=5, test_size=None),\n",
       "             estimator=RandomForestClassifier(n_jobs=-1, random_state=42),\n",
       "             n_jobs=-1,\n",
       "             param_grid={&#x27;max_depth&#x27;: [2, 3, 4, 5],\n",
       "                         &#x27;min_samples_leaf&#x27;: [1, 2, 3, 4],\n",
       "                         &#x27;n_estimators&#x27;: [50, 75, 100, 125, 150]},\n",
       "             scoring=&#x27;accuracy&#x27;)</pre></div> </div></div><div class=\"sk-parallel\"><div class=\"sk-parallel-item\"><div class=\"sk-item\"><div class=\"sk-label-container\"><div class=\"sk-label fitted sk-toggleable\"><input class=\"sk-toggleable__control sk-hidden--visually\" id=\"sk-estimator-id-6\" type=\"checkbox\" ><label for=\"sk-estimator-id-6\" class=\"sk-toggleable__label fitted sk-toggleable__label-arrow fitted\">best_estimator_: RandomForestClassifier</label><div class=\"sk-toggleable__content fitted\"><pre>RandomForestClassifier(max_depth=2, n_estimators=75, n_jobs=-1, random_state=42)</pre></div> </div></div><div class=\"sk-serial\"><div class=\"sk-item\"><div class=\"sk-estimator fitted sk-toggleable\"><input class=\"sk-toggleable__control sk-hidden--visually\" id=\"sk-estimator-id-7\" type=\"checkbox\" ><label for=\"sk-estimator-id-7\" class=\"sk-toggleable__label fitted sk-toggleable__label-arrow fitted\">&nbsp;RandomForestClassifier<a class=\"sk-estimator-doc-link fitted\" rel=\"noreferrer\" target=\"_blank\" href=\"https://scikit-learn.org/1.5/modules/generated/sklearn.ensemble.RandomForestClassifier.html\">?<span>Documentation for RandomForestClassifier</span></a></label><div class=\"sk-toggleable__content fitted\"><pre>RandomForestClassifier(max_depth=2, n_estimators=75, n_jobs=-1, random_state=42)</pre></div> </div></div></div></div></div></div></div></div></div>"
      ],
      "text/plain": [
       "GridSearchCV(cv=TimeSeriesSplit(gap=0, max_train_size=None, n_splits=5, test_size=None),\n",
       "             estimator=RandomForestClassifier(n_jobs=-1, random_state=42),\n",
       "             n_jobs=-1,\n",
       "             param_grid={'max_depth': [2, 3, 4, 5],\n",
       "                         'min_samples_leaf': [1, 2, 3, 4],\n",
       "                         'n_estimators': [50, 75, 100, 125, 150]},\n",
       "             scoring='accuracy')"
      ]
     },
     "execution_count": 72,
     "metadata": {},
     "output_type": "execute_result"
    }
   ],
   "source": [
    "model = RandomForestClassifier(random_state=RANDOM_SEED, n_jobs=-1)\n",
    "\n",
    "search = GridSearchCV(model, grid, n_jobs=-1, cv=tscv, scoring='accuracy')\n",
    "\n",
    "search.fit(X_train_val_reduced, y_train_val)"
   ]
  },
  {
   "cell_type": "code",
   "execution_count": 73,
   "metadata": {},
   "outputs": [
    {
     "data": {
      "text/html": [
       "<div>\n",
       "<style scoped>\n",
       "    .dataframe tbody tr th:only-of-type {\n",
       "        vertical-align: middle;\n",
       "    }\n",
       "\n",
       "    .dataframe tbody tr th {\n",
       "        vertical-align: top;\n",
       "    }\n",
       "\n",
       "    .dataframe thead th {\n",
       "        text-align: right;\n",
       "    }\n",
       "</style>\n",
       "<table border=\"1\" class=\"dataframe\">\n",
       "  <thead>\n",
       "    <tr style=\"text-align: right;\">\n",
       "      <th></th>\n",
       "      <th>mean_fit_time</th>\n",
       "      <th>std_fit_time</th>\n",
       "      <th>mean_score_time</th>\n",
       "      <th>std_score_time</th>\n",
       "      <th>param_max_depth</th>\n",
       "      <th>param_min_samples_leaf</th>\n",
       "      <th>param_n_estimators</th>\n",
       "      <th>params</th>\n",
       "      <th>split0_test_score</th>\n",
       "      <th>split1_test_score</th>\n",
       "      <th>split2_test_score</th>\n",
       "      <th>split3_test_score</th>\n",
       "      <th>split4_test_score</th>\n",
       "      <th>mean_test_score</th>\n",
       "      <th>std_test_score</th>\n",
       "      <th>rank_test_score</th>\n",
       "    </tr>\n",
       "  </thead>\n",
       "  <tbody>\n",
       "    <tr>\n",
       "      <th>1</th>\n",
       "      <td>0.410309</td>\n",
       "      <td>0.012944</td>\n",
       "      <td>0.031193</td>\n",
       "      <td>0.002356</td>\n",
       "      <td>2</td>\n",
       "      <td>1</td>\n",
       "      <td>75</td>\n",
       "      <td>{'max_depth': 2, 'min_samples_leaf': 1, 'n_est...</td>\n",
       "      <td>0.505185</td>\n",
       "      <td>0.520000</td>\n",
       "      <td>0.610370</td>\n",
       "      <td>0.564444</td>\n",
       "      <td>0.580741</td>\n",
       "      <td>0.556148</td>\n",
       "      <td>0.038775</td>\n",
       "      <td>1</td>\n",
       "    </tr>\n",
       "    <tr>\n",
       "      <th>11</th>\n",
       "      <td>0.522667</td>\n",
       "      <td>0.190890</td>\n",
       "      <td>0.073369</td>\n",
       "      <td>0.013299</td>\n",
       "      <td>2</td>\n",
       "      <td>3</td>\n",
       "      <td>75</td>\n",
       "      <td>{'max_depth': 2, 'min_samples_leaf': 3, 'n_est...</td>\n",
       "      <td>0.499259</td>\n",
       "      <td>0.518519</td>\n",
       "      <td>0.616296</td>\n",
       "      <td>0.564444</td>\n",
       "      <td>0.580741</td>\n",
       "      <td>0.555852</td>\n",
       "      <td>0.042293</td>\n",
       "      <td>2</td>\n",
       "    </tr>\n",
       "    <tr>\n",
       "      <th>19</th>\n",
       "      <td>0.659243</td>\n",
       "      <td>0.093198</td>\n",
       "      <td>0.053401</td>\n",
       "      <td>0.021600</td>\n",
       "      <td>2</td>\n",
       "      <td>4</td>\n",
       "      <td>150</td>\n",
       "      <td>{'max_depth': 2, 'min_samples_leaf': 4, 'n_est...</td>\n",
       "      <td>0.481481</td>\n",
       "      <td>0.536296</td>\n",
       "      <td>0.614815</td>\n",
       "      <td>0.564444</td>\n",
       "      <td>0.580741</td>\n",
       "      <td>0.555556</td>\n",
       "      <td>0.044906</td>\n",
       "      <td>3</td>\n",
       "    </tr>\n",
       "    <tr>\n",
       "      <th>2</th>\n",
       "      <td>0.484883</td>\n",
       "      <td>0.049003</td>\n",
       "      <td>0.041431</td>\n",
       "      <td>0.012173</td>\n",
       "      <td>2</td>\n",
       "      <td>1</td>\n",
       "      <td>100</td>\n",
       "      <td>{'max_depth': 2, 'min_samples_leaf': 1, 'n_est...</td>\n",
       "      <td>0.499259</td>\n",
       "      <td>0.525926</td>\n",
       "      <td>0.607407</td>\n",
       "      <td>0.564444</td>\n",
       "      <td>0.580741</td>\n",
       "      <td>0.555556</td>\n",
       "      <td>0.038598</td>\n",
       "      <td>3</td>\n",
       "    </tr>\n",
       "    <tr>\n",
       "      <th>14</th>\n",
       "      <td>0.931048</td>\n",
       "      <td>0.098633</td>\n",
       "      <td>0.061184</td>\n",
       "      <td>0.018750</td>\n",
       "      <td>2</td>\n",
       "      <td>3</td>\n",
       "      <td>150</td>\n",
       "      <td>{'max_depth': 2, 'min_samples_leaf': 3, 'n_est...</td>\n",
       "      <td>0.480000</td>\n",
       "      <td>0.536296</td>\n",
       "      <td>0.614815</td>\n",
       "      <td>0.564444</td>\n",
       "      <td>0.580741</td>\n",
       "      <td>0.555259</td>\n",
       "      <td>0.045396</td>\n",
       "      <td>5</td>\n",
       "    </tr>\n",
       "  </tbody>\n",
       "</table>\n",
       "</div>"
      ],
      "text/plain": [
       "    mean_fit_time  std_fit_time  mean_score_time  std_score_time  \\\n",
       "1        0.410309      0.012944         0.031193        0.002356   \n",
       "11       0.522667      0.190890         0.073369        0.013299   \n",
       "19       0.659243      0.093198         0.053401        0.021600   \n",
       "2        0.484883      0.049003         0.041431        0.012173   \n",
       "14       0.931048      0.098633         0.061184        0.018750   \n",
       "\n",
       "    param_max_depth  param_min_samples_leaf  param_n_estimators  \\\n",
       "1                 2                       1                  75   \n",
       "11                2                       3                  75   \n",
       "19                2                       4                 150   \n",
       "2                 2                       1                 100   \n",
       "14                2                       3                 150   \n",
       "\n",
       "                                               params  split0_test_score  \\\n",
       "1   {'max_depth': 2, 'min_samples_leaf': 1, 'n_est...           0.505185   \n",
       "11  {'max_depth': 2, 'min_samples_leaf': 3, 'n_est...           0.499259   \n",
       "19  {'max_depth': 2, 'min_samples_leaf': 4, 'n_est...           0.481481   \n",
       "2   {'max_depth': 2, 'min_samples_leaf': 1, 'n_est...           0.499259   \n",
       "14  {'max_depth': 2, 'min_samples_leaf': 3, 'n_est...           0.480000   \n",
       "\n",
       "    split1_test_score  split2_test_score  split3_test_score  \\\n",
       "1            0.520000           0.610370           0.564444   \n",
       "11           0.518519           0.616296           0.564444   \n",
       "19           0.536296           0.614815           0.564444   \n",
       "2            0.525926           0.607407           0.564444   \n",
       "14           0.536296           0.614815           0.564444   \n",
       "\n",
       "    split4_test_score  mean_test_score  std_test_score  rank_test_score  \n",
       "1            0.580741         0.556148        0.038775                1  \n",
       "11           0.580741         0.555852        0.042293                2  \n",
       "19           0.580741         0.555556        0.044906                3  \n",
       "2            0.580741         0.555556        0.038598                3  \n",
       "14           0.580741         0.555259        0.045396                5  "
      ]
     },
     "execution_count": 73,
     "metadata": {},
     "output_type": "execute_result"
    }
   ],
   "source": [
    "pd.DataFrame(search.cv_results_).sort_values(\"rank_test_score\").head()"
   ]
  },
  {
   "cell_type": "code",
   "execution_count": 74,
   "metadata": {},
   "outputs": [
    {
     "data": {
      "text/plain": [
       "{'max_depth': 2, 'min_samples_leaf': 1, 'n_estimators': 75}"
      ]
     },
     "execution_count": 74,
     "metadata": {},
     "output_type": "execute_result"
    }
   ],
   "source": [
    "search.best_params_"
   ]
  },
  {
   "cell_type": "markdown",
   "metadata": {},
   "source": [
    "Train a new classifier on the reduced feature set with the best hyperparameters combination from the new grid search and then inspect its accuracy on the test set (with the **reduced** feature set)."
   ]
  },
  {
   "cell_type": "code",
   "execution_count": 75,
   "metadata": {},
   "outputs": [
    {
     "data": {
      "text/html": [
       "<style>#sk-container-id-4 {\n",
       "  /* Definition of color scheme common for light and dark mode */\n",
       "  --sklearn-color-text: black;\n",
       "  --sklearn-color-line: gray;\n",
       "  /* Definition of color scheme for unfitted estimators */\n",
       "  --sklearn-color-unfitted-level-0: #fff5e6;\n",
       "  --sklearn-color-unfitted-level-1: #f6e4d2;\n",
       "  --sklearn-color-unfitted-level-2: #ffe0b3;\n",
       "  --sklearn-color-unfitted-level-3: chocolate;\n",
       "  /* Definition of color scheme for fitted estimators */\n",
       "  --sklearn-color-fitted-level-0: #f0f8ff;\n",
       "  --sklearn-color-fitted-level-1: #d4ebff;\n",
       "  --sklearn-color-fitted-level-2: #b3dbfd;\n",
       "  --sklearn-color-fitted-level-3: cornflowerblue;\n",
       "\n",
       "  /* Specific color for light theme */\n",
       "  --sklearn-color-text-on-default-background: var(--sg-text-color, var(--theme-code-foreground, var(--jp-content-font-color1, black)));\n",
       "  --sklearn-color-background: var(--sg-background-color, var(--theme-background, var(--jp-layout-color0, white)));\n",
       "  --sklearn-color-border-box: var(--sg-text-color, var(--theme-code-foreground, var(--jp-content-font-color1, black)));\n",
       "  --sklearn-color-icon: #696969;\n",
       "\n",
       "  @media (prefers-color-scheme: dark) {\n",
       "    /* Redefinition of color scheme for dark theme */\n",
       "    --sklearn-color-text-on-default-background: var(--sg-text-color, var(--theme-code-foreground, var(--jp-content-font-color1, white)));\n",
       "    --sklearn-color-background: var(--sg-background-color, var(--theme-background, var(--jp-layout-color0, #111)));\n",
       "    --sklearn-color-border-box: var(--sg-text-color, var(--theme-code-foreground, var(--jp-content-font-color1, white)));\n",
       "    --sklearn-color-icon: #878787;\n",
       "  }\n",
       "}\n",
       "\n",
       "#sk-container-id-4 {\n",
       "  color: var(--sklearn-color-text);\n",
       "}\n",
       "\n",
       "#sk-container-id-4 pre {\n",
       "  padding: 0;\n",
       "}\n",
       "\n",
       "#sk-container-id-4 input.sk-hidden--visually {\n",
       "  border: 0;\n",
       "  clip: rect(1px 1px 1px 1px);\n",
       "  clip: rect(1px, 1px, 1px, 1px);\n",
       "  height: 1px;\n",
       "  margin: -1px;\n",
       "  overflow: hidden;\n",
       "  padding: 0;\n",
       "  position: absolute;\n",
       "  width: 1px;\n",
       "}\n",
       "\n",
       "#sk-container-id-4 div.sk-dashed-wrapped {\n",
       "  border: 1px dashed var(--sklearn-color-line);\n",
       "  margin: 0 0.4em 0.5em 0.4em;\n",
       "  box-sizing: border-box;\n",
       "  padding-bottom: 0.4em;\n",
       "  background-color: var(--sklearn-color-background);\n",
       "}\n",
       "\n",
       "#sk-container-id-4 div.sk-container {\n",
       "  /* jupyter's `normalize.less` sets `[hidden] { display: none; }`\n",
       "     but bootstrap.min.css set `[hidden] { display: none !important; }`\n",
       "     so we also need the `!important` here to be able to override the\n",
       "     default hidden behavior on the sphinx rendered scikit-learn.org.\n",
       "     See: https://github.com/scikit-learn/scikit-learn/issues/21755 */\n",
       "  display: inline-block !important;\n",
       "  position: relative;\n",
       "}\n",
       "\n",
       "#sk-container-id-4 div.sk-text-repr-fallback {\n",
       "  display: none;\n",
       "}\n",
       "\n",
       "div.sk-parallel-item,\n",
       "div.sk-serial,\n",
       "div.sk-item {\n",
       "  /* draw centered vertical line to link estimators */\n",
       "  background-image: linear-gradient(var(--sklearn-color-text-on-default-background), var(--sklearn-color-text-on-default-background));\n",
       "  background-size: 2px 100%;\n",
       "  background-repeat: no-repeat;\n",
       "  background-position: center center;\n",
       "}\n",
       "\n",
       "/* Parallel-specific style estimator block */\n",
       "\n",
       "#sk-container-id-4 div.sk-parallel-item::after {\n",
       "  content: \"\";\n",
       "  width: 100%;\n",
       "  border-bottom: 2px solid var(--sklearn-color-text-on-default-background);\n",
       "  flex-grow: 1;\n",
       "}\n",
       "\n",
       "#sk-container-id-4 div.sk-parallel {\n",
       "  display: flex;\n",
       "  align-items: stretch;\n",
       "  justify-content: center;\n",
       "  background-color: var(--sklearn-color-background);\n",
       "  position: relative;\n",
       "}\n",
       "\n",
       "#sk-container-id-4 div.sk-parallel-item {\n",
       "  display: flex;\n",
       "  flex-direction: column;\n",
       "}\n",
       "\n",
       "#sk-container-id-4 div.sk-parallel-item:first-child::after {\n",
       "  align-self: flex-end;\n",
       "  width: 50%;\n",
       "}\n",
       "\n",
       "#sk-container-id-4 div.sk-parallel-item:last-child::after {\n",
       "  align-self: flex-start;\n",
       "  width: 50%;\n",
       "}\n",
       "\n",
       "#sk-container-id-4 div.sk-parallel-item:only-child::after {\n",
       "  width: 0;\n",
       "}\n",
       "\n",
       "/* Serial-specific style estimator block */\n",
       "\n",
       "#sk-container-id-4 div.sk-serial {\n",
       "  display: flex;\n",
       "  flex-direction: column;\n",
       "  align-items: center;\n",
       "  background-color: var(--sklearn-color-background);\n",
       "  padding-right: 1em;\n",
       "  padding-left: 1em;\n",
       "}\n",
       "\n",
       "\n",
       "/* Toggleable style: style used for estimator/Pipeline/ColumnTransformer box that is\n",
       "clickable and can be expanded/collapsed.\n",
       "- Pipeline and ColumnTransformer use this feature and define the default style\n",
       "- Estimators will overwrite some part of the style using the `sk-estimator` class\n",
       "*/\n",
       "\n",
       "/* Pipeline and ColumnTransformer style (default) */\n",
       "\n",
       "#sk-container-id-4 div.sk-toggleable {\n",
       "  /* Default theme specific background. It is overwritten whether we have a\n",
       "  specific estimator or a Pipeline/ColumnTransformer */\n",
       "  background-color: var(--sklearn-color-background);\n",
       "}\n",
       "\n",
       "/* Toggleable label */\n",
       "#sk-container-id-4 label.sk-toggleable__label {\n",
       "  cursor: pointer;\n",
       "  display: block;\n",
       "  width: 100%;\n",
       "  margin-bottom: 0;\n",
       "  padding: 0.5em;\n",
       "  box-sizing: border-box;\n",
       "  text-align: center;\n",
       "}\n",
       "\n",
       "#sk-container-id-4 label.sk-toggleable__label-arrow:before {\n",
       "  /* Arrow on the left of the label */\n",
       "  content: \"▸\";\n",
       "  float: left;\n",
       "  margin-right: 0.25em;\n",
       "  color: var(--sklearn-color-icon);\n",
       "}\n",
       "\n",
       "#sk-container-id-4 label.sk-toggleable__label-arrow:hover:before {\n",
       "  color: var(--sklearn-color-text);\n",
       "}\n",
       "\n",
       "/* Toggleable content - dropdown */\n",
       "\n",
       "#sk-container-id-4 div.sk-toggleable__content {\n",
       "  max-height: 0;\n",
       "  max-width: 0;\n",
       "  overflow: hidden;\n",
       "  text-align: left;\n",
       "  /* unfitted */\n",
       "  background-color: var(--sklearn-color-unfitted-level-0);\n",
       "}\n",
       "\n",
       "#sk-container-id-4 div.sk-toggleable__content.fitted {\n",
       "  /* fitted */\n",
       "  background-color: var(--sklearn-color-fitted-level-0);\n",
       "}\n",
       "\n",
       "#sk-container-id-4 div.sk-toggleable__content pre {\n",
       "  margin: 0.2em;\n",
       "  border-radius: 0.25em;\n",
       "  color: var(--sklearn-color-text);\n",
       "  /* unfitted */\n",
       "  background-color: var(--sklearn-color-unfitted-level-0);\n",
       "}\n",
       "\n",
       "#sk-container-id-4 div.sk-toggleable__content.fitted pre {\n",
       "  /* unfitted */\n",
       "  background-color: var(--sklearn-color-fitted-level-0);\n",
       "}\n",
       "\n",
       "#sk-container-id-4 input.sk-toggleable__control:checked~div.sk-toggleable__content {\n",
       "  /* Expand drop-down */\n",
       "  max-height: 200px;\n",
       "  max-width: 100%;\n",
       "  overflow: auto;\n",
       "}\n",
       "\n",
       "#sk-container-id-4 input.sk-toggleable__control:checked~label.sk-toggleable__label-arrow:before {\n",
       "  content: \"▾\";\n",
       "}\n",
       "\n",
       "/* Pipeline/ColumnTransformer-specific style */\n",
       "\n",
       "#sk-container-id-4 div.sk-label input.sk-toggleable__control:checked~label.sk-toggleable__label {\n",
       "  color: var(--sklearn-color-text);\n",
       "  background-color: var(--sklearn-color-unfitted-level-2);\n",
       "}\n",
       "\n",
       "#sk-container-id-4 div.sk-label.fitted input.sk-toggleable__control:checked~label.sk-toggleable__label {\n",
       "  background-color: var(--sklearn-color-fitted-level-2);\n",
       "}\n",
       "\n",
       "/* Estimator-specific style */\n",
       "\n",
       "/* Colorize estimator box */\n",
       "#sk-container-id-4 div.sk-estimator input.sk-toggleable__control:checked~label.sk-toggleable__label {\n",
       "  /* unfitted */\n",
       "  background-color: var(--sklearn-color-unfitted-level-2);\n",
       "}\n",
       "\n",
       "#sk-container-id-4 div.sk-estimator.fitted input.sk-toggleable__control:checked~label.sk-toggleable__label {\n",
       "  /* fitted */\n",
       "  background-color: var(--sklearn-color-fitted-level-2);\n",
       "}\n",
       "\n",
       "#sk-container-id-4 div.sk-label label.sk-toggleable__label,\n",
       "#sk-container-id-4 div.sk-label label {\n",
       "  /* The background is the default theme color */\n",
       "  color: var(--sklearn-color-text-on-default-background);\n",
       "}\n",
       "\n",
       "/* On hover, darken the color of the background */\n",
       "#sk-container-id-4 div.sk-label:hover label.sk-toggleable__label {\n",
       "  color: var(--sklearn-color-text);\n",
       "  background-color: var(--sklearn-color-unfitted-level-2);\n",
       "}\n",
       "\n",
       "/* Label box, darken color on hover, fitted */\n",
       "#sk-container-id-4 div.sk-label.fitted:hover label.sk-toggleable__label.fitted {\n",
       "  color: var(--sklearn-color-text);\n",
       "  background-color: var(--sklearn-color-fitted-level-2);\n",
       "}\n",
       "\n",
       "/* Estimator label */\n",
       "\n",
       "#sk-container-id-4 div.sk-label label {\n",
       "  font-family: monospace;\n",
       "  font-weight: bold;\n",
       "  display: inline-block;\n",
       "  line-height: 1.2em;\n",
       "}\n",
       "\n",
       "#sk-container-id-4 div.sk-label-container {\n",
       "  text-align: center;\n",
       "}\n",
       "\n",
       "/* Estimator-specific */\n",
       "#sk-container-id-4 div.sk-estimator {\n",
       "  font-family: monospace;\n",
       "  border: 1px dotted var(--sklearn-color-border-box);\n",
       "  border-radius: 0.25em;\n",
       "  box-sizing: border-box;\n",
       "  margin-bottom: 0.5em;\n",
       "  /* unfitted */\n",
       "  background-color: var(--sklearn-color-unfitted-level-0);\n",
       "}\n",
       "\n",
       "#sk-container-id-4 div.sk-estimator.fitted {\n",
       "  /* fitted */\n",
       "  background-color: var(--sklearn-color-fitted-level-0);\n",
       "}\n",
       "\n",
       "/* on hover */\n",
       "#sk-container-id-4 div.sk-estimator:hover {\n",
       "  /* unfitted */\n",
       "  background-color: var(--sklearn-color-unfitted-level-2);\n",
       "}\n",
       "\n",
       "#sk-container-id-4 div.sk-estimator.fitted:hover {\n",
       "  /* fitted */\n",
       "  background-color: var(--sklearn-color-fitted-level-2);\n",
       "}\n",
       "\n",
       "/* Specification for estimator info (e.g. \"i\" and \"?\") */\n",
       "\n",
       "/* Common style for \"i\" and \"?\" */\n",
       "\n",
       ".sk-estimator-doc-link,\n",
       "a:link.sk-estimator-doc-link,\n",
       "a:visited.sk-estimator-doc-link {\n",
       "  float: right;\n",
       "  font-size: smaller;\n",
       "  line-height: 1em;\n",
       "  font-family: monospace;\n",
       "  background-color: var(--sklearn-color-background);\n",
       "  border-radius: 1em;\n",
       "  height: 1em;\n",
       "  width: 1em;\n",
       "  text-decoration: none !important;\n",
       "  margin-left: 1ex;\n",
       "  /* unfitted */\n",
       "  border: var(--sklearn-color-unfitted-level-1) 1pt solid;\n",
       "  color: var(--sklearn-color-unfitted-level-1);\n",
       "}\n",
       "\n",
       ".sk-estimator-doc-link.fitted,\n",
       "a:link.sk-estimator-doc-link.fitted,\n",
       "a:visited.sk-estimator-doc-link.fitted {\n",
       "  /* fitted */\n",
       "  border: var(--sklearn-color-fitted-level-1) 1pt solid;\n",
       "  color: var(--sklearn-color-fitted-level-1);\n",
       "}\n",
       "\n",
       "/* On hover */\n",
       "div.sk-estimator:hover .sk-estimator-doc-link:hover,\n",
       ".sk-estimator-doc-link:hover,\n",
       "div.sk-label-container:hover .sk-estimator-doc-link:hover,\n",
       ".sk-estimator-doc-link:hover {\n",
       "  /* unfitted */\n",
       "  background-color: var(--sklearn-color-unfitted-level-3);\n",
       "  color: var(--sklearn-color-background);\n",
       "  text-decoration: none;\n",
       "}\n",
       "\n",
       "div.sk-estimator.fitted:hover .sk-estimator-doc-link.fitted:hover,\n",
       ".sk-estimator-doc-link.fitted:hover,\n",
       "div.sk-label-container:hover .sk-estimator-doc-link.fitted:hover,\n",
       ".sk-estimator-doc-link.fitted:hover {\n",
       "  /* fitted */\n",
       "  background-color: var(--sklearn-color-fitted-level-3);\n",
       "  color: var(--sklearn-color-background);\n",
       "  text-decoration: none;\n",
       "}\n",
       "\n",
       "/* Span, style for the box shown on hovering the info icon */\n",
       ".sk-estimator-doc-link span {\n",
       "  display: none;\n",
       "  z-index: 9999;\n",
       "  position: relative;\n",
       "  font-weight: normal;\n",
       "  right: .2ex;\n",
       "  padding: .5ex;\n",
       "  margin: .5ex;\n",
       "  width: min-content;\n",
       "  min-width: 20ex;\n",
       "  max-width: 50ex;\n",
       "  color: var(--sklearn-color-text);\n",
       "  box-shadow: 2pt 2pt 4pt #999;\n",
       "  /* unfitted */\n",
       "  background: var(--sklearn-color-unfitted-level-0);\n",
       "  border: .5pt solid var(--sklearn-color-unfitted-level-3);\n",
       "}\n",
       "\n",
       ".sk-estimator-doc-link.fitted span {\n",
       "  /* fitted */\n",
       "  background: var(--sklearn-color-fitted-level-0);\n",
       "  border: var(--sklearn-color-fitted-level-3);\n",
       "}\n",
       "\n",
       ".sk-estimator-doc-link:hover span {\n",
       "  display: block;\n",
       "}\n",
       "\n",
       "/* \"?\"-specific style due to the `<a>` HTML tag */\n",
       "\n",
       "#sk-container-id-4 a.estimator_doc_link {\n",
       "  float: right;\n",
       "  font-size: 1rem;\n",
       "  line-height: 1em;\n",
       "  font-family: monospace;\n",
       "  background-color: var(--sklearn-color-background);\n",
       "  border-radius: 1rem;\n",
       "  height: 1rem;\n",
       "  width: 1rem;\n",
       "  text-decoration: none;\n",
       "  /* unfitted */\n",
       "  color: var(--sklearn-color-unfitted-level-1);\n",
       "  border: var(--sklearn-color-unfitted-level-1) 1pt solid;\n",
       "}\n",
       "\n",
       "#sk-container-id-4 a.estimator_doc_link.fitted {\n",
       "  /* fitted */\n",
       "  border: var(--sklearn-color-fitted-level-1) 1pt solid;\n",
       "  color: var(--sklearn-color-fitted-level-1);\n",
       "}\n",
       "\n",
       "/* On hover */\n",
       "#sk-container-id-4 a.estimator_doc_link:hover {\n",
       "  /* unfitted */\n",
       "  background-color: var(--sklearn-color-unfitted-level-3);\n",
       "  color: var(--sklearn-color-background);\n",
       "  text-decoration: none;\n",
       "}\n",
       "\n",
       "#sk-container-id-4 a.estimator_doc_link.fitted:hover {\n",
       "  /* fitted */\n",
       "  background-color: var(--sklearn-color-fitted-level-3);\n",
       "}\n",
       "</style><div id=\"sk-container-id-4\" class=\"sk-top-container\"><div class=\"sk-text-repr-fallback\"><pre>RandomForestClassifier(max_depth=2, n_estimators=75)</pre><b>In a Jupyter environment, please rerun this cell to show the HTML representation or trust the notebook. <br />On GitHub, the HTML representation is unable to render, please try loading this page with nbviewer.org.</b></div><div class=\"sk-container\" hidden><div class=\"sk-item\"><div class=\"sk-estimator fitted sk-toggleable\"><input class=\"sk-toggleable__control sk-hidden--visually\" id=\"sk-estimator-id-8\" type=\"checkbox\" checked><label for=\"sk-estimator-id-8\" class=\"sk-toggleable__label fitted sk-toggleable__label-arrow fitted\">&nbsp;&nbsp;RandomForestClassifier<a class=\"sk-estimator-doc-link fitted\" rel=\"noreferrer\" target=\"_blank\" href=\"https://scikit-learn.org/1.5/modules/generated/sklearn.ensemble.RandomForestClassifier.html\">?<span>Documentation for RandomForestClassifier</span></a><span class=\"sk-estimator-doc-link fitted\">i<span>Fitted</span></span></label><div class=\"sk-toggleable__content fitted\"><pre>RandomForestClassifier(max_depth=2, n_estimators=75)</pre></div> </div></div></div></div>"
      ],
      "text/plain": [
       "RandomForestClassifier(max_depth=2, n_estimators=75)"
      ]
     },
     "execution_count": 75,
     "metadata": {},
     "output_type": "execute_result"
    }
   ],
   "source": [
    "clf = RandomForestClassifier(max_depth=search.best_params_['max_depth'],\n",
    "                            min_samples_leaf=search.best_params_['min_samples_leaf'],\n",
    "                            n_estimators=search.best_params_['n_estimators'])\n",
    "clf.fit(X_train_val_reduced, y_train_val)"
   ]
  },
  {
   "cell_type": "code",
   "execution_count": 76,
   "metadata": {},
   "outputs": [
    {
     "data": {
      "text/plain": [
       "{'accuracy': 0.5532544378698225,\n",
       " 'precision': 0.5701754385964912,\n",
       " 'recall': 0.8053097345132744,\n",
       " 'f1': 0.6676449009537784}"
      ]
     },
     "metadata": {},
     "output_type": "display_data"
    }
   ],
   "source": [
    "y_test_pred = clf.predict(X_test_reduced)\n",
    "evaluation = {\n",
    "    \"accuracy\": accuracy_score(y_test, y_test_pred),\n",
    "    \"precision\": precision_score(y_test, y_test_pred),\n",
    "    \"recall\": recall_score(y_test, y_test_pred), \n",
    "    \"f1\": f1_score(y_test, y_test_pred) \n",
    "}\n",
    "display(evaluation)"
   ]
  },
  {
   "cell_type": "code",
   "execution_count": 77,
   "metadata": {},
   "outputs": [
    {
     "name": "stdout",
     "output_type": "stream",
     "text": [
      "              precision    recall  f1-score   support\n",
      "\n",
      "           0       0.49      0.24      0.32       449\n",
      "           1       0.57      0.81      0.67       565\n",
      "\n",
      "    accuracy                           0.55      1014\n",
      "   macro avg       0.53      0.52      0.49      1014\n",
      "weighted avg       0.54      0.55      0.51      1014\n",
      "\n"
     ]
    }
   ],
   "source": [
    "print(classification_report(y_test, y_test_pred, zero_division=0))"
   ]
  },
  {
   "cell_type": "code",
   "execution_count": 78,
   "metadata": {},
   "outputs": [
    {
     "data": {
      "text/plain": [
       "array([[106, 343],\n",
       "       [110, 455]])"
      ]
     },
     "execution_count": 78,
     "metadata": {},
     "output_type": "execute_result"
    }
   ],
   "source": [
    "confusion_matrix(y_test, y_test_pred)"
   ]
  },
  {
   "cell_type": "markdown",
   "metadata": {},
   "source": [
    "How does the accuracy compare to your last trained model?"
   ]
  },
  {
   "cell_type": "markdown",
   "metadata": {},
   "source": [
    "**Answer**: Accuracy did not improve compared to the last model, and it even decreased a bit."
   ]
  },
  {
   "cell_type": "markdown",
   "metadata": {},
   "source": [
    "How does the accuracy compare to the baseline?"
   ]
  },
  {
   "cell_type": "markdown",
   "metadata": {},
   "source": [
    "**Answer**: The accuracy is slightly less than the baseline. "
   ]
  },
  {
   "cell_type": "markdown",
   "metadata": {},
   "source": [
    "Take a look at the classification report and confusion matrices on the **training data** with the **reduced feature set** as well:"
   ]
  },
  {
   "cell_type": "code",
   "execution_count": 79,
   "metadata": {},
   "outputs": [
    {
     "name": "stdout",
     "output_type": "stream",
     "text": [
      "              precision    recall  f1-score   support\n",
      "\n",
      "           0       0.86      0.02      0.04      1727\n",
      "           1       0.58      1.00      0.73      2328\n",
      "\n",
      "    accuracy                           0.58      4055\n",
      "   macro avg       0.72      0.51      0.39      4055\n",
      "weighted avg       0.70      0.58      0.44      4055\n",
      "\n"
     ]
    }
   ],
   "source": [
    "y_train_val_pred = clf.predict(X_train_val_reduced)\n",
    "print(classification_report(y_train_val, y_train_val_pred, zero_division=0))"
   ]
  },
  {
   "cell_type": "code",
   "execution_count": 80,
   "metadata": {},
   "outputs": [
    {
     "data": {
      "text/plain": [
       "array([[  36, 1691],\n",
       "       [   6, 2322]])"
      ]
     },
     "execution_count": 80,
     "metadata": {},
     "output_type": "execute_result"
    }
   ],
   "source": [
    "confusion_matrix(y_train_val, y_train_val_pred)"
   ]
  },
  {
   "cell_type": "markdown",
   "metadata": {},
   "source": [
    "What would your next course of action be? In particular, share your thoughts on the following:\n",
    "- Further optimization of this model\n",
    "- Pursuing a different trading strategy or market (instruments) altogether\n",
    "- Anything else?"
   ]
  },
  {
   "cell_type": "markdown",
   "metadata": {},
   "source": [
    "**Answer**: In this exercise, we only used a small fraction of the hyperparameters of the model (Random Forest). A better approach would be to use a larger set of hyper parameters, first to study their sensitivity, and then include them in a grid search to obtain the best fit to the training dataset."
   ]
  },
  {
   "cell_type": "markdown",
   "metadata": {},
   "source": [
    "What do you think of the fact that we used interpolated **monthly** Google Trends data to try and predict short-term (5-day) price movements? "
   ]
  },
  {
   "cell_type": "markdown",
   "metadata": {},
   "source": [
    "**Answer**: This is probably not the best use of a monthly data, here the Google Tends, as it cannot capture the fluctuations of the price movement in a short horizon (5-day), as it smoothens up the short term trends.  "
   ]
  },
  {
   "cell_type": "markdown",
   "metadata": {},
   "source": [
    "## Conclusion"
   ]
  },
  {
   "cell_type": "markdown",
   "metadata": {},
   "source": [
    "These results highlight the challenges in consistently training AI/ML models that outperform naive baseline scores in financial markets due to factors such as non-stationary data, low signal-to-noise ratio, high market efficiency, and a competitive and adversarial trading environment. It would be necessary to gather much more data (and higher quality data) than we have in this project, and to engineer much more complex features and models to eke out even a slight gain in performance. It is therefore essential to use your domain knowledge, have realistic expectations, and constantly monitor your modeling assumptions and metrics. We hope that this project enables you to do so by giving you the tools, techniques and ideas to keep in mind."
   ]
  }
 ],
 "metadata": {
  "kernelspec": {
   "display_name": "py3.11.10",
   "language": "python",
   "name": "python3"
  },
  "language_info": {
   "codemirror_mode": {
    "name": "ipython",
    "version": 3
   },
   "file_extension": ".py",
   "mimetype": "text/x-python",
   "name": "python",
   "nbconvert_exporter": "python",
   "pygments_lexer": "ipython3",
   "version": "3.11.10"
  }
 },
 "nbformat": 4,
 "nbformat_minor": 2
}
